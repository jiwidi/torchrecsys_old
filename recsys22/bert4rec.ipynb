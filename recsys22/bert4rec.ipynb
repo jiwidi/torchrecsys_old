{
 "cells": [
  {
   "cell_type": "code",
   "execution_count": 1,
   "id": "882a5bf0-f697-47d0-9f68-deeb0ee6b2fd",
   "metadata": {},
   "outputs": [],
   "source": [
    "from bert4rec import BertDataset, RECBERTO, BERTEmbedding"
   ]
  },
  {
   "cell_type": "code",
   "execution_count": 2,
   "id": "df01b3ce-715f-415e-8476-0adcedef3472",
   "metadata": {},
   "outputs": [],
   "source": [
    "import pandas as pd\n",
    "import torch\n",
    "import pytorch_lightning as pl\n",
    "from io import BytesIO\n",
    "from urllib.request import urlopen\n",
    "from zipfile import ZipFile\n",
    "from sklearn.model_selection import train_test_split\n",
    "from tqdm.notebook import tqdm\n",
    "import torch.utils.data as data\n",
    "from pytorch_lightning.callbacks import ModelCheckpoint\n",
    "import numpy as np\n",
    "from pytorch_lightning.callbacks.early_stopping import EarlyStopping\n",
    "\n",
    "from torchrecsys.datasets import InteractionsDataset, SequenceDataset\n",
    "from torchrecsys.models import BaseModel\n",
    "from torchrecsys.task import Ranking\n",
    "from torchrecsys.layers import BruteForceLayer\n",
    "import torchrecsys as trs\n",
    "\n",
    "import warnings\n",
    "warnings.filterwarnings('ignore')"
   ]
  },
  {
   "cell_type": "markdown",
   "id": "fa64de8f-981a-40c3-b5bd-3139a374f09f",
   "metadata": {},
   "source": [
    "# Data"
   ]
  },
  {
   "cell_type": "code",
   "execution_count": 3,
   "id": "2c73562b-29ae-4ab3-862a-30fae6f33ce0",
   "metadata": {},
   "outputs": [],
   "source": [
    "MAX_LEN = 10"
   ]
  },
  {
   "cell_type": "code",
   "execution_count": 4,
   "id": "ad5d9a0a-622f-41cc-a895-b74d4e8ba0b6",
   "metadata": {},
   "outputs": [],
   "source": [
    "candidates = pd.read_csv(\"data/candidate_items.csv\")\n",
    "train_purchases = pd.read_csv(\"data/train_purchases.csv\",  parse_dates=['date'])\n",
    "train_sessions = pd.read_csv(\"data/train_sessions.csv\",  parse_dates=['date'])\n",
    "\n",
    "test_sessions = pd.read_csv(\"data/test_leaderboard_sessions.csv\",  parse_dates=['date'])\n",
    "final_test = pd.read_csv(\"data/test_final_sessions.csv\")\n",
    "all_interactions = pd.concat([train_sessions, train_purchases, test_sessions], ignore_index=True)\n",
    "\n",
    "features = pd.read_csv(\"data/item_features.csv\")\n",
    "\n",
    "aux = all_interactions.copy()\n",
    "n_items = all_interactions.item_id.max()+1"
   ]
  },
  {
   "cell_type": "code",
   "execution_count": 5,
   "id": "37dee46c-b2f4-4a50-886c-fc389d6c56c7",
   "metadata": {},
   "outputs": [],
   "source": [
    "result = features.drop_duplicates(subset=['item_id', 'feature_category_id']).reset_index(drop=True).pivot(index=\"item_id\", columns=\"feature_category_id\", values=\"feature_value_id\")\n",
    "# Change the axis labels\n",
    "aux= result.index\n",
    "result = result.reset_index(drop=True)\n",
    "result.columns = [\"feature_\" + str(x) for x in result.columns]\n",
    "result[\"item_id\"]  = aux\n",
    "\n",
    "# shift column 'Name' to first position\n",
    "first_column = result.pop('item_id')\n",
    "result.insert(0, 'item_id', first_column)"
   ]
  },
  {
   "cell_type": "code",
   "execution_count": 6,
   "id": "c4a8c236-df52-44aa-ac8a-80761ec25905",
   "metadata": {},
   "outputs": [],
   "source": [
    "category_features = []\n",
    "\n",
    "for each in result.columns:\n",
    "    threshold = 0.25*len(result[each].dropna())\n",
    "    if result[each].nunique() < threshold:\n",
    "        category_features.append(each)\n",
    "\n",
    "for each in category_features:\n",
    "    result[each] = result[each].astype('category')\n",
    "    \n",
    "    \n",
    "#Drop columns with nans\n",
    "keep_columns = []\n",
    "for each in result.columns:\n",
    "    percentage_nan = result[each].isnull().sum() * 100 / len(result)\n",
    "    if percentage_nan < 50:\n",
    "        keep_columns.append(each)\n",
    "        \n",
    "result = result[keep_columns]"
   ]
  },
  {
   "cell_type": "code",
   "execution_count": 7,
   "id": "30fa4f6b-6373-4413-b667-c413cff70d89",
   "metadata": {},
   "outputs": [
    {
     "data": {
      "application/vnd.jupyter.widget-view+json": {
       "model_id": "4c63fc1ce5294fe59b4a1c37ac4bb959",
       "version_major": 2,
       "version_minor": 0
      },
      "text/plain": [
       "  0%|          | 0/23691 [00:00<?, ?it/s]"
      ]
     },
     "metadata": {},
     "output_type": "display_data"
    }
   ],
   "source": [
    "#Build catalog\n",
    "#UNUSED NOW AS WE NEED TO FIND WHAT ARE CATEGORICAL WHAT CONTINUOUS AND DO MORE ANALYSIS\n",
    "feature_catalog = {}\n",
    "for row in tqdm(result.values, total=len(result)):\n",
    "    #Replacenan with 0\n",
    "    row = np.nan_to_num(row, nan=0.0, posinf=None, neginf=None)\n",
    "    feature_catalog[row[0]] = row\n",
    "    \n",
    "feature_catalog[0] = [0 for u in range(len(result.columns))] #PAD\n",
    "feature_catalog[1] = [1 for u in range(len(result.columns))] #MAsk \n",
    "\n",
    "for u in range(30000):\n",
    "    if u not in feature_catalog:\n",
    "        feature_catalog[u] = [0 for u in range(len(result.columns))] #PAD"
   ]
  },
  {
   "cell_type": "code",
   "execution_count": 8,
   "id": "78283785-4982-4a73-9879-d535213f3a5d",
   "metadata": {},
   "outputs": [],
   "source": [
    "# Create list of browsed items in the session ordered by timestamp. WE DONT KNOW IF THE PURCHASED ITEM IS ALWAYS AFTER THE LASTEST BROWSED ITEM!! CHECK ON THIS\n",
    "all_interactions = all_interactions.sort_values(['date']).groupby('session_id')[\"item_id\"].apply(list).to_frame().reset_index()\n",
    "all_interactions = all_interactions[all_interactions['item_id'].map(len) >1]"
   ]
  },
  {
   "cell_type": "code",
   "execution_count": 9,
   "id": "cd7f524c-5378-453c-b722-d701a1c1279b",
   "metadata": {},
   "outputs": [],
   "source": [
    "class featureEmbedder(torch.nn.Module):\n",
    "    def __init__(self, n_features, embedding_size, embedding_dimensions):\n",
    "        super().__init__()\n",
    "        self.n_features = n_features\n",
    "        for feature in range(self.n_features):\n",
    "            setattr(self,f'embedding_feature_{feature}', torch.nn.Embedding(embedding_size[feature], embedding_dimensions[feature]))\n",
    "            \n",
    "            \n",
    "    def forward(self, x):\n",
    "        r = []\n",
    "        for feature in range(self.n_features):\n",
    "            aux = getattr(self,f'embedding_feature_{feature}',0)(x[:,:,feature])\n",
    "            r.append(aux)\n",
    "            \n",
    "        return torch.cat(r, dim=2)\n",
    "\n",
    "emb = featureEmbedder(17, [30000]+[1028 for u in range(17)], [256]+[16 for u in range(17)])"
   ]
  },
  {
   "cell_type": "code",
   "execution_count": 10,
   "id": "8f9fff4f-56d3-407a-b8f7-b0f4a709981a",
   "metadata": {},
   "outputs": [],
   "source": [
    "dataset = all_interactions.item_id.values\n",
    "\n",
    "train_dataset = BertDataset(\n",
    "        dataset,\n",
    "        mode=\"train\",\n",
    "        max_len=MAX_LEN,\n",
    "        num_items=n_items,\n",
    "        mask_prob=0.3,\n",
    "        item_catalog=feature_catalog,\n",
    ")\n",
    "train = data.DataLoader(\n",
    "    train_dataset,\n",
    "    batch_size=2096,\n",
    "    shuffle=True,\n",
    "    num_workers=3,\n",
    ")\n",
    "\n",
    "validate_dataset = BertDataset(\n",
    "    dataset, mode=\"validate\", max_len=MAX_LEN, num_items=n_items, item_catalog=feature_catalog,\n",
    ")\n",
    "validate = data.DataLoader(\n",
    "    validate_dataset,\n",
    "    batch_size=4192,\n",
    "    shuffle=False,\n",
    "    num_workers=6,\n",
    ")"
   ]
  },
  {
   "cell_type": "code",
   "execution_count": 11,
   "id": "258f825f-d752-43c8-b09a-e335eb7ff385",
   "metadata": {},
   "outputs": [],
   "source": [
    "np.random.shuffle(dataset[0])"
   ]
  },
  {
   "cell_type": "code",
   "execution_count": 12,
   "id": "6db2a52f-9054-428e-a72a-c5390c140037",
   "metadata": {},
   "outputs": [
    {
     "data": {
      "text/plain": [
       "torch.Size([2096, 10, 28145])"
      ]
     },
     "execution_count": 12,
     "metadata": {},
     "output_type": "execute_result"
    }
   ],
   "source": [
    "for f in train:\n",
    "    break\n",
    "\n",
    "# init model\n",
    "model = RECBERTO(\n",
    "    max_len=MAX_LEN,\n",
    "    num_items=n_items,\n",
    "    learning_rate=0.001,\n",
    "    training_metrics=False,\n",
    ")\n",
    "\n",
    "model(f[0]).shape"
   ]
  },
  {
   "cell_type": "markdown",
   "id": "6fb9c23b-2a01-427b-8fee-b0e45d03eb68",
   "metadata": {},
   "source": [
    "# Train"
   ]
  },
  {
   "cell_type": "code",
   "execution_count": 13,
   "id": "287b5d7a-5573-4109-b3c0-6e6673f7fe2c",
   "metadata": {},
   "outputs": [
    {
     "name": "stderr",
     "output_type": "stream",
     "text": [
      "GPU available: True, used: True\n",
      "TPU available: False, using: 0 TPU cores\n",
      "IPU available: False, using: 0 IPUs\n",
      "LOCAL_RANK: 0 - CUDA_VISIBLE_DEVICES: [0]\n",
      "\n",
      "  | Name               | Type             | Params\n",
      "--------------------------------------------------------\n",
      "0 | embedding          | BERTEmbedding    | 7.9 M \n",
      "1 | transformer_blocks | ModuleList       | 12.6 M\n",
      "2 | out                | Linear           | 14.4 M\n",
      "3 | criterion          | CrossEntropyLoss | 0     \n",
      "4 | acc                | Accuracy         | 0     \n",
      "5 | recall             | Recall           | 0     \n",
      "--------------------------------------------------------\n",
      "35.0 M    Trainable params\n",
      "0         Non-trainable params\n",
      "35.0 M    Total params\n",
      "139.985   Total estimated model params size (MB)\n"
     ]
    },
    {
     "data": {
      "application/vnd.jupyter.widget-view+json": {
       "model_id": "",
       "version_major": 2,
       "version_minor": 0
      },
      "text/plain": [
       "Validation sanity check: 0it [00:00, ?it/s]"
      ]
     },
     "metadata": {},
     "output_type": "display_data"
    },
    {
     "data": {
      "application/vnd.jupyter.widget-view+json": {
       "model_id": "09db4aacb7b34d93879f8a447fc0a77f",
       "version_major": 2,
       "version_minor": 0
      },
      "text/plain": [
       "Training: 0it [00:00, ?it/s]"
      ]
     },
     "metadata": {},
     "output_type": "display_data"
    },
    {
     "data": {
      "application/vnd.jupyter.widget-view+json": {
       "model_id": "",
       "version_major": 2,
       "version_minor": 0
      },
      "text/plain": [
       "Validating: 0it [00:00, ?it/s]"
      ]
     },
     "metadata": {},
     "output_type": "display_data"
    },
    {
     "data": {
      "application/vnd.jupyter.widget-view+json": {
       "model_id": "",
       "version_major": 2,
       "version_minor": 0
      },
      "text/plain": [
       "Validating: 0it [00:00, ?it/s]"
      ]
     },
     "metadata": {},
     "output_type": "display_data"
    },
    {
     "data": {
      "application/vnd.jupyter.widget-view+json": {
       "model_id": "",
       "version_major": 2,
       "version_minor": 0
      },
      "text/plain": [
       "Validating: 0it [00:00, ?it/s]"
      ]
     },
     "metadata": {},
     "output_type": "display_data"
    }
   ],
   "source": [
    "# init model\n",
    "model = RECBERTO(\n",
    "    max_len=MAX_LEN,\n",
    "    num_items=n_items,\n",
    "    learning_rate=1e-3,\n",
    "    training_metrics=False,\n",
    ")\n",
    "\n",
    "checkpoint_callback = ModelCheckpoint(\n",
    "  filename=\"best-checkpoint\",\n",
    "  save_top_k=1,\n",
    "  monitor=\"val/loss\",\n",
    "  mode=\"min\"\n",
    ")\n",
    "\n",
    "trainer = pl.Trainer(\n",
    "    auto_select_gpus=True,\n",
    "    gpus=-1,\n",
    "    max_epochs=200,\n",
    "    precision=32,\n",
    "    callbacks=[EarlyStopping(monitor=\"val/loss\", patience=3), checkpoint_callback],\n",
    "    check_val_every_n_epoch=3\n",
    ")\n",
    "\n",
    "# Train the model ⚡\n",
    "trainer.fit(model, train, validate)"
   ]
  },
  {
   "cell_type": "markdown",
   "id": "40e65d83-68af-4147-93a6-3ad0c751c6a1",
   "metadata": {},
   "source": [
    "# Score"
   ]
  },
  {
   "cell_type": "code",
   "execution_count": 14,
   "id": "25bc9ae1-9101-4bd0-ab11-98d8522f3210",
   "metadata": {},
   "outputs": [],
   "source": [
    "test_sessions = test_sessions.sort_values(['date']).groupby('session_id')[\"item_id\"].apply(list).to_frame().reset_index()"
   ]
  },
  {
   "cell_type": "code",
   "execution_count": 15,
   "id": "3a9c9923-8108-41ae-8460-ac84b529d606",
   "metadata": {},
   "outputs": [],
   "source": [
    "inference_dataset = test_sessions.item_id.values\n",
    "\n",
    "\n",
    "inference_dataset = BertDataset(\n",
    "    inference_dataset, mode=\"inference\", max_len=MAX_LEN, num_items=n_items, session_ids=test_sessions.session_id.values,  item_catalog=feature_catalog,\n",
    ")\n",
    "inference = data.DataLoader(\n",
    "    inference_dataset,\n",
    "    batch_size=1028,\n",
    "    shuffle=False,\n",
    "    num_workers=6,\n",
    ")"
   ]
  },
  {
   "cell_type": "code",
   "execution_count": 16,
   "id": "364918d9-58b5-4896-b29e-5390a71caa9a",
   "metadata": {},
   "outputs": [],
   "source": [
    "# trainer.test(model, dataloaders=inference, ckpt_path=\"best\" )"
   ]
  },
  {
   "cell_type": "code",
   "execution_count": 17,
   "id": "95944e10-1e4f-4d2d-94be-b4bb9a02119b",
   "metadata": {},
   "outputs": [],
   "source": [
    "r = pd.read_csv(\"predict.csv\")"
   ]
  },
  {
   "cell_type": "code",
   "execution_count": 18,
   "id": "f9adf272-0978-47fb-9cdc-6446ece73dc8",
   "metadata": {},
   "outputs": [
    {
     "data": {
      "text/html": [
       "<div>\n",
       "<style scoped>\n",
       "    .dataframe tbody tr th:only-of-type {\n",
       "        vertical-align: middle;\n",
       "    }\n",
       "\n",
       "    .dataframe tbody tr th {\n",
       "        vertical-align: top;\n",
       "    }\n",
       "\n",
       "    .dataframe thead th {\n",
       "        text-align: right;\n",
       "    }\n",
       "</style>\n",
       "<table border=\"1\" class=\"dataframe\">\n",
       "  <thead>\n",
       "    <tr style=\"text-align: right;\">\n",
       "      <th></th>\n",
       "      <th>session_id</th>\n",
       "      <th>item_id</th>\n",
       "      <th>rank</th>\n",
       "    </tr>\n",
       "  </thead>\n",
       "  <tbody>\n",
       "    <tr>\n",
       "      <th>0</th>\n",
       "      <td>26</td>\n",
       "      <td>3260</td>\n",
       "      <td>1</td>\n",
       "    </tr>\n",
       "    <tr>\n",
       "      <th>1</th>\n",
       "      <td>26</td>\n",
       "      <td>5383</td>\n",
       "      <td>2</td>\n",
       "    </tr>\n",
       "    <tr>\n",
       "      <th>2</th>\n",
       "      <td>26</td>\n",
       "      <td>2213</td>\n",
       "      <td>3</td>\n",
       "    </tr>\n",
       "    <tr>\n",
       "      <th>3</th>\n",
       "      <td>26</td>\n",
       "      <td>27630</td>\n",
       "      <td>4</td>\n",
       "    </tr>\n",
       "    <tr>\n",
       "      <th>4</th>\n",
       "      <td>26</td>\n",
       "      <td>7368</td>\n",
       "      <td>5</td>\n",
       "    </tr>\n",
       "    <tr>\n",
       "      <th>...</th>\n",
       "      <td>...</td>\n",
       "      <td>...</td>\n",
       "      <td>...</td>\n",
       "    </tr>\n",
       "    <tr>\n",
       "      <th>4999995</th>\n",
       "      <td>4439757</td>\n",
       "      <td>19150</td>\n",
       "      <td>96</td>\n",
       "    </tr>\n",
       "    <tr>\n",
       "      <th>4999996</th>\n",
       "      <td>4439757</td>\n",
       "      <td>26</td>\n",
       "      <td>97</td>\n",
       "    </tr>\n",
       "    <tr>\n",
       "      <th>4999997</th>\n",
       "      <td>4439757</td>\n",
       "      <td>15140</td>\n",
       "      <td>98</td>\n",
       "    </tr>\n",
       "    <tr>\n",
       "      <th>4999998</th>\n",
       "      <td>4439757</td>\n",
       "      <td>23405</td>\n",
       "      <td>99</td>\n",
       "    </tr>\n",
       "    <tr>\n",
       "      <th>4999999</th>\n",
       "      <td>4439757</td>\n",
       "      <td>7211</td>\n",
       "      <td>100</td>\n",
       "    </tr>\n",
       "  </tbody>\n",
       "</table>\n",
       "<p>5000000 rows × 3 columns</p>\n",
       "</div>"
      ],
      "text/plain": [
       "         session_id  item_id  rank\n",
       "0                26     3260     1\n",
       "1                26     5383     2\n",
       "2                26     2213     3\n",
       "3                26    27630     4\n",
       "4                26     7368     5\n",
       "...             ...      ...   ...\n",
       "4999995     4439757    19150    96\n",
       "4999996     4439757       26    97\n",
       "4999997     4439757    15140    98\n",
       "4999998     4439757    23405    99\n",
       "4999999     4439757     7211   100\n",
       "\n",
       "[5000000 rows x 3 columns]"
      ]
     },
     "execution_count": 18,
     "metadata": {},
     "output_type": "execute_result"
    }
   ],
   "source": [
    "# r[\"item_id\"] = r.item_id.apply(lambda x: x[0])\n",
    "# r = r.explode('topindices')\n",
    "# r[\"rank\"] = r.groupby([\"sessionid\"]).cumcount()+1\n",
    "r"
   ]
  },
  {
   "cell_type": "code",
   "execution_count": null,
   "id": "279d1f43-7866-414b-85f0-1090e2c7786c",
   "metadata": {},
   "outputs": [],
   "source": []
  }
 ],
 "metadata": {
  "kernelspec": {
   "display_name": "cuda",
   "language": "python",
   "name": "cuda"
  },
  "language_info": {
   "codemirror_mode": {
    "name": "ipython",
    "version": 3
   },
   "file_extension": ".py",
   "mimetype": "text/x-python",
   "name": "python",
   "nbconvert_exporter": "python",
   "pygments_lexer": "ipython3",
   "version": "3.8.12"
  }
 },
 "nbformat": 4,
 "nbformat_minor": 5
}
