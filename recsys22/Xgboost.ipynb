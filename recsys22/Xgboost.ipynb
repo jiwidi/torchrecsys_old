{
 "cells": [
  {
   "cell_type": "code",
   "execution_count": 1,
   "id": "9327362b-0032-4d2d-887e-1b7df09e8e0d",
   "metadata": {},
   "outputs": [],
   "source": [
    "import pandas as pd\n",
    "import torch\n",
    "import pytorch_lightning as pl\n",
    "from io import BytesIO\n",
    "from urllib.request import urlopen\n",
    "from zipfile import ZipFile\n",
    "from sklearn.model_selection import train_test_split\n",
    "from tqdm.notebook import tqdm\n",
    "import torch.utils.data as data\n",
    "from pytorch_lightning.callbacks import ModelCheckpoint\n",
    "import numpy as np\n",
    "from pytorch_lightning.callbacks.early_stopping import EarlyStopping\n",
    "\n",
    "from torchrecsys.datasets import InteractionsDataset, SequenceDataset\n",
    "from torchrecsys.models import BaseModel\n",
    "from torchrecsys.task import Ranking\n",
    "from torchrecsys.layers import BruteForceLayer\n",
    "import torchrecsys as trs\n",
    "import matplotlib \n",
    "from matplotlib import pyplot as plt\n",
    "import warnings\n",
    "warnings.filterwarnings('ignore')\n",
    "import xgboost as xgb\n",
    "from xgboost import XGBClassifier\n",
    "from sklearn.model_selection import train_test_split"
   ]
  },
  {
   "cell_type": "code",
   "execution_count": 2,
   "id": "6bc17381-113f-4e88-990f-1e3da7015bc6",
   "metadata": {},
   "outputs": [],
   "source": [
    "candidates = pd.read_csv(\"data/candidate_items.csv\")\n",
    "train_purchases = pd.read_csv(\"data/train_purchases.csv\",  parse_dates=['date'])\n",
    "train_sessions = pd.read_csv(\"data/train_sessions.csv\",  parse_dates=['date'])\n",
    "\n",
    "test_sessions = pd.read_csv(\"data/test_leaderboard_sessions.csv\",  parse_dates=['date'])\n",
    "final_test = pd.read_csv(\"data/test_final_sessions.csv\")\n",
    "all_interactions = pd.concat([train_sessions, train_purchases, test_sessions], ignore_index=True)\n",
    "\n",
    "features = pd.read_csv(\"data/item_features.csv\")\n",
    "\n",
    "aux = all_interactions.copy()\n",
    "n_items = all_interactions.item_id.max()+1"
   ]
  },
  {
   "cell_type": "code",
   "execution_count": 3,
   "id": "51f54572-1c57-4714-b6c4-f546e374b335",
   "metadata": {},
   "outputs": [],
   "source": [
    "import math\n",
    "\n",
    "def encode_cyclically(df, columnname):\n",
    "    norm_values = 2 * math.pi * df[columnname] / df[columnname].max()\n",
    "    df[\"sin_\"+columnname] = np.sin(norm_values)\n",
    "    df[\"cos_\"+columnname] = np.cos(norm_values)\n",
    "    df.drop([columnname],axis=1,inplace=True)\n",
    "\n",
    "train_purchases[\"hour\"] = train_purchases[\"date\"].dt.hour\n",
    "train_purchases[\"day\"] = train_purchases[\"date\"].dt.dayofyear\n",
    "train_purchases[\"dayofweek\"] = train_purchases[\"date\"].dt.dayofweek\n",
    "train_purchases[\"weekn\"] = train_purchases[\"date\"].dt.week\n",
    "train_purchases[\"month\"] = train_purchases[\"date\"].dt.month\n",
    "train_purchases[\"year\"] = train_purchases[\"date\"].dt.year\n",
    "\n",
    "encode_cyclically(train_purchases, \"hour\")\n",
    "encode_cyclically(train_purchases, \"day\")\n",
    "encode_cyclically(train_purchases, \"dayofweek\")\n",
    "encode_cyclically(train_purchases, \"weekn\")\n",
    "encode_cyclically(train_purchases, \"month\")\n",
    "\n",
    "session_feature_names = [\"year\"]\n",
    "aux_names = [\"hour\", \"day\", \"dayofweek\", \"month\"]\n",
    "for columnname in aux_names:\n",
    "    session_feature_names.append(\"sin_\"+columnname)\n",
    "    session_feature_names.append(\"cos_\"+columnname)\n",
    "    \n",
    "    \n",
    "train_purchases[\"item_id\"] = train_purchases[\"item_id\"].astype('category')"
   ]
  },
  {
   "cell_type": "code",
   "execution_count": 4,
   "id": "3858b2ee-4bbe-4d9c-8899-5775be5a3004",
   "metadata": {},
   "outputs": [],
   "source": [
    "# count_series = train_purchases[[\"weekn\",\"item_id\"]].groupby([\"weekn\",\"item_id\"]).size()\n",
    "# new_df = count_series.to_frame(name = 'size').reset_index()"
   ]
  },
  {
   "cell_type": "code",
   "execution_count": 5,
   "id": "905aef04-f96c-4630-b446-4b812f63ab2f",
   "metadata": {},
   "outputs": [],
   "source": [
    "# new_df.sort_values(by=['size'], ascending=False)"
   ]
  },
  {
   "cell_type": "code",
   "execution_count": 6,
   "id": "270d46de-7448-4fd1-a865-7505bb2170f2",
   "metadata": {},
   "outputs": [],
   "source": [
    "# Model"
   ]
  },
  {
   "cell_type": "code",
   "execution_count": 7,
   "id": "2d4fd5bb-e31a-46c8-a50b-1f27a51dbae3",
   "metadata": {},
   "outputs": [],
   "source": [
    "X = train_purchases[session_feature_names].values\n",
    "y = train_purchases[\"item_id\"].values\n",
    "\n",
    "x_train, X_test, y_train, y_test = train_test_split(X, y, test_size=0.50, random_state=1)\n",
    "\n",
    "# define the datasets to evaluate each iteration\n",
    "evalset = [(X, y)]"
   ]
  },
  {
   "cell_type": "code",
   "execution_count": 8,
   "id": "0c7dfcc2-53d9-4c50-91cf-894083ce34ab",
   "metadata": {},
   "outputs": [],
   "source": [
    "from sklearn.gaussian_process.kernels import RBF\n",
    "from sklearn.gaussian_process import GaussianProcessClassifier\n",
    "from sklearn.neighbors import KNeighborsClassifier\n",
    "from sklearn.metrics import accuracy_score, top_k_accuracy_score"
   ]
  },
  {
   "cell_type": "code",
   "execution_count": 9,
   "id": "691ccb31-ef28-454e-a119-4b9f933a8546",
   "metadata": {},
   "outputs": [],
   "source": [
    "# accuracy_score(y_test, y_pred)"
   ]
  },
  {
   "cell_type": "code",
   "execution_count": 10,
   "id": "9bf0b78a-cb43-40ca-bd68-f7a5eeb6e95a",
   "metadata": {},
   "outputs": [
    {
     "data": {
      "text/plain": [
       "RandomForestClassifier(max_depth=10, n_jobs=1, random_state=0)"
      ]
     },
     "execution_count": 10,
     "metadata": {},
     "output_type": "execute_result"
    }
   ],
   "source": [
    "from sklearn.ensemble import RandomForestClassifier\n",
    "clf = RandomForestClassifier(max_depth=5, random_state=0, n_jobs=1)\n",
    "clf.fit(x_train, y_train)"
   ]
  },
  {
   "cell_type": "code",
   "execution_count": null,
   "id": "2866ce92-93b1-47da-943f-774843e8fd95",
   "metadata": {},
   "outputs": [],
   "source": [
    "# # evaluate random forest algorithm for classification\n",
    "# from numpy import mean\n",
    "# from numpy import std\n",
    "# from sklearn.datasets import make_classification\n",
    "# from sklearn.model_selection import cross_val_score\n",
    "# from sklearn.model_selection import RepeatedStratifiedKFold\n",
    "# from sklearn.ensemble import RandomForestClassifier\n",
    "# # define dataset\n",
    "# X, y = make_classification(n_samples=1000, n_features=20, n_informative=15, n_redundant=5, random_state=3)\n",
    "# # define the model\n",
    "# model = RandomForestClassifier()\n",
    "# # evaluate the model\n",
    "# cv = RepeatedStratifiedKFold(n_splits=10, n_repeats=3, random_state=1)\n",
    "# n_scores = cross_val_score(model, X, y, scoring='accuracy', cv=cv, n_jobs=-1, error_score='raise')\n",
    "# # report performance\n",
    "# print('Accuracy: %.3f (%.3f)' % (mean(n_scores), std(n_scores)))"
   ]
  },
  {
   "cell_type": "markdown",
   "id": "f2c3cd64-2613-42b3-bac9-32d27dab2eba",
   "metadata": {},
   "source": [
    "# Score"
   ]
  },
  {
   "cell_type": "code",
   "execution_count": null,
   "id": "9e60aa2a-4f2b-409e-89ce-dc30e9719d4a",
   "metadata": {},
   "outputs": [],
   "source": [
    "test_sessions = test_sessions[[\"session_id\", \"date\"]].drop_duplicates(\"session_id\") #We remove duplicates for now, only take 1 date per session\n"
   ]
  },
  {
   "cell_type": "code",
   "execution_count": null,
   "id": "aaad1140-b5a2-453d-8072-503695223d42",
   "metadata": {},
   "outputs": [],
   "source": [
    "test_sessions = pd.read_csv(\"data/test_leaderboard_sessions.csv\",  parse_dates=['date'])\n",
    "\n",
    "import math\n",
    "\n",
    "def encode_cyclically(df, columnname):\n",
    "    norm_values = 2 * math.pi * df[columnname] / df[columnname].max()\n",
    "    df[\"sin_\"+columnname] = np.sin(norm_values)\n",
    "    df[\"cos_\"+columnname] = np.cos(norm_values)\n",
    "    df.drop([columnname],axis=1,inplace=True)\n",
    "\n",
    "test_sessions[\"hour\"] = test_sessions[\"date\"].dt.hour\n",
    "test_sessions[\"day\"] = test_sessions[\"date\"].dt.dayofyear\n",
    "test_sessions[\"dayofweek\"] = test_sessions[\"date\"].dt.dayofweek\n",
    "test_sessions[\"weekn\"] = test_sessions[\"date\"].dt.week\n",
    "test_sessions[\"month\"] = test_sessions[\"date\"].dt.month\n",
    "test_sessions[\"year\"] = test_sessions[\"date\"].dt.year\n",
    "\n",
    "encode_cyclically(test_sessions, \"hour\")\n",
    "encode_cyclically(test_sessions, \"day\")\n",
    "encode_cyclically(test_sessions, \"dayofweek\")\n",
    "encode_cyclically(test_sessions, \"weekn\")\n",
    "encode_cyclically(test_sessions, \"month\")\n",
    "\n",
    "session_feature_names = [\"year\"]\n",
    "aux_names = [\"hour\", \"day\", \"dayofweek\", \"month\"]\n",
    "for columnname in aux_names:\n",
    "    session_feature_names.append(\"sin_\"+columnname)\n",
    "    session_feature_names.append(\"cos_\"+columnname)\n",
    "    "
   ]
  },
  {
   "cell_type": "code",
   "execution_count": null,
   "id": "e000c133-7292-47c3-93d9-e030cb548acb",
   "metadata": {},
   "outputs": [],
   "source": [
    "test_sessions"
   ]
  },
  {
   "cell_type": "code",
   "execution_count": null,
   "id": "26cdd4c7-e18e-48a1-9729-a510309b6bf7",
   "metadata": {},
   "outputs": [],
   "source": []
  }
 ],
 "metadata": {
  "kernelspec": {
   "display_name": "cuda",
   "language": "python",
   "name": "cuda"
  },
  "language_info": {
   "codemirror_mode": {
    "name": "ipython",
    "version": 3
   },
   "file_extension": ".py",
   "mimetype": "text/x-python",
   "name": "python",
   "nbconvert_exporter": "python",
   "pygments_lexer": "ipython3",
   "version": "3.8.12"
  }
 },
 "nbformat": 4,
 "nbformat_minor": 5
}
