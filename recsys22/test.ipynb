{
 "cells": [
  {
   "cell_type": "code",
   "execution_count": 1,
   "id": "8b49ea32-38a5-4b94-a3b9-2af254efe588",
   "metadata": {},
   "outputs": [],
   "source": [
    "import pandas as pd\n",
    "import torch\n",
    "import pytorch_lightning as pl\n",
    "from io import BytesIO\n",
    "from urllib.request import urlopen\n",
    "from zipfile import ZipFile\n",
    "from sklearn.model_selection import train_test_split\n",
    "from tqdm.notebook import tqdm\n",
    "\n",
    "\n",
    "from torchrecsys.datasets import InteractionsDataset, SequenceDataset\n",
    "from torchrecsys.models import BaseModel\n",
    "from torchrecsys.task import Ranking\n",
    "from torchrecsys.layers import BruteForceLayer\n",
    "import torchrecsys as trs"
   ]
  },
  {
   "cell_type": "code",
   "execution_count": 2,
   "id": "51071a01-18b8-4d0e-bc56-27cc41dc4c51",
   "metadata": {},
   "outputs": [],
   "source": [
    "candidates = pd.read_csv(\"data/candidate_items.csv\")\n",
    "train_purchases = pd.read_csv(\"data/train_purchases.csv\")\n",
    "train_sessions = pd.read_csv(\"data/train_sessions.csv\",  parse_dates=['date'])\n",
    "\n",
    "test_sessions = pd.read_csv(\"data/test_leaderboard_sessions.csv\")\n",
    "final_test = pd.read_csv(\"data/test_final_sessions.csv\")\n",
    "all_interactions = pd.concat([train_sessions, train_purchases], ignore_index=True)"
   ]
  },
  {
   "cell_type": "code",
   "execution_count": 3,
   "id": "03d752b8-3b14-4aa9-a805-376422b18397",
   "metadata": {},
   "outputs": [],
   "source": [
    "# Create list of browsed items in the session ordered by timestamp. WE DONT KNOW IF THE PURCHASED ITEM IS ALWAYS AFTER THE LASTEST BROWSED ITEM!! CHECK ON THIS\n",
    "train_sessions = train_sessions.sort_values(['date']).groupby('session_id')[\"item_id\"].apply(list).to_frame().reset_index()\n",
    "\n",
    "# Rename target id \n",
    "train_purchases = train_purchases.rename(columns={\"item_id\": \"purchased_item_id\"})"
   ]
  },
  {
   "cell_type": "code",
   "execution_count": 4,
   "id": "b4eaa58d-1632-495b-bb20-750dc492a658",
   "metadata": {},
   "outputs": [],
   "source": [
    "#Merge sessions with their corresponding bough item. ##WARNING WE ARE DROPPING A LOT OF SESSIONS BECAUSE OF THIS. bert encoder idea.\n",
    "train_sessions = train_sessions.merge(train_purchases[[\"session_id\", \"purchased_item_id\"]], left_on='session_id', right_on='session_id').rename(columns={\"item_id\": \"session_history\"})"
   ]
  },
  {
   "cell_type": "code",
   "execution_count": 5,
   "id": "cf0b6178-3769-4a31-8b1a-31aa37f0bca2",
   "metadata": {},
   "outputs": [
    {
     "data": {
      "text/plain": [
       "4.74382"
      ]
     },
     "execution_count": 5,
     "metadata": {},
     "output_type": "execute_result"
    }
   ],
   "source": [
    "train_sessions.session_history.apply(len).mean()"
   ]
  },
  {
   "cell_type": "code",
   "execution_count": 6,
   "id": "aa5f2e9a-e3de-4c98-8a70-8931ae4d694b",
   "metadata": {},
   "outputs": [],
   "source": [
    "n_session, n_item = all_interactions.session_id.max()+1, all_interactions.item_id.max()+1"
   ]
  },
  {
   "cell_type": "code",
   "execution_count": 7,
   "id": "abc285e7-d5ad-4c2e-b4f8-9cbfc168a9dd",
   "metadata": {},
   "outputs": [],
   "source": [
    "ds =  train_sessions[[\"session_history\",\"purchased_item_id\"]].values\n",
    "train_ds, val_ds = train_test_split(ds, test_size=0.33, random_state=42)\n",
    "\n",
    "window_length = 5\n",
    "train_ds = SequenceDataset(train_ds, max_len=window_length)\n",
    "val_ds = SequenceDataset(val_ds, max_len=window_length)\n",
    "\n",
    "train_dataloader = torch.utils.data.DataLoader(train_ds, batch_size=128, shuffle=True, num_workers=6)\n",
    "val_dataloader = torch.utils.data.DataLoader(val_ds, batch_size=128, shuffle=False, num_workers=2)"
   ]
  },
  {
   "cell_type": "code",
   "execution_count": 8,
   "id": "bc2ec016-23a0-4c40-9272-3aa25a2ee867",
   "metadata": {},
   "outputs": [],
   "source": [
    "class retrievalModel(trs.BaseModel):\n",
    "    def __init__(self):\n",
    "        super().__init__()\n",
    "        self.item_embeddings = torch.nn.Embedding(n_item, 128)\n",
    "#         self.session_gru = torch.nn.GRU(input_size=128, hidden_size=128, num_layers=1, batch_first=True)\n",
    "        self.linear = torch.nn.Linear(window_length*128, 128)\n",
    "        \n",
    "        self.session_model = torch.nn.Sequential(\n",
    "            self.item_embeddings,\n",
    "            torch.nn.Flatten(start_dim=1),\n",
    "            self.linear,\n",
    "        )\n",
    "        \n",
    "        self.item_model = torch.nn.Sequential(\n",
    "            self.item_embeddings,\n",
    "        )\n",
    "            \n",
    "        self.leakyrelu = torch.nn.LeakyReLU()\n",
    "        self.task = Ranking()\n",
    "        self.optimizer = torch.optim.Adam(self.parameters(), lr=1e-3)\n",
    "\n",
    "    def forward(self, x):\n",
    "        # Query, the session data\n",
    "        session_embeddings = self.session_model(x[0])\n",
    "        \n",
    "        # Candidate, the target transaction\n",
    "        item_embeddings = self.item_model(x[1])\n",
    "\n",
    "        # The task computes the loss and the metrics.\n",
    "        # return session_embeddings, item_embeddings\n",
    "        return session_embeddings, item_embeddings\n",
    "    \n",
    "    \n",
    "model = retrievalModel().cuda()"
   ]
  },
  {
   "cell_type": "code",
   "execution_count": 9,
   "id": "9a6d6ae0-518d-44f0-9fa0-54ed3129bdcd",
   "metadata": {},
   "outputs": [
    {
     "name": "stderr",
     "output_type": "stream",
     "text": [
      "GPU available: True, used: True\n",
      "TPU available: False, using: 0 TPU cores\n",
      "IPU available: False, using: 0 IPUs\n",
      "LOCAL_RANK: 0 - CUDA_VISIBLE_DEVICES: [0]\n",
      "\n",
      "  | Name            | Type       | Params\n",
      "-----------------------------------------------\n",
      "0 | item_embeddings | Embedding  | 3.6 M \n",
      "1 | linear          | Linear     | 82.0 K\n",
      "2 | session_model   | Sequential | 3.7 M \n",
      "3 | item_model      | Sequential | 3.6 M \n",
      "4 | leakyrelu       | LeakyReLU  | 0     \n",
      "-----------------------------------------------\n",
      "3.7 M     Trainable params\n",
      "0         Non-trainable params\n",
      "3.7 M     Total params\n",
      "14.738    Total estimated model params size (MB)\n"
     ]
    },
    {
     "data": {
      "application/vnd.jupyter.widget-view+json": {
       "model_id": "",
       "version_major": 2,
       "version_minor": 0
      },
      "text/plain": [
       "Validation sanity check: 0it [00:00, ?it/s]"
      ]
     },
     "metadata": {},
     "output_type": "display_data"
    },
    {
     "name": "stderr",
     "output_type": "stream",
     "text": [
      "/home/jiwidi/miniconda3/envs/cuda/lib/python3.8/site-packages/pytorch_lightning/trainer/data_loading.py:110: UserWarning: The dataloader, val_dataloader 0, does not have many workers which may be a bottleneck. Consider increasing the value of the `num_workers` argument` (try 12 which is the number of cpus on this machine) in the `DataLoader` init to improve performance.\n",
      "  rank_zero_warn(\n"
     ]
    },
    {
     "data": {
      "application/vnd.jupyter.widget-view+json": {
       "model_id": "a1e9afa003a84bc49fffe37b4ebaa333",
       "version_major": 2,
       "version_minor": 0
      },
      "text/plain": [
       "Training: 0it [00:00, ?it/s]"
      ]
     },
     "metadata": {},
     "output_type": "display_data"
    },
    {
     "data": {
      "application/vnd.jupyter.widget-view+json": {
       "model_id": "",
       "version_major": 2,
       "version_minor": 0
      },
      "text/plain": [
       "Validating: 0it [00:00, ?it/s]"
      ]
     },
     "metadata": {},
     "output_type": "display_data"
    },
    {
     "data": {
      "application/vnd.jupyter.widget-view+json": {
       "model_id": "",
       "version_major": 2,
       "version_minor": 0
      },
      "text/plain": [
       "Validating: 0it [00:00, ?it/s]"
      ]
     },
     "metadata": {},
     "output_type": "display_data"
    },
    {
     "data": {
      "application/vnd.jupyter.widget-view+json": {
       "model_id": "",
       "version_major": 2,
       "version_minor": 0
      },
      "text/plain": [
       "Validating: 0it [00:00, ?it/s]"
      ]
     },
     "metadata": {},
     "output_type": "display_data"
    },
    {
     "data": {
      "application/vnd.jupyter.widget-view+json": {
       "model_id": "",
       "version_major": 2,
       "version_minor": 0
      },
      "text/plain": [
       "Validating: 0it [00:00, ?it/s]"
      ]
     },
     "metadata": {},
     "output_type": "display_data"
    },
    {
     "data": {
      "application/vnd.jupyter.widget-view+json": {
       "model_id": "",
       "version_major": 2,
       "version_minor": 0
      },
      "text/plain": [
       "Validating: 0it [00:00, ?it/s]"
      ]
     },
     "metadata": {},
     "output_type": "display_data"
    },
    {
     "data": {
      "application/vnd.jupyter.widget-view+json": {
       "model_id": "",
       "version_major": 2,
       "version_minor": 0
      },
      "text/plain": [
       "Validating: 0it [00:00, ?it/s]"
      ]
     },
     "metadata": {},
     "output_type": "display_data"
    },
    {
     "data": {
      "application/vnd.jupyter.widget-view+json": {
       "model_id": "",
       "version_major": 2,
       "version_minor": 0
      },
      "text/plain": [
       "Validating: 0it [00:00, ?it/s]"
      ]
     },
     "metadata": {},
     "output_type": "display_data"
    },
    {
     "data": {
      "application/vnd.jupyter.widget-view+json": {
       "model_id": "",
       "version_major": 2,
       "version_minor": 0
      },
      "text/plain": [
       "Validating: 0it [00:00, ?it/s]"
      ]
     },
     "metadata": {},
     "output_type": "display_data"
    },
    {
     "data": {
      "application/vnd.jupyter.widget-view+json": {
       "model_id": "",
       "version_major": 2,
       "version_minor": 0
      },
      "text/plain": [
       "Validating: 0it [00:00, ?it/s]"
      ]
     },
     "metadata": {},
     "output_type": "display_data"
    },
    {
     "data": {
      "application/vnd.jupyter.widget-view+json": {
       "model_id": "",
       "version_major": 2,
       "version_minor": 0
      },
      "text/plain": [
       "Validating: 0it [00:00, ?it/s]"
      ]
     },
     "metadata": {},
     "output_type": "display_data"
    },
    {
     "data": {
      "application/vnd.jupyter.widget-view+json": {
       "model_id": "",
       "version_major": 2,
       "version_minor": 0
      },
      "text/plain": [
       "Validating: 0it [00:00, ?it/s]"
      ]
     },
     "metadata": {},
     "output_type": "display_data"
    },
    {
     "data": {
      "application/vnd.jupyter.widget-view+json": {
       "model_id": "",
       "version_major": 2,
       "version_minor": 0
      },
      "text/plain": [
       "Validating: 0it [00:00, ?it/s]"
      ]
     },
     "metadata": {},
     "output_type": "display_data"
    }
   ],
   "source": [
    "from pytorch_lightning.callbacks.early_stopping import EarlyStopping\n",
    "\n",
    "# training\n",
    "trainer = pl.Trainer(gpus=1, precision=32, callbacks=[EarlyStopping(monitor=\"val_loss\", patience=3)])\n",
    "trainer.fit(model, train_dataloader, val_dataloader)"
   ]
  },
  {
   "cell_type": "markdown",
   "id": "c795d17c-ca16-4960-98da-704f7dd81b10",
   "metadata": {},
   "source": [
    "# Score"
   ]
  },
  {
   "cell_type": "code",
   "execution_count": 10,
   "id": "eb88d862-6621-47ad-80c6-26da33a9904c",
   "metadata": {},
   "outputs": [],
   "source": [
    "aux = test_sessions.sort_values(['date']).groupby('session_id')[\"item_id\"].apply(list).to_frame().reset_index().rename(columns={\"item_id\": \"session_history\"})\n",
    "ds =  aux[[\"session_history\"]].values\n",
    "\n",
    "window_length = 5\n",
    "test_ds = SequenceDataset(ds, max_len=window_length, training=False)\n",
    "test_dataloader = torch.utils.data.DataLoader(test_ds, batch_size=128, shuffle=False, num_workers=2)\n"
   ]
  },
  {
   "cell_type": "code",
   "execution_count": 16,
   "id": "550449b0-601f-4216-b8a1-fa7dee56af3e",
   "metadata": {},
   "outputs": [],
   "source": [
    "model = model.cuda()"
   ]
  },
  {
   "cell_type": "code",
   "execution_count": 17,
   "id": "8e43bb95-0ce8-4623-914a-bfaec2b9c1c0",
   "metadata": {},
   "outputs": [],
   "source": [
    "brute_layer = BruteForceLayer(model.session_model, k=100)\n",
    "\n",
    "unique_item_mapped = torch.stack(list(map(lambda x: model.item_model(torch.tensor(x).cuda()), all_interactions.item_id.unique())))\n",
    "\n",
    "brute_layer.index(unique_item_mapped)"
   ]
  },
  {
   "cell_type": "code",
   "execution_count": 18,
   "id": "a3345955-a7fe-4178-b687-ee54cbbb19b5",
   "metadata": {},
   "outputs": [
    {
     "data": {
      "application/vnd.jupyter.widget-view+json": {
       "model_id": "f8dfdf0e379f4309bf9d0efb44543c8f",
       "version_major": 2,
       "version_minor": 0
      },
      "text/plain": [
       "  0%|          | 0/391 [00:00<?, ?it/s]"
      ]
     },
     "metadata": {},
     "output_type": "display_data"
    },
    {
     "name": "stderr",
     "output_type": "stream",
     "text": [
      "<ipython-input-18-7ccf8f315d56>:4: UserWarning: To copy construct from a tensor, it is recommended to use sourceTensor.clone().detach() or sourceTensor.clone().detach().requires_grad_(True), rather than torch.tensor(sourceTensor).\n",
      "  r = brute_layer(torch.tensor(batch).cuda())\n"
     ]
    }
   ],
   "source": [
    "scores = []\n",
    "indices = []\n",
    "for batch in tqdm(test_dataloader):\n",
    "    r = brute_layer(torch.tensor(batch).cuda())\n",
    "    scores.append(r[0])\n",
    "    indices.append(r[1])"
   ]
  },
  {
   "cell_type": "code",
   "execution_count": 19,
   "id": "458e0f6e-3119-4cc9-822b-26ff6504b658",
   "metadata": {},
   "outputs": [],
   "source": [
    "xdf = torch.cat(indices).cpu().numpy()"
   ]
  },
  {
   "cell_type": "code",
   "execution_count": 20,
   "id": "d1dda2f5-da82-4952-8549-f931978d64ed",
   "metadata": {},
   "outputs": [],
   "source": [
    "px = pd.DataFrame({\n",
    "    \"session_id\": aux.session_id,\n",
    "    \"item_id\": xdf.tolist(),\n",
    "})"
   ]
  },
  {
   "cell_type": "code",
   "execution_count": 21,
   "id": "08021008-91f9-485d-b7c1-9f7a3d8ec3aa",
   "metadata": {},
   "outputs": [],
   "source": [
    "px = px.explode(\"item_id\")\n",
    "px[\"rank\"] = px.groupby([\"session_id\"]).cumcount()+1"
   ]
  },
  {
   "cell_type": "code",
   "execution_count": 22,
   "id": "f9396638-8479-4a80-8597-695238830779",
   "metadata": {},
   "outputs": [],
   "source": [
    "px.to_csv(\"results.csv\", index=False)"
   ]
  },
  {
   "cell_type": "code",
   "execution_count": 23,
   "id": "66193e28-8e6c-4ebc-b4f8-108f20f8b78c",
   "metadata": {},
   "outputs": [
    {
     "data": {
      "text/html": [
       "<div>\n",
       "<style scoped>\n",
       "    .dataframe tbody tr th:only-of-type {\n",
       "        vertical-align: middle;\n",
       "    }\n",
       "\n",
       "    .dataframe tbody tr th {\n",
       "        vertical-align: top;\n",
       "    }\n",
       "\n",
       "    .dataframe thead th {\n",
       "        text-align: right;\n",
       "    }\n",
       "</style>\n",
       "<table border=\"1\" class=\"dataframe\">\n",
       "  <thead>\n",
       "    <tr style=\"text-align: right;\">\n",
       "      <th></th>\n",
       "      <th>session_id</th>\n",
       "      <th>item_id</th>\n",
       "      <th>rank</th>\n",
       "    </tr>\n",
       "  </thead>\n",
       "  <tbody>\n",
       "    <tr>\n",
       "      <th>0</th>\n",
       "      <td>26</td>\n",
       "      <td>18227</td>\n",
       "      <td>1</td>\n",
       "    </tr>\n",
       "    <tr>\n",
       "      <th>0</th>\n",
       "      <td>26</td>\n",
       "      <td>22922</td>\n",
       "      <td>2</td>\n",
       "    </tr>\n",
       "    <tr>\n",
       "      <th>0</th>\n",
       "      <td>26</td>\n",
       "      <td>14130</td>\n",
       "      <td>3</td>\n",
       "    </tr>\n",
       "    <tr>\n",
       "      <th>0</th>\n",
       "      <td>26</td>\n",
       "      <td>16836</td>\n",
       "      <td>4</td>\n",
       "    </tr>\n",
       "    <tr>\n",
       "      <th>0</th>\n",
       "      <td>26</td>\n",
       "      <td>21395</td>\n",
       "      <td>5</td>\n",
       "    </tr>\n",
       "    <tr>\n",
       "      <th>...</th>\n",
       "      <td>...</td>\n",
       "      <td>...</td>\n",
       "      <td>...</td>\n",
       "    </tr>\n",
       "    <tr>\n",
       "      <th>49999</th>\n",
       "      <td>4439757</td>\n",
       "      <td>22922</td>\n",
       "      <td>96</td>\n",
       "    </tr>\n",
       "    <tr>\n",
       "      <th>49999</th>\n",
       "      <td>4439757</td>\n",
       "      <td>21941</td>\n",
       "      <td>97</td>\n",
       "    </tr>\n",
       "    <tr>\n",
       "      <th>49999</th>\n",
       "      <td>4439757</td>\n",
       "      <td>16972</td>\n",
       "      <td>98</td>\n",
       "    </tr>\n",
       "    <tr>\n",
       "      <th>49999</th>\n",
       "      <td>4439757</td>\n",
       "      <td>13430</td>\n",
       "      <td>99</td>\n",
       "    </tr>\n",
       "    <tr>\n",
       "      <th>49999</th>\n",
       "      <td>4439757</td>\n",
       "      <td>16924</td>\n",
       "      <td>100</td>\n",
       "    </tr>\n",
       "  </tbody>\n",
       "</table>\n",
       "<p>5000000 rows × 3 columns</p>\n",
       "</div>"
      ],
      "text/plain": [
       "       session_id item_id  rank\n",
       "0              26   18227     1\n",
       "0              26   22922     2\n",
       "0              26   14130     3\n",
       "0              26   16836     4\n",
       "0              26   21395     5\n",
       "...           ...     ...   ...\n",
       "49999     4439757   22922    96\n",
       "49999     4439757   21941    97\n",
       "49999     4439757   16972    98\n",
       "49999     4439757   13430    99\n",
       "49999     4439757   16924   100\n",
       "\n",
       "[5000000 rows x 3 columns]"
      ]
     },
     "execution_count": 23,
     "metadata": {},
     "output_type": "execute_result"
    }
   ],
   "source": [
    "px"
   ]
  },
  {
   "cell_type": "code",
   "execution_count": null,
   "id": "b4ce4177-4ee1-4c5b-bc07-0db8133a14f3",
   "metadata": {},
   "outputs": [],
   "source": []
  }
 ],
 "metadata": {
  "kernelspec": {
   "display_name": "cuda",
   "language": "python",
   "name": "cuda"
  },
  "language_info": {
   "codemirror_mode": {
    "name": "ipython",
    "version": 3
   },
   "file_extension": ".py",
   "mimetype": "text/x-python",
   "name": "python",
   "nbconvert_exporter": "python",
   "pygments_lexer": "ipython3",
   "version": "3.8.12"
  }
 },
 "nbformat": 4,
 "nbformat_minor": 5
}
