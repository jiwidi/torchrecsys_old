{
 "cells": [
  {
   "cell_type": "code",
   "execution_count": 1,
   "id": "8b49ea32-38a5-4b94-a3b9-2af254efe588",
   "metadata": {},
   "outputs": [],
   "source": [
    "import pandas as pd\n",
    "import torch\n",
    "import pytorch_lightning as pl\n",
    "from io import BytesIO\n",
    "from urllib.request import urlopen\n",
    "from zipfile import ZipFile"
   ]
  },
  {
   "cell_type": "code",
   "execution_count": null,
   "id": "b677b8ad-d947-4347-9c31-c8ca766b30b8",
   "metadata": {},
   "outputs": [],
   "source": []
  },
  {
   "cell_type": "code",
   "execution_count": 2,
   "id": "51071a01-18b8-4d0e-bc56-27cc41dc4c51",
   "metadata": {},
   "outputs": [],
   "source": [
    "candidates = pd.read_csv(\"recsys22/data/candidate_items.csv\")\n",
    "train_purchases = pd.read_csv(\"recsys22/data/train_purchases.csv\")\n",
    "train_sessions = pd.read_csv(\"recsys22/data/train_sessions.csv\")\n",
    "\n",
    "all_interactions = pd.concat([train_sessions, train_purchases], ignore_index=True)"
   ]
  },
  {
   "cell_type": "code",
   "execution_count": 3,
   "id": "aa5f2e9a-e3de-4c98-8a70-8931ae4d694b",
   "metadata": {},
   "outputs": [],
   "source": [
    "n_session, n_item = all_interactions.session_id.max(), all_interactions.item_id.max(), "
   ]
  },
  {
   "cell_type": "code",
   "execution_count": 4,
   "id": "b65b6d76-abfa-4302-865b-0cd3c6cc4a72",
   "metadata": {},
   "outputs": [],
   "source": [
    "from torchrecsys.datasets import InteractionsDataset\n",
    "from torchrecsys.models import BaseModel\n",
    "from torchrecsys.task import Ranking\n",
    "import torchrecsys as trs"
   ]
  },
  {
   "cell_type": "code",
   "execution_count": 5,
   "id": "abc285e7-d5ad-4c2e-b4f8-9cbfc168a9dd",
   "metadata": {},
   "outputs": [],
   "source": [
    "ds =  InteractionsDataset(all_interactions[[\"session_id\",\"item_id\"]].values)\n",
    "train_dataloader = torch.utils.data.DataLoader(ds, batch_size=64, shuffle=True)"
   ]
  },
  {
   "cell_type": "code",
   "execution_count": 6,
   "id": "cb5be169-d43f-4e59-97c1-0b97e241fccd",
   "metadata": {},
   "outputs": [],
   "source": [
    "for a in train_dataloader:\n",
    "    break"
   ]
  },
  {
   "cell_type": "code",
   "execution_count": 7,
   "id": "bc2ec016-23a0-4c40-9272-3aa25a2ee867",
   "metadata": {},
   "outputs": [],
   "source": [
    "class retrievalModel(trs.BaseModel):\n",
    "    def __init__(self):\n",
    "        super().__init__()\n",
    "        self.session_model = torch.nn.Embedding(n_session, 64)\n",
    "        self.item_model = torch.nn.Embedding(n_item, 64)\n",
    "        self.task = Ranking()\n",
    "        self.optimizer = torch.optim.Adam(self.parameters(), lr=1e-3)\n",
    "\n",
    "    def forward(self, x):\n",
    "        # We pick out the user features and pass them into the user model.\n",
    "        session_embeddings = self.session_model(x[0])\n",
    "        # And pick out the movie features and pass them into the movie model,\n",
    "        # getting embeddings back.\n",
    "        item_embeddings = self.item_model(x[1])\n",
    "\n",
    "        # The task computes the loss and the metrics.\n",
    "        # return session_embeddings, item_embeddings\n",
    "        return session_embeddings, item_embeddings\n",
    "    \n",
    "    \n",
    "model = retrievalModel()\n",
    "yhat = model(a)"
   ]
  },
  {
   "cell_type": "code",
   "execution_count": 8,
   "id": "9a6d6ae0-518d-44f0-9fa0-54ed3129bdcd",
   "metadata": {},
   "outputs": [
    {
     "name": "stderr",
     "output_type": "stream",
     "text": [
      "GPU available: False, used: False\n",
      "TPU available: False, using: 0 TPU cores\n",
      "IPU available: False, using: 0 IPUs\n",
      "\n",
      "  | Name          | Type      | Params\n",
      "--------------------------------------------\n",
      "0 | session_model | Embedding | 284 M \n",
      "1 | item_model    | Embedding | 1.8 M \n",
      "--------------------------------------------\n",
      "285 M     Trainable params\n",
      "0         Non-trainable params\n",
      "285 M     Total params\n",
      "1,143.845 Total estimated model params size (MB)\n",
      "/Users/jafen/miniconda3/envs/hm37/lib/python3.7/site-packages/pytorch_lightning/trainer/data_loading.py:133: UserWarning: The dataloader, train_dataloader, does not have many workers which may be a bottleneck. Consider increasing the value of the `num_workers` argument` (try 8 which is the number of cpus on this machine) in the `DataLoader` init to improve performance.\n",
      "  f\"The dataloader, {name}, does not have many workers which may be a bottleneck.\"\n"
     ]
    },
    {
     "data": {
      "application/vnd.jupyter.widget-view+json": {
       "model_id": "9664a2f7a8054e228ee3553ee8a32f78",
       "version_major": 2,
       "version_minor": 0
      },
      "text/plain": [
       "Training: 0it [00:00, ?it/s]"
      ]
     },
     "metadata": {},
     "output_type": "display_data"
    },
    {
     "name": "stderr",
     "output_type": "stream",
     "text": [
      "/Users/jafen/projects/github/torchrecsys/torchrecsys/task/ranking.py:15: UserWarning: torch.range is deprecated and will be removed in a future release because its behavior is inconsistent with Python's range builtin. Instead, use torch.arange, which produces values in [start, end).\n",
      "  labels = torch.range(0, num_queries-1, dtype=int)\n",
      "/Users/jafen/miniconda3/envs/hm37/lib/python3.7/site-packages/pytorch_lightning/trainer/trainer.py:688: UserWarning: Detected KeyboardInterrupt, attempting graceful shutdown...\n",
      "  rank_zero_warn(\"Detected KeyboardInterrupt, attempting graceful shutdown...\")\n"
     ]
    }
   ],
   "source": [
    "# training\n",
    "trainer = pl.Trainer(precision=32)\n",
    "trainer.fit(model, train_dataloader)"
   ]
  },
  {
   "cell_type": "code",
   "execution_count": null,
   "id": "773de186-bfde-4a2b-a174-62d6a30bac91",
   "metadata": {},
   "outputs": [],
   "source": []
  }
 ],
 "metadata": {
  "kernelspec": {
   "display_name": "hm37",
   "language": "python",
   "name": "hm37"
  },
  "language_info": {
   "codemirror_mode": {
    "name": "ipython",
    "version": 3
   },
   "file_extension": ".py",
   "mimetype": "text/x-python",
   "name": "python",
   "nbconvert_exporter": "python",
   "pygments_lexer": "ipython3",
   "version": "3.7.11"
  }
 },
 "nbformat": 4,
 "nbformat_minor": 5
}
