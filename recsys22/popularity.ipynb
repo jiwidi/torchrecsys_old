{
 "cells": [
  {
   "cell_type": "code",
   "execution_count": 1,
   "id": "86db9b35-fae8-41b4-a3cb-4358aff5a57f",
   "metadata": {},
   "outputs": [],
   "source": [
    "import pandas as pd\n",
    "import torch\n",
    "import pytorch_lightning as pl\n",
    "from io import BytesIO\n",
    "from urllib.request import urlopen\n",
    "from zipfile import ZipFile\n",
    "from sklearn.model_selection import train_test_split\n",
    "from tqdm.notebook import tqdm\n",
    "import torch.utils.data as data\n",
    "from pytorch_lightning.callbacks import ModelCheckpoint\n",
    "import numpy as np\n",
    "from pytorch_lightning.callbacks.early_stopping import EarlyStopping\n",
    "\n",
    "from torchrecsys.datasets import InteractionsDataset, SequenceDataset\n",
    "from torchrecsys.models import BaseModel\n",
    "from torchrecsys.task import Ranking\n",
    "from torchrecsys.layers import BruteForceLayer\n",
    "import torchrecsys as trs\n",
    "import matplotlib \n",
    "from matplotlib import pyplot as plt\n",
    "import warnings\n",
    "warnings.filterwarnings('ignore')\n",
    "import xgboost as xgb\n",
    "from xgboost import XGBClassifier\n",
    "from sklearn.model_selection import train_test_split\n",
    "\n",
    "import matplotlib.pyplot as plt"
   ]
  },
  {
   "cell_type": "code",
   "execution_count": 2,
   "id": "e08b4682-90ad-4a75-aee7-c425a5cc0a93",
   "metadata": {},
   "outputs": [],
   "source": [
    "candidates = pd.read_csv(\"data/candidate_items.csv\")\n",
    "train_purchases = pd.read_csv(\"data/train_purchases.csv\",  parse_dates=['date'])\n",
    "train_sessions = pd.read_csv(\"data/train_sessions.csv\",  parse_dates=['date'])\n",
    "\n",
    "test_sessions = pd.read_csv(\"data/test_leaderboard_sessions.csv\",  parse_dates=['date'])\n",
    "final_test = pd.read_csv(\"data/test_final_sessions.csv\")\n",
    "all_interactions = pd.concat([train_sessions, train_purchases, test_sessions], ignore_index=True)\n",
    "\n",
    "features = pd.read_csv(\"data/item_features.csv\")\n",
    "\n",
    "aux = all_interactions.copy()\n",
    "n_items = all_interactions.item_id.max()+1"
   ]
  },
  {
   "cell_type": "markdown",
   "id": "7aa2f673-461a-46d7-a05f-683aedaba755",
   "metadata": {},
   "source": [
    "# 1st try "
   ]
  },
  {
   "cell_type": "code",
   "execution_count": 3,
   "id": "adf971d8-548a-4baf-8f18-114730b3155c",
   "metadata": {},
   "outputs": [],
   "source": [
    "top_browsed = train_sessions.item_id.value_counts().index.values[:100]"
   ]
  },
  {
   "cell_type": "code",
   "execution_count": 4,
   "id": "48917195-2ae0-44c1-b671-c2a0abc6b23f",
   "metadata": {},
   "outputs": [],
   "source": [
    "#Score\n",
    "test_sessions = test_sessions.sort_values(['date']).groupby('session_id')[\"item_id\"].apply(list).to_frame().reset_index()"
   ]
  },
  {
   "cell_type": "code",
   "execution_count": 5,
   "id": "720c6e64-f143-462b-9973-4888b5057bd3",
   "metadata": {},
   "outputs": [],
   "source": [
    "test_sessions[\"item_id\"] = [top_browsed for _ in range(len(test_sessions))]"
   ]
  },
  {
   "cell_type": "code",
   "execution_count": 6,
   "id": "a3fae60c-3864-4aaa-b0f8-eeb5b1463e90",
   "metadata": {},
   "outputs": [],
   "source": [
    "df = pd.DataFrame.from_dict(test_sessions[[\"session_id\",\"item_id\"]])\n",
    "df = df.explode('item_id')\n",
    "df[\"rank\"] = df.groupby([\"session_id\"]).cumcount()+1\n",
    "df.to_csv(\"predict_toplist.csv\", index=False)"
   ]
  },
  {
   "cell_type": "code",
   "execution_count": null,
   "id": "4dfb7578-7330-42c7-92b5-caba364c9580",
   "metadata": {},
   "outputs": [],
   "source": [
    "df"
   ]
  },
  {
   "cell_type": "markdown",
   "id": "d71b5b29-2192-4c60-ab4a-3ce03e8dcd05",
   "metadata": {},
   "source": [
    "# 2nd try "
   ]
  },
  {
   "cell_type": "code",
   "execution_count": 7,
   "id": "585dd3bf-251e-4011-804c-d5feebc1b0a2",
   "metadata": {},
   "outputs": [],
   "source": [
    "## SECOND TRY MOST RECENT"
   ]
  },
  {
   "cell_type": "code",
   "execution_count": 8,
   "id": "6be6e52b-27f3-4468-b767-9758a928477b",
   "metadata": {},
   "outputs": [],
   "source": [
    "top_browsed_recently = train_sessions[(train_sessions['date'] > '2021-02-01') & (train_sessions['date'] < '2021-06-01')].item_id.value_counts().index.values[:100]"
   ]
  },
  {
   "cell_type": "code",
   "execution_count": 9,
   "id": "29cdcdf7-79d8-417a-b03a-95b7cf5c5e05",
   "metadata": {},
   "outputs": [],
   "source": [
    "#Score\n",
    "test_sessions = pd.read_csv(\"data/test_leaderboard_sessions.csv\",  parse_dates=['date'])\n",
    "test_sessions = test_sessions.sort_values(['date']).groupby('session_id')[\"item_id\"].apply(list).to_frame().reset_index()"
   ]
  },
  {
   "cell_type": "code",
   "execution_count": 10,
   "id": "1ea236f9-5889-4aa0-b8d7-f75351e5acdf",
   "metadata": {},
   "outputs": [],
   "source": [
    "test_sessions[\"item_id\"] = [top_browsed_recently for _ in range(len(test_sessions))]"
   ]
  },
  {
   "cell_type": "code",
   "execution_count": 11,
   "id": "83ff9ed6-ef4c-4ad2-9dbd-04053887b05f",
   "metadata": {},
   "outputs": [],
   "source": [
    "df = pd.DataFrame.from_dict(test_sessions[[\"session_id\",\"item_id\"]])\n",
    "df = df.explode('item_id')\n",
    "df[\"rank\"] = df.groupby([\"session_id\"]).cumcount()+1\n",
    "df.to_csv(\"predict_toplist_recent.csv\", index=False)"
   ]
  },
  {
   "cell_type": "code",
   "execution_count": 12,
   "id": "5910ca06-8b2d-4347-aad4-94533251de89",
   "metadata": {},
   "outputs": [
    {
     "data": {
      "text/html": [
       "<div>\n",
       "<style scoped>\n",
       "    .dataframe tbody tr th:only-of-type {\n",
       "        vertical-align: middle;\n",
       "    }\n",
       "\n",
       "    .dataframe tbody tr th {\n",
       "        vertical-align: top;\n",
       "    }\n",
       "\n",
       "    .dataframe thead th {\n",
       "        text-align: right;\n",
       "    }\n",
       "</style>\n",
       "<table border=\"1\" class=\"dataframe\">\n",
       "  <thead>\n",
       "    <tr style=\"text-align: right;\">\n",
       "      <th></th>\n",
       "      <th>session_id</th>\n",
       "      <th>item_id</th>\n",
       "      <th>rank</th>\n",
       "    </tr>\n",
       "  </thead>\n",
       "  <tbody>\n",
       "    <tr>\n",
       "      <th>0</th>\n",
       "      <td>26</td>\n",
       "      <td>26853</td>\n",
       "      <td>1</td>\n",
       "    </tr>\n",
       "    <tr>\n",
       "      <th>0</th>\n",
       "      <td>26</td>\n",
       "      <td>19882</td>\n",
       "      <td>2</td>\n",
       "    </tr>\n",
       "    <tr>\n",
       "      <th>0</th>\n",
       "      <td>26</td>\n",
       "      <td>21616</td>\n",
       "      <td>3</td>\n",
       "    </tr>\n",
       "    <tr>\n",
       "      <th>0</th>\n",
       "      <td>26</td>\n",
       "      <td>8060</td>\n",
       "      <td>4</td>\n",
       "    </tr>\n",
       "    <tr>\n",
       "      <th>0</th>\n",
       "      <td>26</td>\n",
       "      <td>7963</td>\n",
       "      <td>5</td>\n",
       "    </tr>\n",
       "    <tr>\n",
       "      <th>...</th>\n",
       "      <td>...</td>\n",
       "      <td>...</td>\n",
       "      <td>...</td>\n",
       "    </tr>\n",
       "    <tr>\n",
       "      <th>49999</th>\n",
       "      <td>4439757</td>\n",
       "      <td>6627</td>\n",
       "      <td>96</td>\n",
       "    </tr>\n",
       "    <tr>\n",
       "      <th>49999</th>\n",
       "      <td>4439757</td>\n",
       "      <td>24948</td>\n",
       "      <td>97</td>\n",
       "    </tr>\n",
       "    <tr>\n",
       "      <th>49999</th>\n",
       "      <td>4439757</td>\n",
       "      <td>19270</td>\n",
       "      <td>98</td>\n",
       "    </tr>\n",
       "    <tr>\n",
       "      <th>49999</th>\n",
       "      <td>4439757</td>\n",
       "      <td>25320</td>\n",
       "      <td>99</td>\n",
       "    </tr>\n",
       "    <tr>\n",
       "      <th>49999</th>\n",
       "      <td>4439757</td>\n",
       "      <td>7444</td>\n",
       "      <td>100</td>\n",
       "    </tr>\n",
       "  </tbody>\n",
       "</table>\n",
       "<p>5000000 rows × 3 columns</p>\n",
       "</div>"
      ],
      "text/plain": [
       "       session_id item_id  rank\n",
       "0              26   26853     1\n",
       "0              26   19882     2\n",
       "0              26   21616     3\n",
       "0              26    8060     4\n",
       "0              26    7963     5\n",
       "...           ...     ...   ...\n",
       "49999     4439757    6627    96\n",
       "49999     4439757   24948    97\n",
       "49999     4439757   19270    98\n",
       "49999     4439757   25320    99\n",
       "49999     4439757    7444   100\n",
       "\n",
       "[5000000 rows x 3 columns]"
      ]
     },
     "execution_count": 12,
     "metadata": {},
     "output_type": "execute_result"
    }
   ],
   "source": [
    "df"
   ]
  },
  {
   "cell_type": "markdown",
   "id": "d5ad664a-0bb8-49c8-9c87-c240f0424b9d",
   "metadata": {},
   "source": [
    "# 3rd try "
   ]
  },
  {
   "cell_type": "code",
   "execution_count": 13,
   "id": "da95d658-af80-4902-8a94-660fde087de5",
   "metadata": {},
   "outputs": [],
   "source": [
    "## SECOND TRY MOST RECENT"
   ]
  },
  {
   "cell_type": "code",
   "execution_count": 14,
   "id": "c7785558-a239-4567-9f27-3a44eaf5535a",
   "metadata": {},
   "outputs": [],
   "source": [
    "top_bought = train_purchases[(train_purchases['date'] > '2021-02-01') & (train_purchases['date'] < '2021-06-01')].item_id.value_counts().index.values[:100]"
   ]
  },
  {
   "cell_type": "code",
   "execution_count": 15,
   "id": "0be592e3-aa8e-4708-9d89-c0bd0c8f4c70",
   "metadata": {},
   "outputs": [],
   "source": [
    "#Score\n",
    "\n",
    "test_sessions = pd.read_csv(\"data/test_leaderboard_sessions.csv\",  parse_dates=['date'])\n",
    "test_sessions = test_sessions.sort_values(['date']).groupby('session_id')[\"item_id\"].apply(list).to_frame().reset_index()"
   ]
  },
  {
   "cell_type": "code",
   "execution_count": 16,
   "id": "ca3ce4d1-d90f-4f60-baae-95032134f3cc",
   "metadata": {},
   "outputs": [],
   "source": [
    "test_sessions[\"item_id\"] = [top_bought for _ in range(len(test_sessions))]"
   ]
  },
  {
   "cell_type": "code",
   "execution_count": 17,
   "id": "4d29897c-d49c-4e7b-83a6-54e83abc5cfd",
   "metadata": {},
   "outputs": [],
   "source": [
    "df = pd.DataFrame.from_dict(test_sessions[[\"session_id\",\"item_id\"]])\n",
    "df = df.explode('item_id')\n",
    "df[\"rank\"] = df.groupby([\"session_id\"]).cumcount()+1\n",
    "df.to_csv(\"predict_toplist_bought_recent.csv\", index=False)"
   ]
  },
  {
   "cell_type": "code",
   "execution_count": 18,
   "id": "38bd364a-55de-474b-b9a2-f66f147a6236",
   "metadata": {},
   "outputs": [
    {
     "data": {
      "text/html": [
       "<div>\n",
       "<style scoped>\n",
       "    .dataframe tbody tr th:only-of-type {\n",
       "        vertical-align: middle;\n",
       "    }\n",
       "\n",
       "    .dataframe tbody tr th {\n",
       "        vertical-align: top;\n",
       "    }\n",
       "\n",
       "    .dataframe thead th {\n",
       "        text-align: right;\n",
       "    }\n",
       "</style>\n",
       "<table border=\"1\" class=\"dataframe\">\n",
       "  <thead>\n",
       "    <tr style=\"text-align: right;\">\n",
       "      <th></th>\n",
       "      <th>session_id</th>\n",
       "      <th>item_id</th>\n",
       "      <th>rank</th>\n",
       "    </tr>\n",
       "  </thead>\n",
       "  <tbody>\n",
       "    <tr>\n",
       "      <th>0</th>\n",
       "      <td>26</td>\n",
       "      <td>19882</td>\n",
       "      <td>1</td>\n",
       "    </tr>\n",
       "    <tr>\n",
       "      <th>0</th>\n",
       "      <td>26</td>\n",
       "      <td>26853</td>\n",
       "      <td>2</td>\n",
       "    </tr>\n",
       "    <tr>\n",
       "      <th>0</th>\n",
       "      <td>26</td>\n",
       "      <td>8060</td>\n",
       "      <td>3</td>\n",
       "    </tr>\n",
       "    <tr>\n",
       "      <th>0</th>\n",
       "      <td>26</td>\n",
       "      <td>2915</td>\n",
       "      <td>4</td>\n",
       "    </tr>\n",
       "    <tr>\n",
       "      <th>0</th>\n",
       "      <td>26</td>\n",
       "      <td>4193</td>\n",
       "      <td>5</td>\n",
       "    </tr>\n",
       "    <tr>\n",
       "      <th>...</th>\n",
       "      <td>...</td>\n",
       "      <td>...</td>\n",
       "      <td>...</td>\n",
       "    </tr>\n",
       "    <tr>\n",
       "      <th>49999</th>\n",
       "      <td>4439757</td>\n",
       "      <td>7444</td>\n",
       "      <td>96</td>\n",
       "    </tr>\n",
       "    <tr>\n",
       "      <th>49999</th>\n",
       "      <td>4439757</td>\n",
       "      <td>1221</td>\n",
       "      <td>97</td>\n",
       "    </tr>\n",
       "    <tr>\n",
       "      <th>49999</th>\n",
       "      <td>4439757</td>\n",
       "      <td>23345</td>\n",
       "      <td>98</td>\n",
       "    </tr>\n",
       "    <tr>\n",
       "      <th>49999</th>\n",
       "      <td>4439757</td>\n",
       "      <td>13811</td>\n",
       "      <td>99</td>\n",
       "    </tr>\n",
       "    <tr>\n",
       "      <th>49999</th>\n",
       "      <td>4439757</td>\n",
       "      <td>16157</td>\n",
       "      <td>100</td>\n",
       "    </tr>\n",
       "  </tbody>\n",
       "</table>\n",
       "<p>5000000 rows × 3 columns</p>\n",
       "</div>"
      ],
      "text/plain": [
       "       session_id item_id  rank\n",
       "0              26   19882     1\n",
       "0              26   26853     2\n",
       "0              26    8060     3\n",
       "0              26    2915     4\n",
       "0              26    4193     5\n",
       "...           ...     ...   ...\n",
       "49999     4439757    7444    96\n",
       "49999     4439757    1221    97\n",
       "49999     4439757   23345    98\n",
       "49999     4439757   13811    99\n",
       "49999     4439757   16157   100\n",
       "\n",
       "[5000000 rows x 3 columns]"
      ]
     },
     "execution_count": 18,
     "metadata": {},
     "output_type": "execute_result"
    }
   ],
   "source": [
    "df"
   ]
  }
 ],
 "metadata": {
  "kernelspec": {
   "display_name": "cuda",
   "language": "python",
   "name": "cuda"
  },
  "language_info": {
   "codemirror_mode": {
    "name": "ipython",
    "version": 3
   },
   "file_extension": ".py",
   "mimetype": "text/x-python",
   "name": "python",
   "nbconvert_exporter": "python",
   "pygments_lexer": "ipython3",
   "version": "3.8.12"
  }
 },
 "nbformat": 4,
 "nbformat_minor": 5
}
