{
 "cells": [
  {
   "cell_type": "code",
   "execution_count": 1,
   "id": "3b208d48-2e13-4f46-82ac-36f267819697",
   "metadata": {},
   "outputs": [],
   "source": [
    "from torchrecsys.models import ALS\n",
    "from torchrecsys.external_datasets import Movielens_1M\n",
    "from torchrecsys.datasets import InteractionsDataset\n",
    "from pytorch_lightning import Trainer\n",
    "import pandas as pd\n",
    "import torch\n",
    "from torch.utils.data import DataLoader"
   ]
  },
  {
   "cell_type": "code",
   "execution_count": 2,
   "id": "f9488f91-7039-4554-bdb2-509a4e11b3d2",
   "metadata": {},
   "outputs": [],
   "source": [
    "data = Movielens_1M()\n",
    "ratings, users, movies = data.load()"
   ]
  },
  {
   "cell_type": "code",
   "execution_count": 3,
   "id": "b43ccc81-2db4-4e3c-8924-4d27bccaea4c",
   "metadata": {},
   "outputs": [],
   "source": [
    "#Preprocess users\n",
    "users['gender'], uniques = pd.factorize(users['gender'])\n",
    "users['occupation'], uniques = pd.factorize(users['occupation'])\n",
    "users['zip'], uniques = pd.factorize(users['zip'])\n",
    "##Set category dtype\n",
    "users['gender'] = users.gender.astype('category')\n",
    "users['occupation'] = users.occupation.astype('category')\n",
    "users['zip'] = users.zip.astype('category')\n",
    "\n",
    "#Preprocess movies, \n",
    "##categories to index\n",
    "movies['title'], uniques = pd.factorize(movies['title'])\n",
    "movies['genres'], uniques = pd.factorize(movies['genres'])\n",
    "##Set category dtype\n",
    "movies['title'] = movies.title.astype('category')\n",
    "movies['genres'] = movies.genres.astype('category')"
   ]
  },
  {
   "cell_type": "code",
   "execution_count": 4,
   "id": "4bf95e43-1404-4fa7-bc0b-2e23a4c77eb2",
   "metadata": {},
   "outputs": [
    {
     "name": "stdout",
     "output_type": "stream",
     "text": [
      "movie_id       int64\n",
      "title       category\n",
      "genres      category\n",
      "dtype: object tipos internos\n"
     ]
    }
   ],
   "source": [
    "dataset = InteractionsDataset(ratings, users, movies, item_id=\"movie_id\", interaction_id=\"rating\")\n",
    "train = DataLoader(dataset, batch_size=512)"
   ]
  },
  {
   "cell_type": "code",
   "execution_count": 5,
   "id": "eee31dd5-4df0-4083-9aac-cb79c4a3d8d7",
   "metadata": {},
   "outputs": [
    {
     "data": {
      "text/plain": [
       "movie_id       int64\n",
       "title       category\n",
       "genres      category\n",
       "dtype: object"
      ]
     },
     "execution_count": 5,
     "metadata": {},
     "output_type": "execute_result"
    }
   ],
   "source": [
    "movies.dtypes"
   ]
  },
  {
   "cell_type": "code",
   "execution_count": 6,
   "id": "8e441b16-aa42-492f-a3f8-b9a59894acb4",
   "metadata": {},
   "outputs": [
    {
     "data": {
      "text/plain": [
       "dtype('int64')"
      ]
     },
     "execution_count": 6,
     "metadata": {},
     "output_type": "execute_result"
    }
   ],
   "source": [
    "dataset.item_features[1].dtype"
   ]
  },
  {
   "cell_type": "code",
   "execution_count": 7,
   "id": "808e561f-5d4a-4506-a40d-2b42ca08d711",
   "metadata": {},
   "outputs": [],
   "source": [
    "model = ALS(dataset.data_schema)"
   ]
  },
  {
   "cell_type": "code",
   "execution_count": 8,
   "id": "9c726aad-81a8-47ec-bfa5-777cc8fa7236",
   "metadata": {},
   "outputs": [
    {
     "name": "stderr",
     "output_type": "stream",
     "text": [
      "GPU available: False, used: False\n",
      "TPU available: False, using: 0 TPU cores\n",
      "IPU available: False, using: 0 IPUs\n",
      "/Users/jaimeferrando/miniconda3/lib/python3.8/site-packages/pytorch_lightning/trainer/configuration_validator.py:118: UserWarning: You defined a `validation_step` but have no `val_dataloader`. Skipping val loop.\n",
      "  rank_zero_warn(\"You defined a `validation_step` but have no `val_dataloader`. Skipping val loop.\")\n",
      "\n",
      "  | Name           | Type       | Params\n",
      "----------------------------------------------\n",
      "0 | user_features  | ModuleList | 27.7 K\n",
      "1 | item_features  | ModuleList | 33.5 K\n",
      "2 | user_embedding | Embedding  | 386 K \n",
      "3 | item_embedding | Embedding  | 288 K \n",
      "4 | mlp            | Sequential | 222 K \n",
      "5 | final_linear   | Linear     | 346   \n",
      "6 | criterion      | MSELoss    | 0     \n",
      "----------------------------------------------\n",
      "959 K     Trainable params\n",
      "0         Non-trainable params\n",
      "959 K     Total params\n",
      "3.839     Total estimated model params size (MB)\n",
      "/Users/jaimeferrando/miniconda3/lib/python3.8/site-packages/pytorch_lightning/trainer/data_loading.py:110: UserWarning: The dataloader, train_dataloader, does not have many workers which may be a bottleneck. Consider increasing the value of the `num_workers` argument` (try 8 which is the number of cpus on this machine) in the `DataLoader` init to improve performance.\n",
      "  rank_zero_warn(\n"
     ]
    },
    {
     "data": {
      "application/vnd.jupyter.widget-view+json": {
       "model_id": "c7164099fccd4d3fbe4bbb582ab36289",
       "version_major": 2,
       "version_minor": 0
      },
      "text/plain": [
       "Training: 0it [00:00, ?it/s]"
      ]
     },
     "metadata": {},
     "output_type": "display_data"
    },
    {
     "name": "stderr",
     "output_type": "stream",
     "text": [
      "/Users/jaimeferrando/miniconda3/lib/python3.8/site-packages/pytorch_lightning/trainer/trainer.py:685: UserWarning: Detected KeyboardInterrupt, attempting graceful shutdown...\n",
      "  rank_zero_warn(\"Detected KeyboardInterrupt, attempting graceful shutdown...\")\n"
     ]
    }
   ],
   "source": [
    "trainer = Trainer(max_epochs=1)\n",
    "trainer.fit(model, train)"
   ]
  },
  {
   "cell_type": "code",
   "execution_count": 9,
   "id": "70dcced5-c432-439c-aca6-e7ab09518ba3",
   "metadata": {},
   "outputs": [
    {
     "data": {
      "text/plain": [
       "tensor([[4.0044]], grad_fn=<AddmmBackward0>)"
      ]
     },
     "execution_count": 9,
     "metadata": {},
     "output_type": "execute_result"
    }
   ],
   "source": [
    "pair = torch.tensor([[1,1193]])\n",
    "context = torch.tensor([])\n",
    "user = torch.tensor([[0,1,0,1]])\n",
    "item = torch.tensor([[0,0]])\n",
    "\n",
    "model(pair, context, user, item)"
   ]
  },
  {
   "cell_type": "code",
   "execution_count": null,
   "id": "73fe555c-ae23-46d1-8bbc-7ed8ada398a2",
   "metadata": {},
   "outputs": [],
   "source": []
  }
 ],
 "metadata": {
  "kernelspec": {
   "display_name": "Python 3 (ipykernel)",
   "language": "python",
   "name": "python3"
  },
  "language_info": {
   "codemirror_mode": {
    "name": "ipython",
    "version": 3
   },
   "file_extension": ".py",
   "mimetype": "text/x-python",
   "name": "python",
   "nbconvert_exporter": "python",
   "pygments_lexer": "ipython3",
   "version": "3.8.5"
  }
 },
 "nbformat": 4,
 "nbformat_minor": 5
}
