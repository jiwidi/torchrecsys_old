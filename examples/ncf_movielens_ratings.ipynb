{
 "cells": [
  {
   "cell_type": "code",
   "execution_count": 1,
   "id": "3b208d48-2e13-4f46-82ac-36f267819697",
   "metadata": {},
   "outputs": [],
   "source": [
    "from torchrecsys.models import NCF\n",
    "from torchrecsys.external_datasets import Movielens_1M\n",
    "from torchrecsys.datasets import InteractionsDataset\n",
    "from pytorch_lightning import Trainer\n",
    "import pandas as pd\n",
    "import torch\n",
    "from torch.utils.data import DataLoader"
   ]
  },
  {
   "cell_type": "code",
   "execution_count": 2,
   "id": "f9488f91-7039-4554-bdb2-509a4e11b3d2",
   "metadata": {},
   "outputs": [],
   "source": [
    "data = Movielens_1M()\n",
    "ratings, users, movies = data.load()"
   ]
  },
  {
   "cell_type": "code",
   "execution_count": 3,
   "id": "b43ccc81-2db4-4e3c-8924-4d27bccaea4c",
   "metadata": {},
   "outputs": [],
   "source": [
    "#Preprocess users\n",
    "users['gender'], uniques = pd.factorize(users['gender'])\n",
    "users['occupation'], uniques = pd.factorize(users['occupation'])\n",
    "users['zip'], uniques = pd.factorize(users['zip'])\n",
    "##Set category dtype\n",
    "users['gender'] = users.gender.astype('category')\n",
    "users['occupation'] = users.occupation.astype('category')\n",
    "users['zip'] = users.zip.astype('category')\n",
    "\n",
    "#Preprocess movies, \n",
    "##categories to index\n",
    "movies['title'], uniques = pd.factorize(movies['title'])\n",
    "movies['genres'], uniques = pd.factorize(movies['genres'])\n",
    "##Set category dtype\n",
    "movies['title'] = movies.title.astype('category')\n",
    "movies['genres'] = movies.genres.astype('category')"
   ]
  },
  {
   "cell_type": "code",
   "execution_count": 4,
   "id": "4bf95e43-1404-4fa7-bc0b-2e23a4c77eb2",
   "metadata": {},
   "outputs": [],
   "source": [
    "dataset = InteractionsDataset(ratings, users, movies, item_id=\"movie_id\", interaction_id=\"rating\")\n",
    "train = DataLoader(dataset, batch_size=512)"
   ]
  },
  {
   "cell_type": "code",
   "execution_count": 5,
   "id": "808e561f-5d4a-4506-a40d-2b42ca08d711",
   "metadata": {},
   "outputs": [],
   "source": [
    "model = NCF(dataset.data_schema)"
   ]
  },
  {
   "cell_type": "code",
   "execution_count": 6,
   "id": "9c726aad-81a8-47ec-bfa5-777cc8fa7236",
   "metadata": {},
   "outputs": [
    {
     "name": "stderr",
     "output_type": "stream",
     "text": [
      "GPU available: False, used: False\n",
      "TPU available: False, using: 0 TPU cores\n",
      "IPU available: False, using: 0 IPUs\n",
      "/Users/jaimeferrando/miniconda3/lib/python3.8/site-packages/pytorch_lightning/trainer/configuration_validator.py:118: UserWarning: You defined a `validation_step` but have no `val_dataloader`. Skipping val loop.\n",
      "  rank_zero_warn(\"You defined a `validation_step` but have no `val_dataloader`. Skipping val loop.\")\n",
      "\n",
      "  | Name           | Type       | Params\n",
      "----------------------------------------------\n",
      "0 | user_features  | ModuleList | 27.7 K\n",
      "1 | item_features  | ModuleList | 33.5 K\n",
      "2 | user_embedding | Embedding  | 386 K \n",
      "3 | item_embedding | Embedding  | 288 K \n",
      "4 | mlp            | Sequential | 222 K \n",
      "5 | final_linear   | Linear     | 346   \n",
      "6 | criterion      | MSELoss    | 0     \n",
      "----------------------------------------------\n",
      "959 K     Trainable params\n",
      "0         Non-trainable params\n",
      "959 K     Total params\n",
      "3.839     Total estimated model params size (MB)\n",
      "/Users/jaimeferrando/miniconda3/lib/python3.8/site-packages/pytorch_lightning/trainer/data_loading.py:110: UserWarning: The dataloader, train_dataloader, does not have many workers which may be a bottleneck. Consider increasing the value of the `num_workers` argument` (try 8 which is the number of cpus on this machine) in the `DataLoader` init to improve performance.\n",
      "  rank_zero_warn(\n"
     ]
    },
    {
     "data": {
      "application/vnd.jupyter.widget-view+json": {
       "model_id": "c07fee9817c147bebba0f92789af0aa6",
       "version_major": 2,
       "version_minor": 0
      },
      "text/plain": [
       "Training: 0it [00:00, ?it/s]"
      ]
     },
     "metadata": {},
     "output_type": "display_data"
    }
   ],
   "source": [
    "trainer = Trainer(max_epochs=1)\n",
    "trainer.fit(model, train)"
   ]
  },
  {
   "cell_type": "code",
   "execution_count": 7,
   "id": "70dcced5-c432-439c-aca6-e7ab09518ba3",
   "metadata": {},
   "outputs": [
    {
     "data": {
      "text/plain": [
       "tensor([[4.5262]], grad_fn=<AddmmBackward0>)"
      ]
     },
     "execution_count": 7,
     "metadata": {},
     "output_type": "execute_result"
    }
   ],
   "source": [
    "pair = torch.tensor([[1,1193]])\n",
    "context = torch.tensor([])\n",
    "user = torch.tensor([[0,1,0,1]])\n",
    "item = torch.tensor([[0,0]])\n",
    "\n",
    "model(pair, context, user, item)"
   ]
  },
  {
   "cell_type": "code",
   "execution_count": 25,
   "id": "21e93242-e074-4a11-aaec-6fe5a7ec0d7f",
   "metadata": {},
   "outputs": [],
   "source": [
    "import numpy as np\n",
    "\n",
    "interactions = np.array(\n",
    "        [\n",
    "            [1, 1193, 5],\n",
    "            [1, 661, 3],\n",
    "            [1, 914, 3],\n",
    "            [2, 3408, 4],\n",
    "            [2, 2355, 5],\n",
    "            [2, 3408, 4],\n",
    "            [2, 2355, 5],\n",
    "        ],\n",
    "        dtype=int,\n",
    "    )\n",
    "interactions = pd.DataFrame(interactions, columns=[\"user_id\", \"item_id\", \"rating\"],)\n",
    "users = np.array(\n",
    "        [\n",
    "            [1, \"F\", 1, \"10\", \"48067\"],\n",
    "            [2, \"M\", 56, \"16\", \"70072\"],\n",
    "            [3, \"M\", 25, \"15\", \"55117\"],\n",
    "            [4, \"M\", 45, \"7\", \"02460\"],\n",
    "            [5, \"M\", 25, \"20\", \"55455\"],\n",
    "        ]\n",
    "    )\n",
    "users = pd.DataFrame(\n",
    "    users, columns=[\"user_id\", \"sex\", \"age\", \"occupation\", \"postal_code\"]\n",
    ")\n",
    "\n",
    "items = np.array(\n",
    "        [\n",
    "            [1, \"Toy Story (1995)\", \"Animation|Children's|Comedy\"],\n",
    "            [2, \"Jumanji (1995)\", \"Adventure|Children's|Fantasy\"],\n",
    "            [3, \"Grumpier Old Men (1995)\", \"Comedy|Romance\"],\n",
    "            [4, \"Waiting to Exhale (1995)\", \"Comedy|Drama\"],\n",
    "            [5, \"Father of the Bride Part II (1995)\", \"Comedy\"],\n",
    "        ]\n",
    "    )\n",
    "items = pd.DataFrame(items, columns=[\"item_id\", \"title\", \"genre\"])"
   ]
  },
  {
   "cell_type": "code",
   "execution_count": 20,
   "id": "a67c31d9-deca-41ed-bad2-a364efbbe5b0",
   "metadata": {},
   "outputs": [],
   "source": [
    "a = InteractionsDataset(\n",
    "        interactions,\n",
    "        users,\n",
    "        items,\n",
    "        interaction_id=\"rating\",\n",
    "    )"
   ]
  },
  {
   "cell_type": "code",
   "execution_count": 26,
   "id": "26c23803-0581-4c29-b51a-6c0a2a7d0d38",
   "metadata": {},
   "outputs": [
    {
     "data": {
      "text/plain": [
       "user_id        object\n",
       "sex            object\n",
       "age            object\n",
       "occupation     object\n",
       "postal_code    object\n",
       "dtype: object"
      ]
     },
     "execution_count": 26,
     "metadata": {},
     "output_type": "execute_result"
    }
   ],
   "source": [
    "users.dtypes"
   ]
  },
  {
   "cell_type": "code",
   "execution_count": null,
   "id": "73fe555c-ae23-46d1-8bbc-7ed8ada398a2",
   "metadata": {},
   "outputs": [],
   "source": []
  }
 ],
 "metadata": {
  "kernelspec": {
   "display_name": "Python 3 (ipykernel)",
   "language": "python",
   "name": "python3"
  },
  "language_info": {
   "codemirror_mode": {
    "name": "ipython",
    "version": 3
   },
   "file_extension": ".py",
   "mimetype": "text/x-python",
   "name": "python",
   "nbconvert_exporter": "python",
   "pygments_lexer": "ipython3",
   "version": "3.8.5"
  }
 },
 "nbformat": 4,
 "nbformat_minor": 5
}
