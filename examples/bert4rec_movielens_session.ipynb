{
 "cells": [
  {
   "cell_type": "code",
   "execution_count": 1,
   "id": "7290b9ec-2c0b-449e-b686-669ba0675121",
   "metadata": {},
   "outputs": [],
   "source": [
    "from torchrecsys.external_datasets import Movielens_1M\n",
    "from torchrecsys.datasets import Seq2SeqDataset\n",
    "from torchrecsys.models import Bert4Rec\n",
    "from pytorch_lightning import Trainer\n",
    "import pandas as pd\n",
    "import torch\n",
    "from torch.utils.data import DataLoader"
   ]
  },
  {
   "cell_type": "code",
   "execution_count": null,
   "id": "ca1bb7e0-915e-4ba3-a138-afea5dd9ae88",
   "metadata": {},
   "outputs": [],
   "source": [
    "ratings, users, movies = Movielens_1M().load()"
   ]
  },
  {
   "cell_type": "code",
   "execution_count": null,
   "id": "4a6e10b2-5078-4da5-98e2-619c56e4957f",
   "metadata": {},
   "outputs": [],
   "source": [
    "#Preprocess users\n",
    "users['gender'], uniques = pd.factorize(users['gender'])\n",
    "users['occupation'], uniques = pd.factorize(users['occupation'])\n",
    "users['zip'], uniques = pd.factorize(users['zip'])\n",
    "##Set category dtype\n",
    "users['gender'] = users.gender.astype('category')\n",
    "users['occupation'] = users.occupation.astype('category')\n",
    "users['zip'] = users.zip.astype('category')\n",
    "\n",
    "#Preprocess movies, \n",
    "##categories to index\n",
    "movies['title'], uniques = pd.factorize(movies['title'])\n",
    "movies['genres'], uniques = pd.factorize(movies['genres'])\n",
    "##Set category dtype\n",
    "movies['title'] = movies.title.astype('category')\n",
    "movies['genres'] = movies.genres.astype('category')\n",
    "\n",
    "max_item_id = movies['movie_id'].max()"
   ]
  },
  {
   "cell_type": "code",
   "execution_count": null,
   "id": "60e92ec6-15a6-416d-8fce-453752dc4705",
   "metadata": {},
   "outputs": [],
   "source": [
    "sorted_sequences = ratings.sort_values(by=['timestamp']).groupby('user_id')['movie_id'].apply(list).to_frame()"
   ]
  },
  {
   "cell_type": "code",
   "execution_count": null,
   "id": "b2046a35-8d9e-4cd5-bd9e-11b9aacfaf18",
   "metadata": {},
   "outputs": [],
   "source": [
    "sorted_sequences.head()"
   ]
  },
  {
   "cell_type": "code",
   "execution_count": null,
   "id": "d48cc404-e364-4dbd-ab7d-11d572683896",
   "metadata": {},
   "outputs": [],
   "source": [
    "dataset = Seq2SeqDataset(sorted_sequences, movies, sequence_id=\"movie_id\", item_id=\"movie_id\", max_item_id=max_item_id)\n",
    "train = DataLoader(dataset, batch_size=512)"
   ]
  },
  {
   "cell_type": "code",
   "execution_count": null,
   "id": "6331a0d8-567c-422c-968e-4920985b542a",
   "metadata": {},
   "outputs": [],
   "source": [
    "Bert4Rec(dataset.data_schema)"
   ]
  },
  {
   "cell_type": "code",
   "execution_count": null,
   "id": "50e7ada0-fed2-4bbf-8eb2-e6af470d626f",
   "metadata": {},
   "outputs": [],
   "source": []
  }
 ],
 "metadata": {
  "kernelspec": {
   "display_name": "Python 3 (ipykernel)",
   "language": "python",
   "name": "python3"
  },
  "language_info": {
   "codemirror_mode": {
    "name": "ipython",
    "version": 3
   },
   "file_extension": ".py",
   "mimetype": "text/x-python",
   "name": "python",
   "nbconvert_exporter": "python",
   "pygments_lexer": "ipython3",
   "version": "3.8.5"
  }
 },
 "nbformat": 4,
 "nbformat_minor": 5
}
