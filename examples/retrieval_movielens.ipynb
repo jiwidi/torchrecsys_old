{
 "cells": [
  {
   "cell_type": "code",
   "execution_count": 1,
   "id": "185b2d87-7392-441e-9eaf-fe0ed8c6e2f6",
   "metadata": {},
   "outputs": [],
   "source": [
    "from io import BytesIO\n",
    "from urllib.request import urlopen\n",
    "from zipfile import ZipFile\n",
    "import pandas as pd\n",
    "from sklearn.model_selection import train_test_split\n",
    "\n",
    "import torch\n",
    "import pytorch_lightning as pl\n",
    "from pytorch_lightning.callbacks.early_stopping import EarlyStopping\n",
    "from torchrecsys.datasets import InteractionsDataset, SequenceDataset\n",
    "from torchrecsys.models import BaseModel\n",
    "from torchrecsys.task import Ranking\n",
    "from torchrecsys.layers import BruteForceLayer\n",
    "import torchrecsys as trs"
   ]
  },
  {
   "cell_type": "markdown",
   "id": "b94a1873-1cdb-46bf-a7b0-bdc4b63c4658",
   "metadata": {},
   "source": [
    "# Data"
   ]
  },
  {
   "cell_type": "code",
   "execution_count": 2,
   "id": "f4de02ef-e60a-4b5d-86db-7d054fa931d3",
   "metadata": {},
   "outputs": [],
   "source": [
    "# data_path = \"https://files.grouplens.org/datasets/movielens/ml-25m.zip\"\n",
    "data_path = \"https://files.grouplens.org/datasets/movielens/ml-1m.zip\""
   ]
  },
  {
   "cell_type": "code",
   "execution_count": 3,
   "id": "11afffd6-e751-4ec1-b420-0918ba180082",
   "metadata": {},
   "outputs": [],
   "source": [
    "with urlopen(data_path) as zipresp:\n",
    "    with ZipFile(BytesIO(zipresp.read())) as zfile:\n",
    "        zfile.extractall('data/')"
   ]
  },
  {
   "cell_type": "code",
   "execution_count": 4,
   "id": "ff09cf2a-b670-41c0-b915-9d90d7eb930d",
   "metadata": {},
   "outputs": [
    {
     "name": "stderr",
     "output_type": "stream",
     "text": [
      "/home/jiwidi/miniconda3/envs/cuda/lib/python3.8/site-packages/pandas/util/_decorators.py:311: ParserWarning: Falling back to the 'python' engine because the 'c' engine does not support regex separators (separators > 1 char and different from '\\s+' are interpreted as regex); you can avoid this warning by specifying engine='python'.\n",
      "  return func(*args, **kwargs)\n"
     ]
    }
   ],
   "source": [
    "ratings = pd.read_csv(\"data/ml-1m/ratings.dat\", sep=\"::\", names=[\"userId\",\"movieId\",\"rating\",\"timestamp\"])\n",
    "n_users = ratings.userId.max()+1\n",
    "n_movies = ratings.movieId.max()+1"
   ]
  },
  {
   "cell_type": "code",
   "execution_count": 5,
   "id": "b155fb1e-61dd-445f-bd91-213787755ab6",
   "metadata": {},
   "outputs": [],
   "source": [
    "ds =  ratings[[\"userId\",\"movieId\"]].values\n",
    "train_ds, val_ds = train_test_split(ds, test_size=0.33, random_state=42)\n",
    "\n",
    "window_length = 5\n",
    "train_ds = InteractionsDataset(train_ds)\n",
    "val_ds = InteractionsDataset(val_ds)\n",
    "\n",
    "train_dataloader = torch.utils.data.DataLoader(train_ds, batch_size=4096, shuffle=True, num_workers=6)\n",
    "val_dataloader = torch.utils.data.DataLoader(val_ds, batch_size=256, shuffle=False, num_workers=2)"
   ]
  },
  {
   "cell_type": "code",
   "execution_count": 6,
   "id": "c5d96d43-b9c1-4a92-8cd6-7e7672c0755c",
   "metadata": {},
   "outputs": [],
   "source": [
    "candidates = ratings.movieId.unique()"
   ]
  },
  {
   "cell_type": "markdown",
   "id": "efcca0cf-975d-4a4d-8d23-03dd12303fbc",
   "metadata": {},
   "source": [
    "# Model"
   ]
  },
  {
   "cell_type": "code",
   "execution_count": 7,
   "id": "1b417ec2-2d56-42de-8921-856ae93cb9ae",
   "metadata": {},
   "outputs": [
    {
     "ename": "SyntaxError",
     "evalue": "invalid syntax (<ipython-input-7-52d2b4f157f6>, line 26)",
     "output_type": "error",
     "traceback": [
      "\u001b[0;36m  File \u001b[0;32m\"<ipython-input-7-52d2b4f157f6>\"\u001b[0;36m, line \u001b[0;32m26\u001b[0m\n\u001b[0;31m    self.task = Ranking(metrics -)\u001b[0m\n\u001b[0m                                 ^\u001b[0m\n\u001b[0;31mSyntaxError\u001b[0m\u001b[0;31m:\u001b[0m invalid syntax\n"
     ]
    }
   ],
   "source": [
    "class userModel(torch.nn.Module):\n",
    "    def __init__(self, n_users, embedding_size=128):\n",
    "        super().__init__()\n",
    "        self.user_embeddings = torch.nn.Embedding(n_users, embedding_size)\n",
    "        \n",
    "    def forward(self, x):\n",
    "        user = self.user_embeddings(x)\n",
    "        \n",
    "        return user\n",
    "    \n",
    "class movieModel(torch.nn.Module):\n",
    "    def __init__(self, n_movies, embedding_size=128):\n",
    "        super().__init__()\n",
    "        self.movie_embeddings = torch.nn.Embedding(n_movies, embedding_size)\n",
    "        \n",
    "    def forward(self, x):\n",
    "        movie = self.movie_embeddings(x)\n",
    "        \n",
    "        return movie\n",
    "\n",
    "class retrievalModel(trs.BaseModel):\n",
    "    def __init__(self, user_model, movie_model):\n",
    "        super().__init__()\n",
    "        self.user_model = user_model\n",
    "        self.movie_model = movie_model\n",
    "        self.task = Ranking(metrics -)\n",
    "        self.optimizer = torch.optim.Adam(self.parameters(), lr=1e-3)\n",
    "\n",
    "    def forward(self, x):\n",
    "        # Query, the session data\n",
    "        user, movie = x\n",
    "        \n",
    "        query = self.user_model(user)\n",
    "        candidate = self.movie_model(movie)\n",
    "\n",
    "        # The task computes the loss and the metrics.\n",
    "        return query, candidate\n",
    "    \n",
    "\n",
    "\n",
    "model = retrievalModel(user_model = userModel(n_users), movie_model=movieModel(n_movies))"
   ]
  },
  {
   "cell_type": "code",
   "execution_count": null,
   "id": "b4d3f33b-99f2-45ad-95ab-2ccdbf8939c2",
   "metadata": {},
   "outputs": [],
   "source": [
    "# training\n",
    "trainer = pl.Trainer(gpus=1, precision=32, callbacks=[EarlyStopping(monitor=\"val_loss\", patience=3)])\n",
    "trainer.fit(model, train_dataloader, val_dataloader)"
   ]
  },
  {
   "cell_type": "code",
   "execution_count": null,
   "id": "ee5d2282-565c-4542-836b-21e245adbe98",
   "metadata": {},
   "outputs": [],
   "source": []
  }
 ],
 "metadata": {
  "kernelspec": {
   "display_name": "cuda",
   "language": "python",
   "name": "cuda"
  },
  "language_info": {
   "codemirror_mode": {
    "name": "ipython",
    "version": 3
   },
   "file_extension": ".py",
   "mimetype": "text/x-python",
   "name": "python",
   "nbconvert_exporter": "python",
   "pygments_lexer": "ipython3",
   "version": "3.8.12"
  }
 },
 "nbformat": 4,
 "nbformat_minor": 5
}
