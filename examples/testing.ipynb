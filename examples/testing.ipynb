{
 "cells": [
  {
   "cell_type": "code",
   "execution_count": 1,
   "id": "9ff0139c-e203-4f77-8df6-586d483abad0",
   "metadata": {},
   "outputs": [],
   "source": [
    "# !pip install tensorflow"
   ]
  },
  {
   "cell_type": "code",
   "execution_count": 2,
   "id": "27587a61-7e58-4c1d-a184-80c6971110d3",
   "metadata": {},
   "outputs": [],
   "source": [
    "import torch\n",
    "import pandas as pd\n",
    "import numpy as np\n",
    "import tensorflow as tf\n",
    "from torch.utils.data import Dataset, DataLoader\n",
    "import os\n",
    "from pprint import pprint\n",
    "import matplotlib\n",
    "from tqdm.notebook import tqdm\n",
    "from sklearn.preprocessing import LabelEncoder\n",
    "\n",
    "os.environ['KMP_DUPLICATE_LIB_OK']='True'"
   ]
  },
  {
   "cell_type": "code",
   "execution_count": 4,
   "id": "85436fee-f532-47b8-85e5-0fb4de3891bf",
   "metadata": {},
   "outputs": [],
   "source": [
    "movielens_data_file_url = (\n",
    "    \"http://files.grouplens.org/datasets/movielens/ml-latest-small.zip\"\n",
    ")\n",
    "movielens_dir = \"data/ml-25m/\"\n",
    "\n",
    "ratings_file = movielens_dir + \"ratings.csv\"\n",
    "tags_file = movielens_dir + \"tags.csv\"\n",
    "movies_file = movielens_dir + \"movies.csv\"\n",
    "\n",
    "df = pd.read_csv(ratings_file)\n",
    "tags = pd.read_csv(tags_file)\n",
    "movies = pd.read_csv(movies_file)\n",
    "\n",
    "encoder = LabelEncoder()\n",
    "movies[\"movieId\"] = encoder.fit_transform(movies[\"movieId\"])\n",
    "df[\"movieId\"] = encoder.transform(df[\"movieId\"])\n"
   ]
  },
  {
   "cell_type": "code",
   "execution_count": 7,
   "id": "c7e9a84a-26f4-4eed-8ae5-b9cb00b83e53",
   "metadata": {},
   "outputs": [
    {
     "data": {
      "text/html": [
       "<div>\n",
       "<style scoped>\n",
       "    .dataframe tbody tr th:only-of-type {\n",
       "        vertical-align: middle;\n",
       "    }\n",
       "\n",
       "    .dataframe tbody tr th {\n",
       "        vertical-align: top;\n",
       "    }\n",
       "\n",
       "    .dataframe thead th {\n",
       "        text-align: right;\n",
       "    }\n",
       "</style>\n",
       "<table border=\"1\" class=\"dataframe\">\n",
       "  <thead>\n",
       "    <tr style=\"text-align: right;\">\n",
       "      <th></th>\n",
       "      <th>userId</th>\n",
       "      <th>movieId</th>\n",
       "      <th>rating</th>\n",
       "      <th>timestamp</th>\n",
       "    </tr>\n",
       "  </thead>\n",
       "  <tbody>\n",
       "    <tr>\n",
       "      <th>0</th>\n",
       "      <td>1</td>\n",
       "      <td>292</td>\n",
       "      <td>5.0</td>\n",
       "      <td>1147880044</td>\n",
       "    </tr>\n",
       "    <tr>\n",
       "      <th>1</th>\n",
       "      <td>1</td>\n",
       "      <td>302</td>\n",
       "      <td>3.5</td>\n",
       "      <td>1147868817</td>\n",
       "    </tr>\n",
       "    <tr>\n",
       "      <th>2</th>\n",
       "      <td>1</td>\n",
       "      <td>303</td>\n",
       "      <td>5.0</td>\n",
       "      <td>1147868828</td>\n",
       "    </tr>\n",
       "    <tr>\n",
       "      <th>3</th>\n",
       "      <td>1</td>\n",
       "      <td>654</td>\n",
       "      <td>5.0</td>\n",
       "      <td>1147878820</td>\n",
       "    </tr>\n",
       "    <tr>\n",
       "      <th>4</th>\n",
       "      <td>1</td>\n",
       "      <td>878</td>\n",
       "      <td>3.5</td>\n",
       "      <td>1147868510</td>\n",
       "    </tr>\n",
       "    <tr>\n",
       "      <th>...</th>\n",
       "      <td>...</td>\n",
       "      <td>...</td>\n",
       "      <td>...</td>\n",
       "      <td>...</td>\n",
       "    </tr>\n",
       "    <tr>\n",
       "      <th>25000090</th>\n",
       "      <td>162541</td>\n",
       "      <td>11361</td>\n",
       "      <td>4.5</td>\n",
       "      <td>1240953372</td>\n",
       "    </tr>\n",
       "    <tr>\n",
       "      <th>25000091</th>\n",
       "      <td>162541</td>\n",
       "      <td>11928</td>\n",
       "      <td>2.5</td>\n",
       "      <td>1240951998</td>\n",
       "    </tr>\n",
       "    <tr>\n",
       "      <th>25000092</th>\n",
       "      <td>162541</td>\n",
       "      <td>11975</td>\n",
       "      <td>2.0</td>\n",
       "      <td>1240950697</td>\n",
       "    </tr>\n",
       "    <tr>\n",
       "      <th>25000093</th>\n",
       "      <td>162541</td>\n",
       "      <td>12221</td>\n",
       "      <td>4.0</td>\n",
       "      <td>1240953434</td>\n",
       "    </tr>\n",
       "    <tr>\n",
       "      <th>25000094</th>\n",
       "      <td>162541</td>\n",
       "      <td>12824</td>\n",
       "      <td>5.0</td>\n",
       "      <td>1240952515</td>\n",
       "    </tr>\n",
       "  </tbody>\n",
       "</table>\n",
       "<p>25000095 rows × 4 columns</p>\n",
       "</div>"
      ],
      "text/plain": [
       "          userId  movieId  rating   timestamp\n",
       "0              1      292     5.0  1147880044\n",
       "1              1      302     3.5  1147868817\n",
       "2              1      303     5.0  1147868828\n",
       "3              1      654     5.0  1147878820\n",
       "4              1      878     3.5  1147868510\n",
       "...          ...      ...     ...         ...\n",
       "25000090  162541    11361     4.5  1240953372\n",
       "25000091  162541    11928     2.5  1240951998\n",
       "25000092  162541    11975     2.0  1240950697\n",
       "25000093  162541    12221     4.0  1240953434\n",
       "25000094  162541    12824     5.0  1240952515\n",
       "\n",
       "[25000095 rows x 4 columns]"
      ]
     },
     "execution_count": 7,
     "metadata": {},
     "output_type": "execute_result"
    }
   ],
   "source": [
    "df"
   ]
  },
  {
   "cell_type": "code",
   "execution_count": 4,
   "id": "2d590a10-1d10-490e-9623-fdf878a7636d",
   "metadata": {},
   "outputs": [],
   "source": [
    "max_user_id = df.userId.max()+1\n",
    "max_movie_id = df.movieId.max()+1"
   ]
  },
  {
   "cell_type": "code",
   "execution_count": 5,
   "id": "4c2da9de-5cd0-4917-a775-974bffdd8db6",
   "metadata": {},
   "outputs": [],
   "source": [
    "class movieDataset(Dataset):\n",
    "    def __init__(self,df):\n",
    "        self.data = df\n",
    "\n",
    "    def __len__(self):\n",
    "        return len(self.data)\n",
    "\n",
    "    def __getitem__(self,idx):\n",
    "        return self.data[idx][0],self.data[idx][1]\n",
    "    \n",
    "training_data = movieDataset(df[[\"userId\",\"movieId\"]].values)\n",
    "train_dataloader = DataLoader(training_data, batch_size=64, shuffle=True)"
   ]
  },
  {
   "cell_type": "code",
   "execution_count": 6,
   "id": "b2bacdfa-f976-461b-b101-cef5d604689a",
   "metadata": {},
   "outputs": [],
   "source": [
    "# movie_model = tf.keras.Sequential([\n",
    "#   tf.keras.layers.StringLookup(\n",
    "#       vocabulary=unique_movie_titles, mask_token=None),\n",
    "#   tf.keras.layers.Embedding(len(unique_movie_titles) + 1, embedding_dimension)\n",
    "# ])\n",
    "\n",
    "# user_model = tf.keras.Sequential([\n",
    "#   tf.keras.layers.StringLookup(\n",
    "#       vocabulary=unique_user_ids, mask_token=None),\n",
    "#   # We add an additional embedding to account for unknown tokens.\n",
    "#   tf.keras.layers.Embedding(len(unique_user_ids) + 1, embedding_dimension)\n",
    "# ])\n",
    "\n",
    "# class MovielensModel(tfrs.Model):\n",
    "\n",
    "#   def __init__(self, user_model, movie_model):\n",
    "#     super().__init__()\n",
    "#     self.movie_model: tf.keras.Model = movie_model\n",
    "#     self.user_model: tf.keras.Model = user_model\n",
    "#     self.task: tf.keras.layers.Layer = task\n",
    "\n",
    "#   def compute_loss(self, features: Dict[Text, tf.Tensor], training=False) -> tf.Tensor:\n",
    "#     # We pick out the user features and pass them into the user model.\n",
    "#     user_embeddings = self.user_model(features[\"user_id\"])\n",
    "#     # And pick out the movie features and pass them into the movie model,\n",
    "#     # getting embeddings back.\n",
    "#     positive_movie_embeddings = self.movie_model(features[\"movie_title\"])\n",
    "\n",
    "#     # The task computes the loss and the metrics.\n",
    "#     return self.task(user_embeddings, positive_movie_embeddings)"
   ]
  },
  {
   "cell_type": "code",
   "execution_count": 7,
   "id": "625f3dd0-ff17-481f-999a-a516e31151cf",
   "metadata": {},
   "outputs": [],
   "source": [
    "query = np.random.rand(8,2)\n",
    "candidate = np.random.rand(8,2)"
   ]
  },
  {
   "cell_type": "code",
   "execution_count": 8,
   "id": "c5aa2f44-7dee-4d1e-bd73-e1c91db8b057",
   "metadata": {},
   "outputs": [
    {
     "name": "stdout",
     "output_type": "stream",
     "text": [
      "tensor(17.1879, dtype=torch.float64)\n"
     ]
    },
    {
     "name": "stderr",
     "output_type": "stream",
     "text": [
      "<ipython-input-8-22cd094ac3b7>:13: UserWarning: torch.range is deprecated and will be removed in a future release because its behavior is inconsistent with Python's range builtin. Instead, use torch.arange, which produces values in [start, end).\n",
      "  labels = torch.range(0, num_queries-1, dtype=int)\n"
     ]
    }
   ],
   "source": [
    "class rankingTask():\n",
    "    def __init__(self):\n",
    "        self.loss = torch.nn.CrossEntropyLoss(reduction=\"sum\")\n",
    "        pass\n",
    "    \n",
    "    def __call__(self, query_embeddings, candidate_embeddings):\n",
    "        scores = torch.matmul(\n",
    "            query_embeddings, torch.transpose(candidate_embeddings,0,1)\n",
    "        )\n",
    "        \n",
    "        num_queries, num_candidates = scores.shape\n",
    "\n",
    "        labels = torch.range(0, num_queries-1, dtype=int)\n",
    "    \n",
    "    \n",
    "        loss = self.loss(input=scores, target=labels)\n",
    "        \n",
    "        return loss\n",
    "\n",
    "    \n",
    "class MovieModel(torch.nn.Module):\n",
    "    def __init__(self):\n",
    "        super().__init__()\n",
    "        self.user_model = torch.nn.Embedding(max_user_id, 64)\n",
    "        self.movie_model = torch.nn.Embedding(max_movie_id, 64)\n",
    "        self.task = rankingTask()\n",
    "\n",
    "    def forward(self, x):\n",
    "        user, movie = x\n",
    "        user = self.user_model(user)\n",
    "        movie = self.movie_model(movie)\n",
    "        \n",
    "        loss = self.task(user,movie)\n",
    "        return loss\n",
    "        \n",
    "\n",
    "task = rankingTask()\n",
    "query_torch = torch.tensor(query)\n",
    "candidate_torch = torch.tensor(candidate)\n",
    "loss = task(query_torch, candidate_torch)\n",
    "pprint(loss)\n",
    "model = MovieModel()"
   ]
  },
  {
   "cell_type": "code",
   "execution_count": 9,
   "id": "1a58421f-96b3-431e-afef-db293899069a",
   "metadata": {},
   "outputs": [
    {
     "data": {
      "application/vnd.jupyter.widget-view+json": {
       "model_id": "82769eaa2a3b4befb12b7e7e14e3fe61",
       "version_major": 2,
       "version_minor": 0
      },
      "text/plain": [
       "  0%|          | 0/1576 [00:00<?, ?it/s]"
      ]
     },
     "metadata": {},
     "output_type": "display_data"
    },
    {
     "name": "stderr",
     "output_type": "stream",
     "text": [
      "<ipython-input-8-22cd094ac3b7>:13: UserWarning: torch.range is deprecated and will be removed in a future release because its behavior is inconsistent with Python's range builtin. Instead, use torch.arange, which produces values in [start, end).\n",
      "  labels = torch.range(0, num_queries-1, dtype=int)\n",
      "/home/jiwidi/miniconda3/envs/cuda/lib/python3.8/site-packages/torch/autograd/__init__.py:154: UserWarning: CUDA initialization: Unexpected error from cudaGetDeviceCount(). Did you run some cuda functions before calling NumCudaDevices() that might have already set an error? Error 804: forward compatibility was attempted on non supported HW (Triggered internally at  /opt/conda/conda-bld/pytorch_1634272068694/work/c10/cuda/CUDAFunctions.cpp:112.)\n",
      "  Variable._execution_engine.run_backward(\n"
     ]
    },
    {
     "name": "stdout",
     "output_type": "stream",
     "text": [
      "[1,   200] loss: 108.018\n",
      "[1,   400] loss: 87.670\n",
      "[1,   600] loss: 74.773\n",
      "[1,   800] loss: 67.085\n",
      "[1,  1000] loss: 60.749\n",
      "[1,  1200] loss: 56.718\n",
      "[1,  1400] loss: 53.482\n"
     ]
    },
    {
     "data": {
      "application/vnd.jupyter.widget-view+json": {
       "model_id": "e4be8b9ca3534df58811385c0cd4a97b",
       "version_major": 2,
       "version_minor": 0
      },
      "text/plain": [
       "  0%|          | 0/1576 [00:00<?, ?it/s]"
      ]
     },
     "metadata": {},
     "output_type": "display_data"
    },
    {
     "name": "stdout",
     "output_type": "stream",
     "text": [
      "[2,   200] loss: 46.153\n",
      "[2,   400] loss: 44.518\n",
      "[2,   600] loss: 43.108\n",
      "[2,   800] loss: 42.586\n",
      "[2,  1000] loss: 40.991\n",
      "[2,  1200] loss: 40.273\n",
      "[2,  1400] loss: 39.147\n"
     ]
    },
    {
     "data": {
      "application/vnd.jupyter.widget-view+json": {
       "model_id": "d002cb4f9a094cd1acb8bf8a6a9749eb",
       "version_major": 2,
       "version_minor": 0
      },
      "text/plain": [
       "  0%|          | 0/1576 [00:00<?, ?it/s]"
      ]
     },
     "metadata": {},
     "output_type": "display_data"
    },
    {
     "name": "stdout",
     "output_type": "stream",
     "text": [
      "[3,   200] loss: 36.304\n",
      "[3,   400] loss: 36.116\n",
      "[3,   600] loss: 35.139\n",
      "[3,   800] loss: 34.606\n",
      "[3,  1000] loss: 34.591\n",
      "[3,  1200] loss: 34.107\n",
      "[3,  1400] loss: 33.599\n"
     ]
    },
    {
     "data": {
      "application/vnd.jupyter.widget-view+json": {
       "model_id": "0b5fa66834a6400293fa9a3bbdd4112c",
       "version_major": 2,
       "version_minor": 0
      },
      "text/plain": [
       "  0%|          | 0/1576 [00:00<?, ?it/s]"
      ]
     },
     "metadata": {},
     "output_type": "display_data"
    },
    {
     "name": "stdout",
     "output_type": "stream",
     "text": [
      "[4,   200] loss: 31.709\n",
      "[4,   400] loss: 31.893\n",
      "[4,   600] loss: 31.850\n",
      "[4,   800] loss: 31.581\n",
      "[4,  1000] loss: 31.515\n",
      "[4,  1200] loss: 31.062\n",
      "[4,  1400] loss: 31.025\n"
     ]
    },
    {
     "data": {
      "application/vnd.jupyter.widget-view+json": {
       "model_id": "fecd37919c174e788a29ae04de2f8c1e",
       "version_major": 2,
       "version_minor": 0
      },
      "text/plain": [
       "  0%|          | 0/1576 [00:00<?, ?it/s]"
      ]
     },
     "metadata": {},
     "output_type": "display_data"
    },
    {
     "name": "stdout",
     "output_type": "stream",
     "text": [
      "[5,   200] loss: 29.475\n",
      "[5,   400] loss: 29.573\n",
      "[5,   600] loss: 29.757\n",
      "[5,   800] loss: 29.626\n",
      "[5,  1000] loss: 29.684\n",
      "[5,  1200] loss: 29.467\n",
      "[5,  1400] loss: 29.501\n"
     ]
    },
    {
     "data": {
      "application/vnd.jupyter.widget-view+json": {
       "model_id": "41d22ce1ff2144a1aed99e01d1b44e3f",
       "version_major": 2,
       "version_minor": 0
      },
      "text/plain": [
       "  0%|          | 0/1576 [00:00<?, ?it/s]"
      ]
     },
     "metadata": {},
     "output_type": "display_data"
    },
    {
     "name": "stdout",
     "output_type": "stream",
     "text": [
      "[6,   200] loss: 28.109\n",
      "[6,   400] loss: 28.338\n",
      "[6,   600] loss: 28.333\n",
      "[6,   800] loss: 28.584\n",
      "[6,  1000] loss: 28.356\n",
      "[6,  1200] loss: 28.387\n",
      "[6,  1400] loss: 28.391\n"
     ]
    },
    {
     "data": {
      "application/vnd.jupyter.widget-view+json": {
       "model_id": "b4dfb948179f4efa865187c866f07342",
       "version_major": 2,
       "version_minor": 0
      },
      "text/plain": [
       "  0%|          | 0/1576 [00:00<?, ?it/s]"
      ]
     },
     "metadata": {},
     "output_type": "display_data"
    },
    {
     "name": "stdout",
     "output_type": "stream",
     "text": [
      "[7,   200] loss: 27.256\n",
      "[7,   400] loss: 27.420\n",
      "[7,   600] loss: 27.448\n",
      "[7,   800] loss: 27.667\n",
      "[7,  1000] loss: 27.614\n",
      "[7,  1200] loss: 27.588\n",
      "[7,  1400] loss: 27.573\n"
     ]
    },
    {
     "data": {
      "application/vnd.jupyter.widget-view+json": {
       "model_id": "c9f1ff8fc0234ab3b76097867c32089c",
       "version_major": 2,
       "version_minor": 0
      },
      "text/plain": [
       "  0%|          | 0/1576 [00:00<?, ?it/s]"
      ]
     },
     "metadata": {},
     "output_type": "display_data"
    },
    {
     "name": "stdout",
     "output_type": "stream",
     "text": [
      "[8,   200] loss: 26.557\n",
      "[8,   400] loss: 26.805\n",
      "[8,   600] loss: 26.953\n",
      "[8,   800] loss: 26.875\n",
      "[8,  1000] loss: 27.070\n",
      "[8,  1200] loss: 27.018\n",
      "[8,  1400] loss: 27.019\n"
     ]
    },
    {
     "data": {
      "application/vnd.jupyter.widget-view+json": {
       "model_id": "b75e2f1031974200a81ec3aa0ac80244",
       "version_major": 2,
       "version_minor": 0
      },
      "text/plain": [
       "  0%|          | 0/1576 [00:00<?, ?it/s]"
      ]
     },
     "metadata": {},
     "output_type": "display_data"
    },
    {
     "name": "stdout",
     "output_type": "stream",
     "text": [
      "[9,   200] loss: 26.080\n",
      "[9,   400] loss: 26.202\n",
      "[9,   600] loss: 26.511\n",
      "[9,   800] loss: 26.568\n",
      "[9,  1000] loss: 26.499\n",
      "[9,  1200] loss: 26.531\n",
      "[9,  1400] loss: 26.614\n"
     ]
    },
    {
     "data": {
      "application/vnd.jupyter.widget-view+json": {
       "model_id": "a905169dd0a0479eafd0957c3c6ac7ef",
       "version_major": 2,
       "version_minor": 0
      },
      "text/plain": [
       "  0%|          | 0/1576 [00:00<?, ?it/s]"
      ]
     },
     "metadata": {},
     "output_type": "display_data"
    },
    {
     "name": "stdout",
     "output_type": "stream",
     "text": [
      "[10,   200] loss: 25.670\n",
      "[10,   400] loss: 25.853\n",
      "[10,   600] loss: 25.978\n",
      "[10,   800] loss: 26.177\n",
      "[10,  1000] loss: 26.173\n",
      "[10,  1200] loss: 26.261\n",
      "[10,  1400] loss: 26.327\n",
      "Finished Training\n"
     ]
    }
   ],
   "source": [
    "optimizer = torch.optim.SGD(model.parameters(), lr=0.001, momentum=0.9)\n",
    "\n",
    "\n",
    "for epoch in range(10):  # loop over the dataset multiple times\n",
    "\n",
    "    running_loss = 0.0\n",
    "    for i, data in tqdm(enumerate(train_dataloader, 0), total=len(train_dataloader)):\n",
    "        # zero the parameter gradients\n",
    "        optimizer.zero_grad()\n",
    "\n",
    "        # forward + backward + optimize\n",
    "        loss = model(data)\n",
    "        loss.backward()\n",
    "        optimizer.step()\n",
    "\n",
    "        # print statistics\n",
    "        running_loss += loss.item()\n",
    "        if i % 200 == 199:    # print every 200 mini-batches\n",
    "            print(f'[{epoch + 1}, {i + 1:5d}] loss: {running_loss / 2000:.3f}')\n",
    "            running_loss = 0.0\n",
    "\n",
    "print('Finished Training')"
   ]
  },
  {
   "cell_type": "markdown",
   "id": "9a92a2f4-8798-4522-b0d2-c9a07167876f",
   "metadata": {},
   "source": [
    "# Bruteforce"
   ]
  },
  {
   "cell_type": "code",
   "execution_count": 1,
   "id": "028f681f-9d11-4de2-a7b7-7b548144f69e",
   "metadata": {},
   "outputs": [
    {
     "name": "stderr",
     "output_type": "stream",
     "text": [
      "<ipython-input-1-36632ae7d9bc>:2: UserWarning: torch.range is deprecated and will be removed in a future release because its behavior is inconsistent with Python's range builtin. Instead, use torch.arange, which produces values in [start, end).\n",
      "  torch.range(1,5), torch.arange(1,5)\n"
     ]
    },
    {
     "data": {
      "text/plain": [
       "(tensor([1., 2., 3., 4., 5.]), tensor([1, 2, 3, 4]))"
      ]
     },
     "execution_count": 1,
     "metadata": {},
     "output_type": "execute_result"
    }
   ],
   "source": [
    "import torch\n",
    "torch.range(1,5), torch.arange(1,5)"
   ]
  },
  {
   "cell_type": "code",
   "execution_count": 10,
   "id": "e3ad814b-99e6-4bc7-ab52-34e6bdb392d5",
   "metadata": {},
   "outputs": [
    {
     "data": {
      "text/plain": [
       "(tensor([[3.2733, 2.2647, 2.2531, 2.2468, 2.2326, 2.1827, 2.1510, 2.1282, 2.0116,\n",
       "          2.0090, 2.0059, 1.9886, 1.9786, 1.9784]], grad_fn=<TopkBackward0>),\n",
       " tensor([[1445, 4960, 4742, 7364, 7076, 3267, 7707, 3785, 4989, 6691,  186, 8166,\n",
       "          6770, 2877]]))"
      ]
     },
     "execution_count": 10,
     "metadata": {},
     "output_type": "execute_result"
    }
   ],
   "source": [
    "class BruteForceLayer(torch.nn.Module):\n",
    "    def __init__(self,\n",
    "               query_model,\n",
    "               k: int = 14):\n",
    "        super().__init__()\n",
    "        \n",
    "        self.query_model = query_model\n",
    "        self.k = k \n",
    "    \n",
    "    def index(self, candidates, identifiers=None):\n",
    "        self._candidates = candidates\n",
    "        \n",
    "    def _compute_score(self, queries, candidates):\n",
    "        scores = torch.matmul(\n",
    "            queries, torch.transpose(candidates,0,1)\n",
    "        )\n",
    "        return scores\n",
    "    \n",
    "    def forward(self, queries):\n",
    "        \n",
    "        if self.query_model is not None:\n",
    "            queries = self.query_model(queries)\n",
    "        \n",
    "        scores = self._compute_score(queries, self._candidates)\n",
    "        \n",
    "        values, indices = torch.topk(scores, k=self.k)\n",
    "\n",
    "        return values, indices\n",
    "        \n",
    "        \n",
    "brute_layer = BruteForceLayer(model.user_model, k=14)\n",
    "# brute_layer.index(training_data.map(lambda x: model.movie_model(torch.tensor(x[1]))))\n",
    "unique_movies_mapped = torch.stack(list(map(lambda x: model.movie_model(torch.tensor(x)), df.movieId.unique())))\n",
    "\n",
    "brute_layer.index(unique_movies_mapped)\n",
    "brute_layer.query_model\n",
    "brute_layer(torch.tensor([42]))"
   ]
  },
  {
   "cell_type": "code",
   "execution_count": 12,
   "id": "43fc7b28-5b3b-4812-afe9-d98835ec79c8",
   "metadata": {},
   "outputs": [
    {
     "data": {
      "text/html": [
       "<div>\n",
       "<style scoped>\n",
       "    .dataframe tbody tr th:only-of-type {\n",
       "        vertical-align: middle;\n",
       "    }\n",
       "\n",
       "    .dataframe tbody tr th {\n",
       "        vertical-align: top;\n",
       "    }\n",
       "\n",
       "    .dataframe thead th {\n",
       "        text-align: right;\n",
       "    }\n",
       "</style>\n",
       "<table border=\"1\" class=\"dataframe\">\n",
       "  <thead>\n",
       "    <tr style=\"text-align: right;\">\n",
       "      <th></th>\n",
       "      <th>movieId</th>\n",
       "      <th>title</th>\n",
       "      <th>genres</th>\n",
       "    </tr>\n",
       "  </thead>\n",
       "  <tbody>\n",
       "    <tr>\n",
       "      <th>186</th>\n",
       "      <td>186</td>\n",
       "      <td>Boys on the Side (1995)</td>\n",
       "      <td>Comedy|Drama</td>\n",
       "    </tr>\n",
       "    <tr>\n",
       "      <th>1445</th>\n",
       "      <td>1445</td>\n",
       "      <td>Breakfast Club, The (1985)</td>\n",
       "      <td>Comedy|Drama</td>\n",
       "    </tr>\n",
       "    <tr>\n",
       "      <th>2877</th>\n",
       "      <td>2877</td>\n",
       "      <td>Easy Money (1983)</td>\n",
       "      <td>Comedy</td>\n",
       "    </tr>\n",
       "    <tr>\n",
       "      <th>3267</th>\n",
       "      <td>3267</td>\n",
       "      <td>Cries and Whispers (Viskningar och rop) (1972)</td>\n",
       "      <td>Drama</td>\n",
       "    </tr>\n",
       "    <tr>\n",
       "      <th>3785</th>\n",
       "      <td>3785</td>\n",
       "      <td>Changing Lanes (2002)</td>\n",
       "      <td>Drama|Thriller</td>\n",
       "    </tr>\n",
       "    <tr>\n",
       "      <th>4742</th>\n",
       "      <td>4742</td>\n",
       "      <td>Beauty and the Beast (La belle et la bête) (1946)</td>\n",
       "      <td>Drama|Fantasy</td>\n",
       "    </tr>\n",
       "    <tr>\n",
       "      <th>4960</th>\n",
       "      <td>4960</td>\n",
       "      <td>Fail-Safe (1964)</td>\n",
       "      <td>Drama|Thriller|War</td>\n",
       "    </tr>\n",
       "    <tr>\n",
       "      <th>4989</th>\n",
       "      <td>4989</td>\n",
       "      <td>Look Who's Talking Too (1990)</td>\n",
       "      <td>Comedy|Romance</td>\n",
       "    </tr>\n",
       "    <tr>\n",
       "      <th>6691</th>\n",
       "      <td>6691</td>\n",
       "      <td>Descent (2007)</td>\n",
       "      <td>Drama|Thriller</td>\n",
       "    </tr>\n",
       "    <tr>\n",
       "      <th>6770</th>\n",
       "      <td>6770</td>\n",
       "      <td>Incredible Hulk, The (2008)</td>\n",
       "      <td>Action|Sci-Fi</td>\n",
       "    </tr>\n",
       "    <tr>\n",
       "      <th>7076</th>\n",
       "      <td>7076</td>\n",
       "      <td>Brüno (Bruno) (2009)</td>\n",
       "      <td>Comedy</td>\n",
       "    </tr>\n",
       "    <tr>\n",
       "      <th>7364</th>\n",
       "      <td>7364</td>\n",
       "      <td>Enter the Void (2009)</td>\n",
       "      <td>Drama</td>\n",
       "    </tr>\n",
       "    <tr>\n",
       "      <th>7707</th>\n",
       "      <td>7707</td>\n",
       "      <td>Take Shelter (2011)</td>\n",
       "      <td>Drama</td>\n",
       "    </tr>\n",
       "    <tr>\n",
       "      <th>8166</th>\n",
       "      <td>8166</td>\n",
       "      <td>Fast &amp; Furious 6 (Fast and the Furious 6, The)...</td>\n",
       "      <td>Action|Crime|Thriller|IMAX</td>\n",
       "    </tr>\n",
       "  </tbody>\n",
       "</table>\n",
       "</div>"
      ],
      "text/plain": [
       "      movieId                                              title  \\\n",
       "186       186                            Boys on the Side (1995)   \n",
       "1445     1445                         Breakfast Club, The (1985)   \n",
       "2877     2877                                  Easy Money (1983)   \n",
       "3267     3267     Cries and Whispers (Viskningar och rop) (1972)   \n",
       "3785     3785                              Changing Lanes (2002)   \n",
       "4742     4742  Beauty and the Beast (La belle et la bête) (1946)   \n",
       "4960     4960                                   Fail-Safe (1964)   \n",
       "4989     4989                      Look Who's Talking Too (1990)   \n",
       "6691     6691                                     Descent (2007)   \n",
       "6770     6770                        Incredible Hulk, The (2008)   \n",
       "7076     7076                               Brüno (Bruno) (2009)   \n",
       "7364     7364                              Enter the Void (2009)   \n",
       "7707     7707                                Take Shelter (2011)   \n",
       "8166     8166  Fast & Furious 6 (Fast and the Furious 6, The)...   \n",
       "\n",
       "                          genres  \n",
       "186                 Comedy|Drama  \n",
       "1445                Comedy|Drama  \n",
       "2877                      Comedy  \n",
       "3267                       Drama  \n",
       "3785              Drama|Thriller  \n",
       "4742               Drama|Fantasy  \n",
       "4960          Drama|Thriller|War  \n",
       "4989              Comedy|Romance  \n",
       "6691              Drama|Thriller  \n",
       "6770               Action|Sci-Fi  \n",
       "7076                      Comedy  \n",
       "7364                       Drama  \n",
       "7707                       Drama  \n",
       "8166  Action|Crime|Thriller|IMAX  "
      ]
     },
     "execution_count": 12,
     "metadata": {},
     "output_type": "execute_result"
    }
   ],
   "source": [
    "out = brute_layer(torch.tensor([42]))[1].tolist()[0]\n",
    "\n",
    "movies[movies['movieId'].isin(out)]"
   ]
  },
  {
   "cell_type": "code",
   "execution_count": null,
   "id": "42e35849-8f98-4b1b-95f4-c3a0832421e7",
   "metadata": {},
   "outputs": [],
   "source": [
    "# query_tf = tf.convert_to_tensor(query)\n",
    "# candidate_tf = tf.convert_to_tensor(candidate)\n",
    "\n",
    "\n",
    "# scores = tf.linalg.matmul(\n",
    "#         query_tf, candidate_tf, transpose_b=True)\n",
    "\n",
    "# loss = tf.keras.losses.CategoricalCrossentropy(\n",
    "#         from_logits=True, reduction=tf.keras.losses.Reduction.SUM)\n",
    "\n",
    "# num_queries = tf.shape(scores)[0]\n",
    "# num_candidates = tf.shape(scores)[1]\n",
    "\n",
    "# labels = tf.eye(num_queries, num_candidates)\n",
    "\n",
    "# scores.shape, labels.shape\n",
    "\n",
    "# loss = loss(y_true=labels, y_pred=scores)\n",
    "# loss\n",
    "# import torch\n",
    "# import tensorflow as tf\n",
    "\n",
    "# query = np.array([[2.0,2,],[4,4]])\n",
    "\n",
    "# query_torch = torch.tensor(query)\n",
    "# eye_torch = torch.range(0,1, dtype=int)\n",
    "# torch_loss = torch.nn.CrossEntropyLoss(reduction=\"sum\")\n",
    "# print(f\"Loss with torch {torch_loss(query_torch, eye_torch)}\")\n",
    "\n",
    "\n",
    "\n",
    "# query_tf = tf.convert_to_tensor(query)\n",
    "# eye_tf = tf.eye(2,2)\n",
    "# tf_loss = tf.keras.losses.CategoricalCrossentropy(\n",
    "#         from_logits=True, reduction=tf.keras.losses.Reduction.SUM)\n",
    "\n",
    "\n",
    "# print(f\"Loss with tf {tf_loss(y_pred=query_tf, y_true=eye_tf)}\")\n",
    "\n",
    "\n"
   ]
  },
  {
   "cell_type": "code",
   "execution_count": null,
   "id": "cf034826-f52a-48e7-8912-c017f3416cce",
   "metadata": {},
   "outputs": [],
   "source": []
  }
 ],
 "metadata": {
  "kernelspec": {
   "display_name": "cuda",
   "language": "python",
   "name": "cuda"
  },
  "language_info": {
   "codemirror_mode": {
    "name": "ipython",
    "version": 3
   },
   "file_extension": ".py",
   "mimetype": "text/x-python",
   "name": "python",
   "nbconvert_exporter": "python",
   "pygments_lexer": "ipython3",
   "version": "3.8.12"
  }
 },
 "nbformat": 4,
 "nbformat_minor": 5
}
