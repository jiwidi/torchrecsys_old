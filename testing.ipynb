{
 "cells": [
  {
   "cell_type": "code",
   "execution_count": 1,
   "id": "9ff0139c-e203-4f77-8df6-586d483abad0",
   "metadata": {},
   "outputs": [],
   "source": [
    "# !pip install tensorflow"
   ]
  },
  {
   "cell_type": "code",
   "execution_count": 128,
   "id": "27587a61-7e58-4c1d-a184-80c6971110d3",
   "metadata": {},
   "outputs": [],
   "source": [
    "import torch\n",
    "import pandas as pd\n",
    "import numpy as np\n",
    "import tensorflow as tf\n",
    "from torch.utils.data import Dataset, DataLoader\n",
    "import os\n",
    "from pprint import pprint\n",
    "import matplotlib\n",
    "from tqdm.notebook import tqdm\n",
    "from sklearn.preprocessing import LabelEncoder\n",
    "\n",
    "os.environ['KMP_DUPLICATE_LIB_OK']='True'"
   ]
  },
  {
   "cell_type": "code",
   "execution_count": 168,
   "id": "85436fee-f532-47b8-85e5-0fb4de3891bf",
   "metadata": {},
   "outputs": [],
   "source": [
    "movielens_data_file_url = (\n",
    "    \"http://files.grouplens.org/datasets/movielens/ml-latest-small.zip\"\n",
    ")\n",
    "movielens_dir = \"ml-100k/\"\n",
    "\n",
    "ratings_file = movielens_dir + \"ratings.csv\"\n",
    "tags_file = movielens_dir + \"tags.csv\"\n",
    "movies_file = movielens_dir + \"movies.csv\"\n",
    "\n",
    "df = pd.read_csv(ratings_file)\n",
    "tags = pd.read_csv(tags_file)\n",
    "movies = pd.read_csv(movies_file)\n",
    "\n",
    "encoder = LabelEncoder()\n",
    "movies[\"movieId\"] = encoder.fit_transform(movies[\"movieId\"])\n",
    "df[\"movieId\"] = encoder.transform(df[\"movieId\"])\n"
   ]
  },
  {
   "cell_type": "code",
   "execution_count": 169,
   "id": "2d590a10-1d10-490e-9623-fdf878a7636d",
   "metadata": {},
   "outputs": [],
   "source": [
    "max_user_id = df.userId.max()+1\n",
    "max_movie_id = df.movieId.max()+1"
   ]
  },
  {
   "cell_type": "code",
   "execution_count": 170,
   "id": "4c2da9de-5cd0-4917-a775-974bffdd8db6",
   "metadata": {},
   "outputs": [],
   "source": [
    "class movieDataset(Dataset):\n",
    "    def __init__(self,df):\n",
    "        self.data = df\n",
    "\n",
    "    def __len__(self):\n",
    "        return len(self.data)\n",
    "\n",
    "    def __getitem__(self,idx):\n",
    "        return self.data[idx][0],self.data[idx][1]\n",
    "    \n",
    "training_data = movieDataset(df[[\"userId\",\"movieId\"]].values)\n",
    "train_dataloader = DataLoader(training_data, batch_size=64, shuffle=True)"
   ]
  },
  {
   "cell_type": "code",
   "execution_count": 171,
   "id": "b2bacdfa-f976-461b-b101-cef5d604689a",
   "metadata": {},
   "outputs": [],
   "source": [
    "# movie_model = tf.keras.Sequential([\n",
    "#   tf.keras.layers.StringLookup(\n",
    "#       vocabulary=unique_movie_titles, mask_token=None),\n",
    "#   tf.keras.layers.Embedding(len(unique_movie_titles) + 1, embedding_dimension)\n",
    "# ])\n",
    "\n",
    "# user_model = tf.keras.Sequential([\n",
    "#   tf.keras.layers.StringLookup(\n",
    "#       vocabulary=unique_user_ids, mask_token=None),\n",
    "#   # We add an additional embedding to account for unknown tokens.\n",
    "#   tf.keras.layers.Embedding(len(unique_user_ids) + 1, embedding_dimension)\n",
    "# ])\n",
    "\n",
    "# class MovielensModel(tfrs.Model):\n",
    "\n",
    "#   def __init__(self, user_model, movie_model):\n",
    "#     super().__init__()\n",
    "#     self.movie_model: tf.keras.Model = movie_model\n",
    "#     self.user_model: tf.keras.Model = user_model\n",
    "#     self.task: tf.keras.layers.Layer = task\n",
    "\n",
    "#   def compute_loss(self, features: Dict[Text, tf.Tensor], training=False) -> tf.Tensor:\n",
    "#     # We pick out the user features and pass them into the user model.\n",
    "#     user_embeddings = self.user_model(features[\"user_id\"])\n",
    "#     # And pick out the movie features and pass them into the movie model,\n",
    "#     # getting embeddings back.\n",
    "#     positive_movie_embeddings = self.movie_model(features[\"movie_title\"])\n",
    "\n",
    "#     # The task computes the loss and the metrics.\n",
    "#     return self.task(user_embeddings, positive_movie_embeddings)"
   ]
  },
  {
   "cell_type": "code",
   "execution_count": 172,
   "id": "625f3dd0-ff17-481f-999a-a516e31151cf",
   "metadata": {},
   "outputs": [],
   "source": [
    "query = np.random.rand(8,2)\n",
    "candidate = np.random.rand(8,2)"
   ]
  },
  {
   "cell_type": "code",
   "execution_count": 173,
   "id": "c5aa2f44-7dee-4d1e-bd73-e1c91db8b057",
   "metadata": {},
   "outputs": [
    {
     "name": "stdout",
     "output_type": "stream",
     "text": [
      "tensor(16.6783, dtype=torch.float64)\n"
     ]
    },
    {
     "name": "stderr",
     "output_type": "stream",
     "text": [
      "/Users/jafen/miniconda3/envs/hm37/lib/python3.7/site-packages/ipykernel_launcher.py:13: UserWarning: torch.range is deprecated and will be removed in a future release because its behavior is inconsistent with Python's range builtin. Instead, use torch.arange, which produces values in [start, end).\n",
      "  del sys.path[0]\n"
     ]
    }
   ],
   "source": [
    "class rankingTask():\n",
    "    def __init__(self):\n",
    "        self.loss = torch.nn.CrossEntropyLoss(reduction=\"sum\")\n",
    "        pass\n",
    "    \n",
    "    def __call__(self, query_embeddings, candidate_embeddings):\n",
    "        scores = torch.matmul(\n",
    "            query_embeddings, torch.transpose(candidate_embeddings,0,1)\n",
    "        )\n",
    "        \n",
    "        num_queries, num_candidates = scores.shape\n",
    "\n",
    "        labels = torch.range(0, num_queries-1, dtype=int)\n",
    "    \n",
    "    \n",
    "        loss = self.loss(input=scores, target=labels)\n",
    "        \n",
    "        return loss\n",
    "\n",
    "    \n",
    "\n",
    "from torchnlp.encoders import LabelEncoder\n",
    "\n",
    "class MovieModel(torch.nn.Module):\n",
    "    def __init__(self):\n",
    "        super().__init__()\n",
    "        self.user_model = torch.nn.Embedding(max_user_id, 64)\n",
    "        self.movie_model = torch.nn.Embedding(max_movie_id, 64)\n",
    "        self.task = rankingTask()\n",
    "\n",
    "    def forward(self, x):\n",
    "        user, movie = x\n",
    "        user = self.user_model(user)\n",
    "        movie = self.movie_model(movie)\n",
    "        \n",
    "        loss = self.task(user,movie)\n",
    "        return loss\n",
    "        \n",
    "\n",
    "task = rankingTask()\n",
    "query_torch = torch.tensor(query)\n",
    "candidate_torch = torch.tensor(candidate)\n",
    "loss = task(query_torch, candidate_torch)\n",
    "pprint(loss)\n",
    "model = MovieModel()"
   ]
  },
  {
   "cell_type": "code",
   "execution_count": 174,
   "id": "1a58421f-96b3-431e-afef-db293899069a",
   "metadata": {},
   "outputs": [
    {
     "data": {
      "application/vnd.jupyter.widget-view+json": {
       "model_id": "3f8d9fa4275245f59434859eeb39450e",
       "version_major": 2,
       "version_minor": 0
      },
      "text/plain": [
       "  0%|          | 0/1576 [00:00<?, ?it/s]"
      ]
     },
     "metadata": {},
     "output_type": "display_data"
    },
    {
     "name": "stderr",
     "output_type": "stream",
     "text": [
      "/Users/jafen/miniconda3/envs/hm37/lib/python3.7/site-packages/ipykernel_launcher.py:13: UserWarning: torch.range is deprecated and will be removed in a future release because its behavior is inconsistent with Python's range builtin. Instead, use torch.arange, which produces values in [start, end).\n",
      "  del sys.path[0]\n"
     ]
    },
    {
     "name": "stdout",
     "output_type": "stream",
     "text": [
      "[1,   200] loss: 109.011\n",
      "[1,   400] loss: 88.016\n",
      "[1,   600] loss: 76.038\n",
      "[1,   800] loss: 67.802\n",
      "[1,  1000] loss: 61.583\n",
      "[1,  1200] loss: 56.697\n",
      "[1,  1400] loss: 53.215\n"
     ]
    },
    {
     "data": {
      "application/vnd.jupyter.widget-view+json": {
       "model_id": "662f9ab3dcc64efbb06133b76bdf8b0c",
       "version_major": 2,
       "version_minor": 0
      },
      "text/plain": [
       "  0%|          | 0/1576 [00:00<?, ?it/s]"
      ]
     },
     "metadata": {},
     "output_type": "display_data"
    },
    {
     "name": "stdout",
     "output_type": "stream",
     "text": [
      "[2,   200] loss: 46.085\n",
      "[2,   400] loss: 44.886\n",
      "[2,   600] loss: 43.015\n",
      "[2,   800] loss: 42.019\n",
      "[2,  1000] loss: 41.201\n",
      "[2,  1200] loss: 39.981\n",
      "[2,  1400] loss: 38.892\n"
     ]
    },
    {
     "data": {
      "application/vnd.jupyter.widget-view+json": {
       "model_id": "10b65ba4c590466690a7345ae882c572",
       "version_major": 2,
       "version_minor": 0
      },
      "text/plain": [
       "  0%|          | 0/1576 [00:00<?, ?it/s]"
      ]
     },
     "metadata": {},
     "output_type": "display_data"
    },
    {
     "name": "stdout",
     "output_type": "stream",
     "text": [
      "[3,   200] loss: 36.310\n",
      "[3,   400] loss: 35.632\n",
      "[3,   600] loss: 35.354\n",
      "[3,   800] loss: 34.820\n",
      "[3,  1000] loss: 34.568\n",
      "[3,  1200] loss: 34.382\n",
      "[3,  1400] loss: 33.985\n"
     ]
    },
    {
     "data": {
      "application/vnd.jupyter.widget-view+json": {
       "model_id": "7791a68e5aea41dab82d82a405ee2665",
       "version_major": 2,
       "version_minor": 0
      },
      "text/plain": [
       "  0%|          | 0/1576 [00:00<?, ?it/s]"
      ]
     },
     "metadata": {},
     "output_type": "display_data"
    },
    {
     "name": "stdout",
     "output_type": "stream",
     "text": [
      "[4,   200] loss: 31.701\n",
      "[4,   400] loss: 32.007\n",
      "[4,   600] loss: 31.767\n",
      "[4,   800] loss: 31.409\n",
      "[4,  1000] loss: 31.508\n",
      "[4,  1200] loss: 31.236\n",
      "[4,  1400] loss: 31.208\n"
     ]
    },
    {
     "data": {
      "application/vnd.jupyter.widget-view+json": {
       "model_id": "9d9cdaec05f04ec3b24154aa2fc9efb7",
       "version_major": 2,
       "version_minor": 0
      },
      "text/plain": [
       "  0%|          | 0/1576 [00:00<?, ?it/s]"
      ]
     },
     "metadata": {},
     "output_type": "display_data"
    },
    {
     "name": "stdout",
     "output_type": "stream",
     "text": [
      "[5,   200] loss: 29.583\n",
      "[5,   400] loss: 29.608\n",
      "[5,   600] loss: 29.429\n",
      "[5,   800] loss: 29.806\n",
      "[5,  1000] loss: 29.513\n",
      "[5,  1200] loss: 29.580\n",
      "[5,  1400] loss: 29.736\n"
     ]
    },
    {
     "data": {
      "application/vnd.jupyter.widget-view+json": {
       "model_id": "fdb5b779642a4acfaa7cacd2ffd09fdb",
       "version_major": 2,
       "version_minor": 0
      },
      "text/plain": [
       "  0%|          | 0/1576 [00:00<?, ?it/s]"
      ]
     },
     "metadata": {},
     "output_type": "display_data"
    },
    {
     "name": "stdout",
     "output_type": "stream",
     "text": [
      "[6,   200] loss: 28.228\n",
      "[6,   400] loss: 28.331\n",
      "[6,   600] loss: 28.308\n",
      "[6,   800] loss: 28.474\n",
      "[6,  1000] loss: 28.387\n",
      "[6,  1200] loss: 28.440\n",
      "[6,  1400] loss: 28.227\n"
     ]
    },
    {
     "data": {
      "application/vnd.jupyter.widget-view+json": {
       "model_id": "84984e6cf5b44285a64015373b5f272d",
       "version_major": 2,
       "version_minor": 0
      },
      "text/plain": [
       "  0%|          | 0/1576 [00:00<?, ?it/s]"
      ]
     },
     "metadata": {},
     "output_type": "display_data"
    },
    {
     "name": "stdout",
     "output_type": "stream",
     "text": [
      "[7,   200] loss: 27.141\n",
      "[7,   400] loss: 27.493\n",
      "[7,   600] loss: 27.475\n",
      "[7,   800] loss: 27.452\n",
      "[7,  1000] loss: 27.482\n",
      "[7,  1200] loss: 27.624\n",
      "[7,  1400] loss: 27.564\n"
     ]
    },
    {
     "data": {
      "application/vnd.jupyter.widget-view+json": {
       "model_id": "0645b92eb6dd4f79a8f7f68701be13f5",
       "version_major": 2,
       "version_minor": 0
      },
      "text/plain": [
       "  0%|          | 0/1576 [00:00<?, ?it/s]"
      ]
     },
     "metadata": {},
     "output_type": "display_data"
    },
    {
     "name": "stdout",
     "output_type": "stream",
     "text": [
      "[8,   200] loss: 26.583\n",
      "[8,   400] loss: 26.658\n",
      "[8,   600] loss: 26.895\n",
      "[8,   800] loss: 27.014\n",
      "[8,  1000] loss: 26.861\n",
      "[8,  1200] loss: 27.020\n",
      "[8,  1400] loss: 27.028\n"
     ]
    },
    {
     "data": {
      "application/vnd.jupyter.widget-view+json": {
       "model_id": "8980d4412609402588cfeafe573e0e6d",
       "version_major": 2,
       "version_minor": 0
      },
      "text/plain": [
       "  0%|          | 0/1576 [00:00<?, ?it/s]"
      ]
     },
     "metadata": {},
     "output_type": "display_data"
    },
    {
     "name": "stdout",
     "output_type": "stream",
     "text": [
      "[9,   200] loss: 26.013\n",
      "[9,   400] loss: 26.295\n",
      "[9,   600] loss: 26.368\n",
      "[9,   800] loss: 26.521\n",
      "[9,  1000] loss: 26.514\n",
      "[9,  1200] loss: 26.576\n",
      "[9,  1400] loss: 26.559\n"
     ]
    },
    {
     "data": {
      "application/vnd.jupyter.widget-view+json": {
       "model_id": "f48ba6afb2414b67b09d9bdc44ba6e75",
       "version_major": 2,
       "version_minor": 0
      },
      "text/plain": [
       "  0%|          | 0/1576 [00:00<?, ?it/s]"
      ]
     },
     "metadata": {},
     "output_type": "display_data"
    },
    {
     "name": "stdout",
     "output_type": "stream",
     "text": [
      "[10,   200] loss: 25.590\n",
      "[10,   400] loss: 25.892\n",
      "[10,   600] loss: 26.006\n",
      "[10,   800] loss: 26.169\n",
      "[10,  1000] loss: 26.251\n",
      "[10,  1200] loss: 26.189\n",
      "[10,  1400] loss: 26.190\n",
      "Finished Training\n"
     ]
    }
   ],
   "source": [
    "optimizer = torch.optim.SGD(model.parameters(), lr=0.001, momentum=0.9)\n",
    "\n",
    "\n",
    "for epoch in range(10):  # loop over the dataset multiple times\n",
    "\n",
    "    running_loss = 0.0\n",
    "    for i, data in tqdm(enumerate(train_dataloader, 0), total=len(train_dataloader)):\n",
    "        # zero the parameter gradients\n",
    "        optimizer.zero_grad()\n",
    "\n",
    "        # forward + backward + optimize\n",
    "        loss = model(data)\n",
    "        loss.backward()\n",
    "        optimizer.step()\n",
    "\n",
    "        # print statistics\n",
    "        running_loss += loss.item()\n",
    "        if i % 200 == 199:    # print every 200 mini-batches\n",
    "            print(f'[{epoch + 1}, {i + 1:5d}] loss: {running_loss / 2000:.3f}')\n",
    "            running_loss = 0.0\n",
    "\n",
    "print('Finished Training')"
   ]
  },
  {
   "cell_type": "markdown",
   "id": "9a92a2f4-8798-4522-b0d2-c9a07167876f",
   "metadata": {},
   "source": [
    "# Bruteforce"
   ]
  },
  {
   "cell_type": "code",
   "execution_count": 176,
   "id": "e3ad814b-99e6-4bc7-ab52-34e6bdb392d5",
   "metadata": {},
   "outputs": [
    {
     "data": {
      "text/plain": [
       "(tensor([[3.1378, 2.9226, 2.8977, 2.7952, 2.7771, 2.7641, 2.7489, 2.5737, 2.5294,\n",
       "          2.5054, 2.3818, 2.3684, 2.3226, 2.3221]], grad_fn=<TopkBackward0>),\n",
       " tensor([[5311, 8870, 7446, 2899,  493, 8669, 8968, 9693, 3814, 4927, 6578,  594,\n",
       "          6654, 4646]]))"
      ]
     },
     "execution_count": 176,
     "metadata": {},
     "output_type": "execute_result"
    }
   ],
   "source": [
    "class BruteForceLayer(torch.nn.Module):\n",
    "    def __init__(self,\n",
    "               query_model,\n",
    "               k: int = 14):\n",
    "        super().__init__()\n",
    "        \n",
    "        self.query_model = query_model\n",
    "        self.k = k \n",
    "    \n",
    "    def index(self, candidates, identifiers=None):\n",
    "        self._candidates = candidates\n",
    "        \n",
    "    def _compute_score(self, queries, candidates):\n",
    "        scores = torch.matmul(\n",
    "            queries, torch.transpose(candidates,0,1)\n",
    "        )\n",
    "        return scores\n",
    "    \n",
    "    def forward(self, queries):\n",
    "        \n",
    "        if self.query_model is not None:\n",
    "            queries = self.query_model(queries)\n",
    "        \n",
    "        scores = self._compute_score(queries, self._candidates)\n",
    "        \n",
    "        values, indices = torch.topk(scores, k=self.k)\n",
    "\n",
    "        return values, indices\n",
    "        \n",
    "        \n",
    "brute_layer = BruteForceLayer(model.user_model, k=14)\n",
    "# brute_layer.index(training_data.map(lambda x: model.movie_model(torch.tensor(x[1]))))\n",
    "unique_movies_mapped = torch.stack(list(map(lambda x: model.movie_model(torch.tensor(x)), df.movieId.unique())))\n",
    "\n",
    "brute_layer.index(unique_movies_mapped)\n",
    "brute_layer.query_model\n",
    "brute_layer(torch.tensor([42]))"
   ]
  },
  {
   "cell_type": "code",
   "execution_count": 177,
   "id": "ad0a9847-41d2-4809-b45f-df7b63e4aa6f",
   "metadata": {},
   "outputs": [
    {
     "data": {
      "text/plain": [
       "14"
      ]
     },
     "execution_count": 177,
     "metadata": {},
     "output_type": "execute_result"
    }
   ],
   "source": [
    "len(df[df['movieId'].isin(out)].movieId.unique())"
   ]
  },
  {
   "cell_type": "code",
   "execution_count": 182,
   "id": "43fc7b28-5b3b-4812-afe9-d98835ec79c8",
   "metadata": {},
   "outputs": [
    {
     "data": {
      "text/html": [
       "<div>\n",
       "<style scoped>\n",
       "    .dataframe tbody tr th:only-of-type {\n",
       "        vertical-align: middle;\n",
       "    }\n",
       "\n",
       "    .dataframe tbody tr th {\n",
       "        vertical-align: top;\n",
       "    }\n",
       "\n",
       "    .dataframe thead th {\n",
       "        text-align: right;\n",
       "    }\n",
       "</style>\n",
       "<table border=\"1\" class=\"dataframe\">\n",
       "  <thead>\n",
       "    <tr style=\"text-align: right;\">\n",
       "      <th></th>\n",
       "      <th>movieId</th>\n",
       "      <th>title</th>\n",
       "      <th>genres</th>\n",
       "    </tr>\n",
       "  </thead>\n",
       "  <tbody>\n",
       "    <tr>\n",
       "      <th>493</th>\n",
       "      <td>493</td>\n",
       "      <td>Bhaji on the Beach (1993)</td>\n",
       "      <td>Comedy|Drama</td>\n",
       "    </tr>\n",
       "    <tr>\n",
       "      <th>594</th>\n",
       "      <td>594</td>\n",
       "      <td>Twister (1996)</td>\n",
       "      <td>Action|Adventure|Romance|Thriller</td>\n",
       "    </tr>\n",
       "    <tr>\n",
       "      <th>2899</th>\n",
       "      <td>2899</td>\n",
       "      <td>Bring It On (2000)</td>\n",
       "      <td>Comedy</td>\n",
       "    </tr>\n",
       "    <tr>\n",
       "      <th>3814</th>\n",
       "      <td>3814</td>\n",
       "      <td>Lenny (1974)</td>\n",
       "      <td>Drama</td>\n",
       "    </tr>\n",
       "    <tr>\n",
       "      <th>4646</th>\n",
       "      <td>4646</td>\n",
       "      <td>My Architect: A Son's Journey (2003)</td>\n",
       "      <td>Documentary</td>\n",
       "    </tr>\n",
       "    <tr>\n",
       "      <th>4927</th>\n",
       "      <td>4927</td>\n",
       "      <td>Dawn of the Dead (1978)</td>\n",
       "      <td>Action|Drama|Horror</td>\n",
       "    </tr>\n",
       "    <tr>\n",
       "      <th>5311</th>\n",
       "      <td>5311</td>\n",
       "      <td>Danny Deckchair (2003)</td>\n",
       "      <td>Comedy|Romance</td>\n",
       "    </tr>\n",
       "    <tr>\n",
       "      <th>6578</th>\n",
       "      <td>6578</td>\n",
       "      <td>Mr. Woodcock (2007)</td>\n",
       "      <td>Comedy</td>\n",
       "    </tr>\n",
       "    <tr>\n",
       "      <th>6654</th>\n",
       "      <td>6654</td>\n",
       "      <td>Dedication (2007)</td>\n",
       "      <td>Comedy|Drama|Romance</td>\n",
       "    </tr>\n",
       "    <tr>\n",
       "      <th>7446</th>\n",
       "      <td>7446</td>\n",
       "      <td>In a Better World (Hævnen) (2010)</td>\n",
       "      <td>Drama</td>\n",
       "    </tr>\n",
       "    <tr>\n",
       "      <th>8669</th>\n",
       "      <td>8669</td>\n",
       "      <td>Carry on Cruising (1962)</td>\n",
       "      <td>Comedy|Romance</td>\n",
       "    </tr>\n",
       "    <tr>\n",
       "      <th>8870</th>\n",
       "      <td>8870</td>\n",
       "      <td>The Green Inferno (2014)</td>\n",
       "      <td>Horror|Thriller</td>\n",
       "    </tr>\n",
       "    <tr>\n",
       "      <th>8968</th>\n",
       "      <td>8968</td>\n",
       "      <td>That Demon Within (2014)</td>\n",
       "      <td>Crime|Thriller</td>\n",
       "    </tr>\n",
       "    <tr>\n",
       "      <th>9693</th>\n",
       "      <td>9693</td>\n",
       "      <td>Fullmetal Alchemist 2018 (2017)</td>\n",
       "      <td>Action|Adventure|Fantasy</td>\n",
       "    </tr>\n",
       "  </tbody>\n",
       "</table>\n",
       "</div>"
      ],
      "text/plain": [
       "      movieId                                 title  \\\n",
       "493       493             Bhaji on the Beach (1993)   \n",
       "594       594                        Twister (1996)   \n",
       "2899     2899                    Bring It On (2000)   \n",
       "3814     3814                          Lenny (1974)   \n",
       "4646     4646  My Architect: A Son's Journey (2003)   \n",
       "4927     4927               Dawn of the Dead (1978)   \n",
       "5311     5311                Danny Deckchair (2003)   \n",
       "6578     6578                   Mr. Woodcock (2007)   \n",
       "6654     6654                     Dedication (2007)   \n",
       "7446     7446     In a Better World (Hævnen) (2010)   \n",
       "8669     8669              Carry on Cruising (1962)   \n",
       "8870     8870              The Green Inferno (2014)   \n",
       "8968     8968              That Demon Within (2014)   \n",
       "9693     9693       Fullmetal Alchemist 2018 (2017)   \n",
       "\n",
       "                                 genres  \n",
       "493                        Comedy|Drama  \n",
       "594   Action|Adventure|Romance|Thriller  \n",
       "2899                             Comedy  \n",
       "3814                              Drama  \n",
       "4646                        Documentary  \n",
       "4927                Action|Drama|Horror  \n",
       "5311                     Comedy|Romance  \n",
       "6578                             Comedy  \n",
       "6654               Comedy|Drama|Romance  \n",
       "7446                              Drama  \n",
       "8669                     Comedy|Romance  \n",
       "8870                    Horror|Thriller  \n",
       "8968                     Crime|Thriller  \n",
       "9693           Action|Adventure|Fantasy  "
      ]
     },
     "execution_count": 182,
     "metadata": {},
     "output_type": "execute_result"
    }
   ],
   "source": [
    "out = brute_layer(torch.tensor([42]))[1].tolist()[0]\n",
    "\n",
    "movies[movies['movieId'].isin(out)]"
   ]
  },
  {
   "cell_type": "code",
   "execution_count": 63,
   "id": "09d8c923-83dd-4bcd-ac49-11693ff135e9",
   "metadata": {},
   "outputs": [
    {
     "data": {
      "text/plain": [
       "<tf.Tensor: id=181, shape=(3, 4, 5, 2), dtype=float32, numpy=\n",
       "array([[[[ 0.9498922 ,  0.631757  ],\n",
       "         [ 1.6435536 ,  0.8469825 ],\n",
       "         [ 1.2498153 ,  0.9115617 ],\n",
       "         [ 1.5148249 ,  0.6074722 ],\n",
       "         [ 2.6113012 ,  1.1880776 ]],\n",
       "\n",
       "        [[ 2.0017805 ,  1.4652351 ],\n",
       "         [ 0.59968555, -0.4353429 ],\n",
       "         [ 1.9111247 ,  1.0156393 ],\n",
       "         [ 0.39036638,  0.17205158],\n",
       "         [ 1.5485777 ,  0.77463126]],\n",
       "\n",
       "        [[ 0.78752095,  0.2539187 ],\n",
       "         [ 0.64380395,  0.35777348],\n",
       "         [ 2.1960433 ,  0.33730984],\n",
       "         [ 3.711439  ,  0.6046017 ],\n",
       "         [ 0.34124258, -0.06920326]],\n",
       "\n",
       "        [[ 0.46970934,  0.00956344],\n",
       "         [ 1.3757367 ,  1.1440824 ],\n",
       "         [-0.01413176, -0.49423015],\n",
       "         [ 0.48665693, -0.01314055],\n",
       "         [ 1.5572727 ,  1.164261  ]]],\n",
       "\n",
       "\n",
       "       [[[ 0.85188305,  0.5459003 ],\n",
       "         [ 1.5107961 ,  1.5052613 ],\n",
       "         [ 1.6794207 ,  0.75349265],\n",
       "         [ 1.8437959 ,  0.6825228 ],\n",
       "         [ 1.2404474 ,  1.1558993 ]],\n",
       "\n",
       "        [[ 0.7384629 ,  0.03404035],\n",
       "         [ 2.374317  ,  1.1205852 ],\n",
       "         [ 1.9759068 ,  1.0158057 ],\n",
       "         [ 1.8000082 ,  0.73973906],\n",
       "         [ 1.5620856 ,  0.5968686 ]],\n",
       "\n",
       "        [[ 1.2108078 , -0.4895982 ],\n",
       "         [ 1.7978446 ,  1.4813029 ],\n",
       "         [ 0.93660647,  0.59438485],\n",
       "         [ 0.3314087 , -0.06632636],\n",
       "         [ 1.2510539 ,  1.2322022 ]],\n",
       "\n",
       "        [[ 0.3367304 ,  0.19922918],\n",
       "         [ 1.2711926 ,  0.94738585],\n",
       "         [ 1.1168094 ,  0.9440563 ],\n",
       "         [ 1.3796196 ,  0.91604465],\n",
       "         [ 1.1427581 ,  0.83626974]]],\n",
       "\n",
       "\n",
       "       [[[ 2.6721942 ,  1.1842866 ],\n",
       "         [ 0.79190576,  0.5459592 ],\n",
       "         [ 1.6746843 ,  0.4847552 ],\n",
       "         [ 1.3428478 ,  0.96679306],\n",
       "         [ 2.8807673 ,  2.2063782 ]],\n",
       "\n",
       "        [[ 1.8823042 ,  1.3138342 ],\n",
       "         [ 0.8264539 ,  0.4222252 ],\n",
       "         [ 1.2246935 ,  0.5310641 ],\n",
       "         [ 2.1187067 ,  0.4733176 ],\n",
       "         [ 1.21576   ,  0.6550601 ]],\n",
       "\n",
       "        [[ 0.57613826,  0.00391961],\n",
       "         [ 0.63866687,  0.5166678 ],\n",
       "         [ 1.0172231 ,  0.7053352 ],\n",
       "         [ 0.99984676,  0.83841956],\n",
       "         [ 0.52657604,  0.26027453]],\n",
       "\n",
       "        [[ 0.7158193 ,  0.51837456],\n",
       "         [ 0.5968308 ,  0.43493557],\n",
       "         [ 0.6796495 ,  0.52125764],\n",
       "         [ 1.1551203 ,  0.17253293],\n",
       "         [ 0.9724654 ,  0.5277131 ]]]], dtype=float32)>"
      ]
     },
     "execution_count": 63,
     "metadata": {},
     "output_type": "execute_result"
    }
   ],
   "source": [
    "input = tf.random.normal(shape=(3,4,5,6))\n",
    "k = 2\n",
    "values, indices  = tf.math.top_k(input, k=k)\n",
    "values.shape.as_list()\n",
    "\n",
    "\n",
    "values.shape == indices.shape == input.shape[:-1] + [k]"
   ]
  },
  {
   "cell_type": "code",
   "execution_count": 10,
   "id": "42e35849-8f98-4b1b-95f4-c3a0832421e7",
   "metadata": {},
   "outputs": [
    {
     "name": "stderr",
     "output_type": "stream",
     "text": [
      "2022-03-19 12:32:27.290660: I tensorflow/core/platform/cpu_feature_guard.cc:145] This TensorFlow binary is optimized with Intel(R) MKL-DNN to use the following CPU instructions in performance critical operations:  SSE4.1 SSE4.2\n",
      "To enable them in non-MKL-DNN operations, rebuild TensorFlow with the appropriate compiler flags.\n",
      "2022-03-19 12:32:27.291344: I tensorflow/core/common_runtime/process_util.cc:115] Creating new thread pool with default inter op setting: 8. Tune using inter_op_parallelism_threads for best performance.\n"
     ]
    },
    {
     "data": {
      "text/plain": [
       "<tf.Tensor: id=74, shape=(), dtype=float64, numpy=16.68231201171875>"
      ]
     },
     "execution_count": 10,
     "metadata": {},
     "output_type": "execute_result"
    }
   ],
   "source": [
    "# query_tf = tf.convert_to_tensor(query)\n",
    "# candidate_tf = tf.convert_to_tensor(candidate)\n",
    "\n",
    "\n",
    "# scores = tf.linalg.matmul(\n",
    "#         query_tf, candidate_tf, transpose_b=True)\n",
    "\n",
    "# loss = tf.keras.losses.CategoricalCrossentropy(\n",
    "#         from_logits=True, reduction=tf.keras.losses.Reduction.SUM)\n",
    "\n",
    "# num_queries = tf.shape(scores)[0]\n",
    "# num_candidates = tf.shape(scores)[1]\n",
    "\n",
    "# labels = tf.eye(num_queries, num_candidates)\n",
    "\n",
    "# scores.shape, labels.shape\n",
    "\n",
    "# loss = loss(y_true=labels, y_pred=scores)\n",
    "# loss\n",
    "# import torch\n",
    "# import tensorflow as tf\n",
    "\n",
    "# query = np.array([[2.0,2,],[4,4]])\n",
    "\n",
    "# query_torch = torch.tensor(query)\n",
    "# eye_torch = torch.range(0,1, dtype=int)\n",
    "# torch_loss = torch.nn.CrossEntropyLoss(reduction=\"sum\")\n",
    "# print(f\"Loss with torch {torch_loss(query_torch, eye_torch)}\")\n",
    "\n",
    "\n",
    "\n",
    "# query_tf = tf.convert_to_tensor(query)\n",
    "# eye_tf = tf.eye(2,2)\n",
    "# tf_loss = tf.keras.losses.CategoricalCrossentropy(\n",
    "#         from_logits=True, reduction=tf.keras.losses.Reduction.SUM)\n",
    "\n",
    "\n",
    "# print(f\"Loss with tf {tf_loss(y_pred=query_tf, y_true=eye_tf)}\")\n",
    "\n",
    "\n"
   ]
  },
  {
   "cell_type": "code",
   "execution_count": null,
   "id": "cf034826-f52a-48e7-8912-c017f3416cce",
   "metadata": {},
   "outputs": [],
   "source": []
  }
 ],
 "metadata": {
  "kernelspec": {
   "display_name": "hm37",
   "language": "python",
   "name": "hm37"
  },
  "language_info": {
   "codemirror_mode": {
    "name": "ipython",
    "version": 3
   },
   "file_extension": ".py",
   "mimetype": "text/x-python",
   "name": "python",
   "nbconvert_exporter": "python",
   "pygments_lexer": "ipython3",
   "version": "3.7.11"
  }
 },
 "nbformat": 4,
 "nbformat_minor": 5
}
