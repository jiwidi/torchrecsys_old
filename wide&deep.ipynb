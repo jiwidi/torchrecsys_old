{
 "cells": [
  {
   "cell_type": "code",
   "execution_count": 1,
   "id": "3b208d48-2e13-4f46-82ac-36f267819697",
   "metadata": {},
   "outputs": [],
   "source": [
    "from torchrecsys.datasets import InteractionsDataset, SequenceDataset\n",
    "from torchrecsys.models import BaseModel, NeuralCF\n",
    "from torchrecsys.task import Ranking\n",
    "from torchrecsys.layers import BruteForceLayer\n",
    "from torchrecsys.external_datasets import Movielens_1M\n",
    "from torchrecsys.utils import feature_catalog\n",
    "from torchrecsys import Trainer\n",
    "import pandas as pd\n",
    "\n",
    "from torch.utils.data import DataLoader"
   ]
  },
  {
   "cell_type": "code",
   "execution_count": 2,
   "id": "f9488f91-7039-4554-bdb2-509a4e11b3d2",
   "metadata": {},
   "outputs": [],
   "source": [
    "data = Movielens_1M()\n",
    "ratings, users, movies = data.load()"
   ]
  },
  {
   "cell_type": "code",
   "execution_count": 3,
   "id": "ba73e9de-269b-441a-b149-e4db5e39e892",
   "metadata": {},
   "outputs": [
    {
     "data": {
      "text/html": [
       "<div>\n",
       "<style scoped>\n",
       "    .dataframe tbody tr th:only-of-type {\n",
       "        vertical-align: middle;\n",
       "    }\n",
       "\n",
       "    .dataframe tbody tr th {\n",
       "        vertical-align: top;\n",
       "    }\n",
       "\n",
       "    .dataframe thead th {\n",
       "        text-align: right;\n",
       "    }\n",
       "</style>\n",
       "<table border=\"1\" class=\"dataframe\">\n",
       "  <thead>\n",
       "    <tr style=\"text-align: right;\">\n",
       "      <th></th>\n",
       "      <th>user_id</th>\n",
       "      <th>gender</th>\n",
       "      <th>age</th>\n",
       "      <th>occupation</th>\n",
       "      <th>zip</th>\n",
       "    </tr>\n",
       "  </thead>\n",
       "  <tbody>\n",
       "    <tr>\n",
       "      <th>0</th>\n",
       "      <td>1</td>\n",
       "      <td>F</td>\n",
       "      <td>1</td>\n",
       "      <td>10</td>\n",
       "      <td>48067</td>\n",
       "    </tr>\n",
       "    <tr>\n",
       "      <th>1</th>\n",
       "      <td>2</td>\n",
       "      <td>M</td>\n",
       "      <td>56</td>\n",
       "      <td>16</td>\n",
       "      <td>70072</td>\n",
       "    </tr>\n",
       "    <tr>\n",
       "      <th>2</th>\n",
       "      <td>3</td>\n",
       "      <td>M</td>\n",
       "      <td>25</td>\n",
       "      <td>15</td>\n",
       "      <td>55117</td>\n",
       "    </tr>\n",
       "    <tr>\n",
       "      <th>3</th>\n",
       "      <td>4</td>\n",
       "      <td>M</td>\n",
       "      <td>45</td>\n",
       "      <td>7</td>\n",
       "      <td>02460</td>\n",
       "    </tr>\n",
       "    <tr>\n",
       "      <th>4</th>\n",
       "      <td>5</td>\n",
       "      <td>M</td>\n",
       "      <td>25</td>\n",
       "      <td>20</td>\n",
       "      <td>55455</td>\n",
       "    </tr>\n",
       "    <tr>\n",
       "      <th>...</th>\n",
       "      <td>...</td>\n",
       "      <td>...</td>\n",
       "      <td>...</td>\n",
       "      <td>...</td>\n",
       "      <td>...</td>\n",
       "    </tr>\n",
       "    <tr>\n",
       "      <th>6035</th>\n",
       "      <td>6036</td>\n",
       "      <td>F</td>\n",
       "      <td>25</td>\n",
       "      <td>15</td>\n",
       "      <td>32603</td>\n",
       "    </tr>\n",
       "    <tr>\n",
       "      <th>6036</th>\n",
       "      <td>6037</td>\n",
       "      <td>F</td>\n",
       "      <td>45</td>\n",
       "      <td>1</td>\n",
       "      <td>76006</td>\n",
       "    </tr>\n",
       "    <tr>\n",
       "      <th>6037</th>\n",
       "      <td>6038</td>\n",
       "      <td>F</td>\n",
       "      <td>56</td>\n",
       "      <td>1</td>\n",
       "      <td>14706</td>\n",
       "    </tr>\n",
       "    <tr>\n",
       "      <th>6038</th>\n",
       "      <td>6039</td>\n",
       "      <td>F</td>\n",
       "      <td>45</td>\n",
       "      <td>0</td>\n",
       "      <td>01060</td>\n",
       "    </tr>\n",
       "    <tr>\n",
       "      <th>6039</th>\n",
       "      <td>6040</td>\n",
       "      <td>M</td>\n",
       "      <td>25</td>\n",
       "      <td>6</td>\n",
       "      <td>11106</td>\n",
       "    </tr>\n",
       "  </tbody>\n",
       "</table>\n",
       "<p>6040 rows × 5 columns</p>\n",
       "</div>"
      ],
      "text/plain": [
       "      user_id gender  age  occupation    zip\n",
       "0           1      F    1          10  48067\n",
       "1           2      M   56          16  70072\n",
       "2           3      M   25          15  55117\n",
       "3           4      M   45           7  02460\n",
       "4           5      M   25          20  55455\n",
       "...       ...    ...  ...         ...    ...\n",
       "6035     6036      F   25          15  32603\n",
       "6036     6037      F   45           1  76006\n",
       "6037     6038      F   56           1  14706\n",
       "6038     6039      F   45           0  01060\n",
       "6039     6040      M   25           6  11106\n",
       "\n",
       "[6040 rows x 5 columns]"
      ]
     },
     "execution_count": 3,
     "metadata": {},
     "output_type": "execute_result"
    }
   ],
   "source": [
    "users"
   ]
  },
  {
   "cell_type": "code",
   "execution_count": 4,
   "id": "b43ccc81-2db4-4e3c-8924-4d27bccaea4c",
   "metadata": {},
   "outputs": [],
   "source": [
    "ratings\n",
    "\n",
    "#Preprocess users\n",
    "users['gender'], uniques = pd.factorize(users['gender'])\n",
    "users['occupation'], uniques = pd.factorize(users['occupation'])\n",
    "users['zip'], uniques = pd.factorize(users['zip'])\n",
    "##Set category dtype\n",
    "users['gender'] = users.gender.astype('category')\n",
    "users['occupation'] = users.occupation.astype('category')\n",
    "users['zip'] = users.zip.astype('category')\n",
    "\n",
    "#Preprocess movies, \n",
    "##categories to index\n",
    "movies['title'], uniques = pd.factorize(movies['title'])\n",
    "movies['genres'], uniques = pd.factorize(movies['genres'])\n",
    "##Set category dtype\n",
    "movies['title'] = movies.title.astype('category')\n",
    "movies['genres'] = movies.genres.astype('category')"
   ]
  },
  {
   "cell_type": "code",
   "execution_count": 5,
   "id": "4bf95e43-1404-4fa7-bc0b-2e23a4c77eb2",
   "metadata": {},
   "outputs": [],
   "source": [
    "dataset = InteractionsDataset(ratings, users, movies, item_id=\"movie_id\")\n",
    "train = DataLoader(dataset, batch_size=5)"
   ]
  },
  {
   "cell_type": "code",
   "execution_count": 6,
   "id": "41f3d5f2-20b8-4f4e-8a5d-e7596bc9894b",
   "metadata": {},
   "outputs": [],
   "source": [
    "for u in train:\n",
    "    break"
   ]
  },
  {
   "cell_type": "code",
   "execution_count": 7,
   "id": "49af7160-87e2-4227-9305-bb49ded73d07",
   "metadata": {},
   "outputs": [
    {
     "data": {
      "text/plain": [
       "{'interactions': [6040, 3952],\n",
       " 'context': [<torchrecsys.datasets.datasets.feature at 0x7f6580dd64f0>],\n",
       " 'user_features': [<torchrecsys.datasets.datasets.feature at 0x7f6580dd6910>,\n",
       "  <torchrecsys.datasets.datasets.feature at 0x7f6580dd6a00>,\n",
       "  <torchrecsys.datasets.datasets.feature at 0x7f6580dd6c40>,\n",
       "  <torchrecsys.datasets.datasets.feature at 0x7f6580dd6d30>,\n",
       "  <torchrecsys.datasets.datasets.feature at 0x7f6580dd6eb0>],\n",
       " 'item_features': [<torchrecsys.datasets.datasets.feature at 0x7f6580dd6580>,\n",
       "  <torchrecsys.datasets.datasets.feature at 0x7f6580dd6670>,\n",
       "  <torchrecsys.datasets.datasets.feature at 0x7f6580dd67f0>],\n",
       " 'objetive': 'notbinary?'}"
      ]
     },
     "execution_count": 7,
     "metadata": {},
     "output_type": "execute_result"
    }
   ],
   "source": [
    "dataset.data_schema"
   ]
  },
  {
   "cell_type": "code",
   "execution_count": 8,
   "id": "ebde8c31-3331-4b20-af9a-3da5e57fa3a1",
   "metadata": {},
   "outputs": [
    {
     "data": {
      "text/plain": [
       "(array([        1,      1193,         5, 978300760]),\n",
       " array([978300760]),\n",
       " array([1, 0, 1, 0, 0]),\n",
       " array([1193, 1176,   12]))"
      ]
     },
     "execution_count": 8,
     "metadata": {},
     "output_type": "execute_result"
    }
   ],
   "source": [
    "dataset[0]"
   ]
  },
  {
   "cell_type": "code",
   "execution_count": 9,
   "id": "808e561f-5d4a-4506-a40d-2b42ca08d711",
   "metadata": {},
   "outputs": [],
   "source": [
    "\n",
    "model = NeuralCF(dataset.data_schema)"
   ]
  },
  {
   "cell_type": "code",
   "execution_count": 10,
   "id": "c50ae6ed-e6bf-49ba-a9ee-ace4cce972b8",
   "metadata": {},
   "outputs": [
    {
     "data": {
      "text/plain": [
       "[tensor([[        1,      1193,         5, 978300760],\n",
       "         [        1,       661,         3, 978302109],\n",
       "         [        1,       914,         3, 978301968],\n",
       "         [        1,      3408,         4, 978300275],\n",
       "         [        1,      2355,         5, 978824291]]),\n",
       " tensor([[978300760],\n",
       "         [978302109],\n",
       "         [978301968],\n",
       "         [978300275],\n",
       "         [978824291]]),\n",
       " tensor([[1, 0, 1, 0, 0],\n",
       "         [1, 0, 1, 0, 0],\n",
       "         [1, 0, 1, 0, 0],\n",
       "         [1, 0, 1, 0, 0],\n",
       "         [1, 0, 1, 0, 0]]),\n",
       " tensor([[1193, 1176,   12],\n",
       "         [ 661,  655,   83],\n",
       "         [ 914,  902,  138],\n",
       "         [3408, 3339,   12],\n",
       "         [2355, 2286,    0]])]"
      ]
     },
     "execution_count": 10,
     "metadata": {},
     "output_type": "execute_result"
    }
   ],
   "source": [
    "u"
   ]
  },
  {
   "cell_type": "code",
   "execution_count": 11,
   "id": "45d279c5-e545-432d-a90b-608073452ddb",
   "metadata": {},
   "outputs": [
    {
     "data": {
      "text/plain": [
       "tensor([1, 1, 1, 1, 1])"
      ]
     },
     "execution_count": 11,
     "metadata": {},
     "output_type": "execute_result"
    }
   ],
   "source": [
    "u[0][:, 0]"
   ]
  },
  {
   "cell_type": "code",
   "execution_count": 12,
   "id": "d4cb901c-72dd-4b52-8b85-ca0501501dae",
   "metadata": {},
   "outputs": [
    {
     "data": {
      "text/plain": [
       "MSELoss()"
      ]
     },
     "execution_count": 12,
     "metadata": {},
     "output_type": "execute_result"
    }
   ],
   "source": [
    "model.criterion"
   ]
  },
  {
   "cell_type": "code",
   "execution_count": 13,
   "id": "42405d75-5a73-4dfe-ba83-720f708c4939",
   "metadata": {},
   "outputs": [
    {
     "data": {
      "text/plain": [
       "3952"
      ]
     },
     "execution_count": 13,
     "metadata": {},
     "output_type": "execute_result"
    }
   ],
   "source": [
    "model.n_items"
   ]
  },
  {
   "cell_type": "code",
   "execution_count": 15,
   "id": "9c726aad-81a8-47ec-bfa5-777cc8fa7236",
   "metadata": {},
   "outputs": [
    {
     "name": "stderr",
     "output_type": "stream",
     "text": [
      "GPU available: True, used: False\n",
      "TPU available: False, using: 0 TPU cores\n",
      "IPU available: False, using: 0 IPUs\n",
      "/home/jiwidi/miniconda3/envs/cuda/lib/python3.8/site-packages/pytorch_lightning/trainer/trainer.py:1566: UserWarning: GPU available but not used. Set the gpus flag in your trainer `Trainer(gpus=1)` or script `--gpus=1`.\n",
      "  rank_zero_warn(\n",
      "/home/jiwidi/miniconda3/envs/cuda/lib/python3.8/site-packages/pytorch_lightning/trainer/configuration_validator.py:118: UserWarning: You defined a `validation_step` but have no `val_dataloader`. Skipping val loop.\n",
      "  rank_zero_warn(\"You defined a `validation_step` but have no `val_dataloader`. Skipping val loop.\")\n",
      "\n",
      "  | Name               | Type      | Params\n",
      "-------------------------------------------------\n",
      "0 | user_embedding     | Embedding | 386 K \n",
      "1 | item_embedding     | Embedding | 252 K \n",
      "2 | linear             | Linear    | 33.3 K\n",
      "3 | final_linear       | Linear    | 513   \n",
      "4 | feature1_embedding | Embedding | 31.1 K\n",
      "5 | feature2_embedding | Embedding | 2.4 K \n",
      "6 | criterion          | MSELoss   | 0     \n",
      "-------------------------------------------------\n",
      "706 K     Trainable params\n",
      "0         Non-trainable params\n",
      "706 K     Total params\n",
      "2.828     Total estimated model params size (MB)\n",
      "/home/jiwidi/miniconda3/envs/cuda/lib/python3.8/site-packages/pytorch_lightning/trainer/data_loading.py:110: UserWarning: The dataloader, train_dataloader, does not have many workers which may be a bottleneck. Consider increasing the value of the `num_workers` argument` (try 12 which is the number of cpus on this machine) in the `DataLoader` init to improve performance.\n",
      "  rank_zero_warn(\n"
     ]
    },
    {
     "data": {
      "application/vnd.jupyter.widget-view+json": {
       "model_id": "35afccb089114b439e96d47a0bd9c1b2",
       "version_major": 2,
       "version_minor": 0
      },
      "text/plain": [
       "Training: 0it [00:00, ?it/s]"
      ]
     },
     "metadata": {},
     "output_type": "display_data"
    },
    {
     "name": "stderr",
     "output_type": "stream",
     "text": [
      "/home/jiwidi/miniconda3/envs/cuda/lib/python3.8/site-packages/pytorch_lightning/trainer/trainer.py:685: UserWarning: Detected KeyboardInterrupt, attempting graceful shutdown...\n",
      "  rank_zero_warn(\"Detected KeyboardInterrupt, attempting graceful shutdown...\")\n"
     ]
    }
   ],
   "source": [
    "trainer = Trainer()\n",
    "trainer.fit(model, train)"
   ]
  },
  {
   "cell_type": "code",
   "execution_count": null,
   "id": "42910690-6f74-4b26-ac9a-0d647db1c696",
   "metadata": {},
   "outputs": [],
   "source": [
    "import torch\n",
    "x = torch.zeros(5, 1)\n",
    "torch.squeeze(x).shape"
   ]
  },
  {
   "cell_type": "code",
   "execution_count": null,
   "id": "30573bc8-f3a4-413c-86a1-58d2e70f1cea",
   "metadata": {},
   "outputs": [],
   "source": []
  }
 ],
 "metadata": {
  "kernelspec": {
   "display_name": "cuda",
   "language": "python",
   "name": "cuda"
  },
  "language_info": {
   "codemirror_mode": {
    "name": "ipython",
    "version": 3
   },
   "file_extension": ".py",
   "mimetype": "text/x-python",
   "name": "python",
   "nbconvert_exporter": "python",
   "pygments_lexer": "ipython3",
   "version": "3.8.12"
  }
 },
 "nbformat": 4,
 "nbformat_minor": 5
}
