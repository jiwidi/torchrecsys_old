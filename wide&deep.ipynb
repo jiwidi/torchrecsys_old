{
 "cells": [
  {
   "cell_type": "code",
   "execution_count": 1,
   "id": "3b208d48-2e13-4f46-82ac-36f267819697",
   "metadata": {},
   "outputs": [],
   "source": [
    "from torchrecsys.datasets import InteractionsDataset, SequenceDataset\n",
    "from torchrecsys.models import BaseModel, NeuralCF\n",
    "from torchrecsys.task import Ranking\n",
    "from torchrecsys.layers import BruteForceLayer\n",
    "from torchrecsys.utils import feature_catalog\n",
    "from torchrecsys import Trainer\n",
    "import pandas as pd\n",
    "\n",
    "from torch.utils.data import DataLoader"
   ]
  },
  {
   "cell_type": "code",
   "execution_count": 2,
   "id": "b43ccc81-2db4-4e3c-8924-4d27bccaea4c",
   "metadata": {},
   "outputs": [
    {
     "name": "stdout",
     "output_type": "stream",
     "text": [
      "        item                                      title  \\\n",
      "0          1                           Toy Story (1995)   \n",
      "1          2                             Jumanji (1995)   \n",
      "2          3                    Grumpier Old Men (1995)   \n",
      "3          4                   Waiting to Exhale (1995)   \n",
      "4          5         Father of the Bride Part II (1995)   \n",
      "...      ...                                        ...   \n",
      "9737  193581  Black Butler: Book of the Atlantic (2017)   \n",
      "9738  193583               No Game No Life: Zero (2017)   \n",
      "9739  193585                               Flint (2017)   \n",
      "9740  193587        Bungo Stray Dogs: Dead Apple (2018)   \n",
      "9741  193609        Andrew Dice Clay: Dice Rules (1991)   \n",
      "\n",
      "                                           genres  \n",
      "0     Adventure|Animation|Children|Comedy|Fantasy  \n",
      "1                      Adventure|Children|Fantasy  \n",
      "2                                  Comedy|Romance  \n",
      "3                            Comedy|Drama|Romance  \n",
      "4                                          Comedy  \n",
      "...                                           ...  \n",
      "9737              Action|Animation|Comedy|Fantasy  \n",
      "9738                     Animation|Comedy|Fantasy  \n",
      "9739                                        Drama  \n",
      "9740                             Action|Animation  \n",
      "9741                                       Comedy  \n",
      "\n",
      "[9742 rows x 3 columns]\n"
     ]
    }
   ],
   "source": [
    "ratings = pd.read_csv(\"ml-100k/ratings.csv\").rename(columns={\"userId\": \"user\", \"movieId\": \"item\"})\n",
    "movies = pd.read_csv(\"ml-100k/movies.csv\").rename(columns={\"movieId\": \"item\"})\n",
    "users = ratings[[\"user\"]].drop_duplicates()\n",
    "\n",
    "\n",
    "print(movies)\n",
    "movies['title'], uniques = pd.factorize(movies['title'])\n",
    "movies['genres'], uniques = pd.factorize(movies['genres'])\n",
    "\n",
    "movies['title'] = movies.title.astype('category')\n",
    "movies['genres'] = movies.genres.astype('category')"
   ]
  },
  {
   "cell_type": "code",
   "execution_count": null,
   "id": "b6413968-9e5d-459f-a6a3-36c6cdbfe089",
   "metadata": {},
   "outputs": [],
   "source": []
  },
  {
   "cell_type": "code",
   "execution_count": 3,
   "id": "4bf95e43-1404-4fa7-bc0b-2e23a4c77eb2",
   "metadata": {},
   "outputs": [],
   "source": [
    "dataset = InteractionsDataset(ratings, users, movies, target_column=True)\n",
    "train = DataLoader(dataset, batch_size=5)"
   ]
  },
  {
   "cell_type": "code",
   "execution_count": 4,
   "id": "41f3d5f2-20b8-4f4e-8a5d-e7596bc9894b",
   "metadata": {},
   "outputs": [],
   "source": [
    "for u in train:\n",
    "    break"
   ]
  },
  {
   "cell_type": "code",
   "execution_count": 5,
   "id": "49af7160-87e2-4227-9305-bb49ded73d07",
   "metadata": {},
   "outputs": [
    {
     "data": {
      "text/plain": [
       "{'interactions': [610, 193609],\n",
       " 'context': [],\n",
       " 'user_features': [['int64', 610]],\n",
       " 'item_features': [['int64', 9742], ['category', 9737], ['category', 951]],\n",
       " 'objetive': 'notbinary?'}"
      ]
     },
     "execution_count": 5,
     "metadata": {},
     "output_type": "execute_result"
    }
   ],
   "source": [
    "dataset.data_schema"
   ]
  },
  {
   "cell_type": "code",
   "execution_count": 6,
   "id": "ebde8c31-3331-4b20-af9a-3da5e57fa3a1",
   "metadata": {},
   "outputs": [
    {
     "data": {
      "text/plain": [
       "(array([1., 1., 4.]), array([], dtype=float64), array([1]), array([1, 0, 0]))"
      ]
     },
     "execution_count": 6,
     "metadata": {},
     "output_type": "execute_result"
    }
   ],
   "source": [
    "dataset[0]"
   ]
  },
  {
   "cell_type": "code",
   "execution_count": 7,
   "id": "808e561f-5d4a-4506-a40d-2b42ca08d711",
   "metadata": {},
   "outputs": [],
   "source": [
    "\n",
    "model = NeuralCF(dataset.data_schema)"
   ]
  },
  {
   "cell_type": "code",
   "execution_count": 8,
   "id": "c50ae6ed-e6bf-49ba-a9ee-ace4cce972b8",
   "metadata": {},
   "outputs": [
    {
     "data": {
      "text/plain": [
       "[tensor([[ 1.,  1.,  4.],\n",
       "         [ 1.,  3.,  4.],\n",
       "         [ 1.,  6.,  4.],\n",
       "         [ 1., 47.,  5.],\n",
       "         [ 1., 50.,  5.]], dtype=torch.float64),\n",
       " tensor([], size=(5, 0), dtype=torch.float64),\n",
       " tensor([[1],\n",
       "         [1],\n",
       "         [1],\n",
       "         [1],\n",
       "         [1]]),\n",
       " tensor([[ 1,  0,  0],\n",
       "         [ 3,  2,  2],\n",
       "         [ 6,  5,  5],\n",
       "         [47, 43, 27],\n",
       "         [50, 46, 29]])]"
      ]
     },
     "execution_count": 8,
     "metadata": {},
     "output_type": "execute_result"
    }
   ],
   "source": [
    "u"
   ]
  },
  {
   "cell_type": "code",
   "execution_count": 9,
   "id": "45d279c5-e545-432d-a90b-608073452ddb",
   "metadata": {},
   "outputs": [
    {
     "data": {
      "text/plain": [
       "tensor([1., 1., 1., 1., 1.], dtype=torch.float64)"
      ]
     },
     "execution_count": 9,
     "metadata": {},
     "output_type": "execute_result"
    }
   ],
   "source": [
    "u[0][:, 0]"
   ]
  },
  {
   "cell_type": "code",
   "execution_count": 10,
   "id": "d4cb901c-72dd-4b52-8b85-ca0501501dae",
   "metadata": {},
   "outputs": [
    {
     "data": {
      "text/plain": [
       "MSELoss()"
      ]
     },
     "execution_count": 10,
     "metadata": {},
     "output_type": "execute_result"
    }
   ],
   "source": [
    "model.criterion"
   ]
  },
  {
   "cell_type": "code",
   "execution_count": 11,
   "id": "42405d75-5a73-4dfe-ba83-720f708c4939",
   "metadata": {},
   "outputs": [
    {
     "data": {
      "text/plain": [
       "193609"
      ]
     },
     "execution_count": 11,
     "metadata": {},
     "output_type": "execute_result"
    }
   ],
   "source": [
    "model.n_items"
   ]
  },
  {
   "cell_type": "code",
   "execution_count": 12,
   "id": "9d82d1aa-bf75-492b-9a68-dc2bf298d0ec",
   "metadata": {},
   "outputs": [
    {
     "data": {
      "text/plain": [
       "193609"
      ]
     },
     "execution_count": 12,
     "metadata": {},
     "output_type": "execute_result"
    }
   ],
   "source": [
    "movies.item.max()"
   ]
  },
  {
   "cell_type": "code",
   "execution_count": null,
   "id": "9c726aad-81a8-47ec-bfa5-777cc8fa7236",
   "metadata": {},
   "outputs": [
    {
     "name": "stderr",
     "output_type": "stream",
     "text": [
      "GPU available: False, used: False\n",
      "TPU available: False, using: 0 TPU cores\n",
      "IPU available: False, using: 0 IPUs\n",
      "/Users/jafen/miniconda3/envs/hm37/lib/python3.7/site-packages/pytorch_lightning/trainer/configuration_validator.py:118: UserWarning: You defined a `validation_step` but have no `val_dataloader`. Skipping val loop.\n",
      "  rank_zero_warn(\"You defined a `validation_step` but have no `val_dataloader`. Skipping val loop.\")\n",
      "\n",
      "  | Name               | Type      | Params\n",
      "-------------------------------------------------\n",
      "0 | user_embedding     | Embedding | 39.1 K\n",
      "1 | item_embedding     | Embedding | 12.4 M\n",
      "2 | linear             | Linear    | 33.3 K\n",
      "3 | final_linear       | Linear    | 513   \n",
      "4 | feature1_embedding | Embedding | 77.9 K\n",
      "5 | feature2_embedding | Embedding | 7.6 K \n",
      "6 | criterion          | MSELoss   | 0     \n",
      "-------------------------------------------------\n",
      "12.5 M    Trainable params\n",
      "0         Non-trainable params\n",
      "12.5 M    Total params\n",
      "50.198    Total estimated model params size (MB)\n",
      "/Users/jafen/miniconda3/envs/hm37/lib/python3.7/site-packages/pytorch_lightning/trainer/data_loading.py:111: UserWarning: The dataloader, train_dataloader, does not have many workers which may be a bottleneck. Consider increasing the value of the `num_workers` argument` (try 8 which is the number of cpus on this machine) in the `DataLoader` init to improve performance.\n",
      "  f\"The dataloader, {name}, does not have many workers which may be a bottleneck.\"\n"
     ]
    },
    {
     "data": {
      "application/vnd.jupyter.widget-view+json": {
       "model_id": "c30f1725a6a24a178cbac15a21d5541a",
       "version_major": 2,
       "version_minor": 0
      },
      "text/plain": [
       "Training: 0it [00:00, ?it/s]"
      ]
     },
     "metadata": {},
     "output_type": "display_data"
    }
   ],
   "source": [
    "trainer = Trainer()\n",
    "trainer.fit(model, train)"
   ]
  },
  {
   "cell_type": "code",
   "execution_count": null,
   "id": "42910690-6f74-4b26-ac9a-0d647db1c696",
   "metadata": {},
   "outputs": [],
   "source": [
    "import torch\n",
    "x = torch.zeros(5, 1)\n",
    "torch.squeeze(x).shape"
   ]
  },
  {
   "cell_type": "code",
   "execution_count": null,
   "id": "30573bc8-f3a4-413c-86a1-58d2e70f1cea",
   "metadata": {},
   "outputs": [],
   "source": []
  }
 ],
 "metadata": {
  "kernelspec": {
   "display_name": "hm37",
   "language": "python",
   "name": "hm37"
  },
  "language_info": {
   "codemirror_mode": {
    "name": "ipython",
    "version": 3
   },
   "file_extension": ".py",
   "mimetype": "text/x-python",
   "name": "python",
   "nbconvert_exporter": "python",
   "pygments_lexer": "ipython3",
   "version": "3.7.11"
  }
 },
 "nbformat": 4,
 "nbformat_minor": 5
}
